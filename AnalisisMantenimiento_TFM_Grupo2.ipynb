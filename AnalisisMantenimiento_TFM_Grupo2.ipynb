{
 "cells": [
  {
   "cell_type": "markdown",
   "metadata": {},
   "source": [
    "# ANÁLISIS USUARIOS DE MANTENIMIENTO"
   ]
  },
  {
   "cell_type": "markdown",
   "metadata": {},
   "source": [
    "# GRUPO 2"
   ]
  },
  {
   "cell_type": "code",
   "execution_count": null,
   "metadata": {},
   "outputs": [],
   "source": [
    "# Los datos se han obtenido del portal público de información de la Empresa Municipal de Transportes de Madrid"
   ]
  },
  {
   "cell_type": "code",
   "execution_count": 289,
   "metadata": {},
   "outputs": [],
   "source": [
    "# En este documento se hace un análisis principalmente de los movimientos de BiciMAD de los user_type = 3, que son\n",
    "# los trabajadores de BiciMAD"
   ]
  },
  {
   "cell_type": "markdown",
   "metadata": {},
   "source": [
    "# CARGA Y LECTURA DE DATOS"
   ]
  },
  {
   "cell_type": "code",
   "execution_count": 1,
   "metadata": {},
   "outputs": [],
   "source": [
    "#Librerías a utilizar\n",
    "import json\n",
    "import numpy as np\n",
    "import pandas as pd\n",
    "import matplotlib.pyplot as plt\n",
    "import seaborn as sns\n",
    "from sklearn.preprocessing import LabelEncoder"
   ]
  },
  {
   "cell_type": "code",
   "execution_count": 2,
   "metadata": {},
   "outputs": [],
   "source": [
    "df_UsoFeb = pd.read_json('BiciMAD_movements_2020_1_6/202002_movements.json', lines=True)\n",
    "df_UsoEne = pd.read_json('BiciMAD_movements_2020_1_6/202001_movements.json', lines=True)\n",
    "df_UsoMar = pd.read_json('BiciMAD_movements_2020_1_6/202003_movements.json', lines=True)\n",
    "df_UsoAbr = pd.read_json('BiciMAD_movements_2020_1_6/202004_movements.json', lines=True)\n",
    "df_UsoMay = pd.read_json('BiciMAD_movements_2020_1_6/202005_movements.json', lines=True)\n",
    "df_UsoJun = pd.read_json('BiciMAD_movements_2020_1_6/202006_movements.json', lines=True)\n",
    "df_UsoDic = pd.read_json('BiciMAD_movements_2019_7_12/201912_movements.json', lines=True)\n",
    "df_UsoNov = pd.read_json('BiciMAD_movements_2019_7_12/201911_movements.json', lines=True)\n",
    "df_UsoOct = pd.read_json('BiciMAD_movements_2019_7_12/201910_movements.json', lines=True)\n",
    "df_UsoSep = pd.read_json('BiciMAD_movements_2019_7_12/201909_movements.json', lines=True)\n",
    "df_UsoAgo = pd.read_json('BiciMAD_movements_2019_7_12/201908_movements.json', lines=True)\n",
    "df_UsoJul = pd.read_json('BiciMAD_movements_2019_7_12/201907_movements.json', lines=True)"
   ]
  },
  {
   "cell_type": "code",
   "execution_count": 3,
   "metadata": {
    "scrolled": false
   },
   "outputs": [
    {
     "data": {
      "text/html": [
       "<div>\n",
       "<style scoped>\n",
       "    .dataframe tbody tr th:only-of-type {\n",
       "        vertical-align: middle;\n",
       "    }\n",
       "\n",
       "    .dataframe tbody tr th {\n",
       "        vertical-align: top;\n",
       "    }\n",
       "\n",
       "    .dataframe thead th {\n",
       "        text-align: right;\n",
       "    }\n",
       "</style>\n",
       "<table border=\"1\" class=\"dataframe\">\n",
       "  <thead>\n",
       "    <tr style=\"text-align: right;\">\n",
       "      <th></th>\n",
       "      <th>_id</th>\n",
       "      <th>user_day_code</th>\n",
       "      <th>idplug_base</th>\n",
       "      <th>user_type</th>\n",
       "      <th>idunplug_base</th>\n",
       "      <th>travel_time</th>\n",
       "      <th>idunplug_station</th>\n",
       "      <th>ageRange</th>\n",
       "      <th>idplug_station</th>\n",
       "      <th>unplug_hourTime</th>\n",
       "      <th>zip_code</th>\n",
       "    </tr>\n",
       "  </thead>\n",
       "  <tbody>\n",
       "    <tr>\n",
       "      <td>0</td>\n",
       "      <td>{'$oid': '5ee862cecc8c1e839b419387'}</td>\n",
       "      <td>509e6a72b7673f533912bf647d20df19305b848fbc1b89...</td>\n",
       "      <td>5</td>\n",
       "      <td>1</td>\n",
       "      <td>20</td>\n",
       "      <td>154</td>\n",
       "      <td>44</td>\n",
       "      <td>5</td>\n",
       "      <td>40</td>\n",
       "      <td>2019-07-01T00:00:00Z</td>\n",
       "      <td>28007</td>\n",
       "    </tr>\n",
       "    <tr>\n",
       "      <td>1</td>\n",
       "      <td>{'$oid': '5ee862cecc8c1e839b41938c'}</td>\n",
       "      <td>90069a1194c3eb9e6faecaaf4eefb7209e890c0df5aeac...</td>\n",
       "      <td>8</td>\n",
       "      <td>1</td>\n",
       "      <td>17</td>\n",
       "      <td>184</td>\n",
       "      <td>57</td>\n",
       "      <td>4</td>\n",
       "      <td>129</td>\n",
       "      <td>2019-07-01T00:00:00Z</td>\n",
       "      <td>28045</td>\n",
       "    </tr>\n",
       "    <tr>\n",
       "      <td>2</td>\n",
       "      <td>{'$oid': '5ee862cecc8c1e839b419394'}</td>\n",
       "      <td>b0ecaab6a35b7ea44d118f851f7fad5c2237e7dd51b337...</td>\n",
       "      <td>15</td>\n",
       "      <td>1</td>\n",
       "      <td>16</td>\n",
       "      <td>282</td>\n",
       "      <td>53</td>\n",
       "      <td>4</td>\n",
       "      <td>43</td>\n",
       "      <td>2019-07-01T00:00:00Z</td>\n",
       "      <td></td>\n",
       "    </tr>\n",
       "    <tr>\n",
       "      <td>3</td>\n",
       "      <td>{'$oid': '5ee862cecc8c1e839b41939e'}</td>\n",
       "      <td>5e1b8a8c4603ee8ac4f06aba12ff51e2c5dd105b6e5193...</td>\n",
       "      <td>18</td>\n",
       "      <td>1</td>\n",
       "      <td>18</td>\n",
       "      <td>388</td>\n",
       "      <td>56</td>\n",
       "      <td>0</td>\n",
       "      <td>13</td>\n",
       "      <td>2019-07-01T00:00:00Z</td>\n",
       "      <td></td>\n",
       "    </tr>\n",
       "    <tr>\n",
       "      <td>4</td>\n",
       "      <td>{'$oid': '5ee862cecc8c1e839b4193a5'}</td>\n",
       "      <td>80974c4043db61721399c43f296ce1db4436c7f107f8fc...</td>\n",
       "      <td>1</td>\n",
       "      <td>1</td>\n",
       "      <td>20</td>\n",
       "      <td>254</td>\n",
       "      <td>105</td>\n",
       "      <td>0</td>\n",
       "      <td>75</td>\n",
       "      <td>2019-07-01T00:00:00Z</td>\n",
       "      <td></td>\n",
       "    </tr>\n",
       "  </tbody>\n",
       "</table>\n",
       "</div>"
      ],
      "text/plain": [
       "                                    _id  \\\n",
       "0  {'$oid': '5ee862cecc8c1e839b419387'}   \n",
       "1  {'$oid': '5ee862cecc8c1e839b41938c'}   \n",
       "2  {'$oid': '5ee862cecc8c1e839b419394'}   \n",
       "3  {'$oid': '5ee862cecc8c1e839b41939e'}   \n",
       "4  {'$oid': '5ee862cecc8c1e839b4193a5'}   \n",
       "\n",
       "                                       user_day_code  idplug_base  user_type  \\\n",
       "0  509e6a72b7673f533912bf647d20df19305b848fbc1b89...            5          1   \n",
       "1  90069a1194c3eb9e6faecaaf4eefb7209e890c0df5aeac...            8          1   \n",
       "2  b0ecaab6a35b7ea44d118f851f7fad5c2237e7dd51b337...           15          1   \n",
       "3  5e1b8a8c4603ee8ac4f06aba12ff51e2c5dd105b6e5193...           18          1   \n",
       "4  80974c4043db61721399c43f296ce1db4436c7f107f8fc...            1          1   \n",
       "\n",
       "   idunplug_base  travel_time  idunplug_station  ageRange  idplug_station  \\\n",
       "0             20          154                44         5              40   \n",
       "1             17          184                57         4             129   \n",
       "2             16          282                53         4              43   \n",
       "3             18          388                56         0              13   \n",
       "4             20          254               105         0              75   \n",
       "\n",
       "        unplug_hourTime zip_code  \n",
       "0  2019-07-01T00:00:00Z    28007  \n",
       "1  2019-07-01T00:00:00Z    28045  \n",
       "2  2019-07-01T00:00:00Z           \n",
       "3  2019-07-01T00:00:00Z           \n",
       "4  2019-07-01T00:00:00Z           "
      ]
     },
     "execution_count": 3,
     "metadata": {},
     "output_type": "execute_result"
    }
   ],
   "source": [
    "df_UsoJul.head()"
   ]
  },
  {
   "cell_type": "code",
   "execution_count": 4,
   "metadata": {},
   "outputs": [
    {
     "data": {
      "text/plain": [
       "Index(['_id', 'user_day_code', 'idplug_base', 'user_type', 'idunplug_base',\n",
       "       'travel_time', 'idunplug_station', 'ageRange', 'idplug_station',\n",
       "       'unplug_hourTime', 'zip_code'],\n",
       "      dtype='object')"
      ]
     },
     "execution_count": 4,
     "metadata": {},
     "output_type": "execute_result"
    }
   ],
   "source": [
    "df_UsoJul.columns"
   ]
  },
  {
   "cell_type": "code",
   "execution_count": 5,
   "metadata": {},
   "outputs": [],
   "source": [
    "df_UsoEne19 = pd.read_csv('DATOS/201901_movements.csv', sep=';')\n",
    "df_UsoFeb19 = pd.read_csv('DATOS/201902_movements.csv', sep=';')\n",
    "df_UsoMar19 = pd.read_csv('DATOS/201903_movements.csv', sep=';')\n",
    "df_UsoAbr19 = pd.read_csv('DATOS/201904_movements.csv', sep=';')\n",
    "df_UsoMay19 = pd.read_csv('DATOS/201905_movements.csv', sep=';')\n",
    "df_UsoJun19 = pd.read_csv('DATOS/201906_movements.csv', sep=';')"
   ]
  },
  {
   "cell_type": "markdown",
   "metadata": {},
   "source": [
    "# CREACIÓN Y ANÁLISIS DEL DATAFRAME DE MOVIMIENTOS USER3"
   ]
  },
  {
   "cell_type": "code",
   "execution_count": 6,
   "metadata": {},
   "outputs": [],
   "source": [
    "df_old = pd.concat([df_UsoEne19, df_UsoFeb19, df_UsoMar19, df_UsoAbr19, df_UsoMay19, df_UsoJun19])"
   ]
  },
  {
   "cell_type": "code",
   "execution_count": 7,
   "metadata": {},
   "outputs": [
    {
     "data": {
      "text/plain": [
       "Index(['_id.$oid', 'ageRange', 'idplug_base', 'idplug_station',\n",
       "       'idunplug_base', 'idunplug_station', 'travel_time',\n",
       "       'unplug_hourTime.$date', 'user_day_code', 'user_type', 'zip_code'],\n",
       "      dtype='object')"
      ]
     },
     "execution_count": 7,
     "metadata": {},
     "output_type": "execute_result"
    }
   ],
   "source": [
    "df_old.columns"
   ]
  },
  {
   "cell_type": "code",
   "execution_count": 8,
   "metadata": {},
   "outputs": [],
   "source": [
    "df_old = df_old.rename(columns={\"_id.$oid\":\"_id\", \"unplug_hourTime.$date\":\"unplug_hourTime\"})"
   ]
  },
  {
   "cell_type": "code",
   "execution_count": 9,
   "metadata": {},
   "outputs": [
    {
     "data": {
      "text/html": [
       "<div>\n",
       "<style scoped>\n",
       "    .dataframe tbody tr th:only-of-type {\n",
       "        vertical-align: middle;\n",
       "    }\n",
       "\n",
       "    .dataframe tbody tr th {\n",
       "        vertical-align: top;\n",
       "    }\n",
       "\n",
       "    .dataframe thead th {\n",
       "        text-align: right;\n",
       "    }\n",
       "</style>\n",
       "<table border=\"1\" class=\"dataframe\">\n",
       "  <thead>\n",
       "    <tr style=\"text-align: right;\">\n",
       "      <th></th>\n",
       "      <th>_id</th>\n",
       "      <th>user_day_code</th>\n",
       "      <th>idplug_base</th>\n",
       "      <th>user_type</th>\n",
       "      <th>idunplug_base</th>\n",
       "      <th>travel_time</th>\n",
       "      <th>idunplug_station</th>\n",
       "      <th>ageRange</th>\n",
       "      <th>idplug_station</th>\n",
       "      <th>unplug_hourTime</th>\n",
       "      <th>zip_code</th>\n",
       "    </tr>\n",
       "  </thead>\n",
       "  <tbody>\n",
       "    <tr>\n",
       "      <td>0</td>\n",
       "      <td>5c4b07ea2f38432e007daab8</td>\n",
       "      <td>b3b5b61509ab89afbf4d1e589d229bebe6637c2de819f5...</td>\n",
       "      <td>14</td>\n",
       "      <td>1</td>\n",
       "      <td>23</td>\n",
       "      <td>162</td>\n",
       "      <td>82</td>\n",
       "      <td>0</td>\n",
       "      <td>83</td>\n",
       "      <td>2019-01-01T00:00:00Z</td>\n",
       "      <td>NaN</td>\n",
       "    </tr>\n",
       "    <tr>\n",
       "      <td>1</td>\n",
       "      <td>5c4b07ea2f38432e007daaba</td>\n",
       "      <td>a18550d468153bb8e1808d4f0a85955579951832772996...</td>\n",
       "      <td>10</td>\n",
       "      <td>1</td>\n",
       "      <td>1</td>\n",
       "      <td>415</td>\n",
       "      <td>133</td>\n",
       "      <td>5</td>\n",
       "      <td>36</td>\n",
       "      <td>2019-01-01T00:00:00Z</td>\n",
       "      <td>28005</td>\n",
       "    </tr>\n",
       "    <tr>\n",
       "      <td>2</td>\n",
       "      <td>5c4b07ea2f38432e007daabb</td>\n",
       "      <td>905737396c2fe343c84d62eaee3ab66e19632638c5bea7...</td>\n",
       "      <td>5</td>\n",
       "      <td>1</td>\n",
       "      <td>3</td>\n",
       "      <td>545</td>\n",
       "      <td>25</td>\n",
       "      <td>0</td>\n",
       "      <td>90</td>\n",
       "      <td>2019-01-01T00:00:00Z</td>\n",
       "      <td>NaN</td>\n",
       "    </tr>\n",
       "    <tr>\n",
       "      <td>3</td>\n",
       "      <td>5c4b07ea2f38432e007daabe</td>\n",
       "      <td>ed1c1a22c120e7d42cc522c33ab41db549791f3914b273...</td>\n",
       "      <td>4</td>\n",
       "      <td>1</td>\n",
       "      <td>12</td>\n",
       "      <td>448</td>\n",
       "      <td>51</td>\n",
       "      <td>4</td>\n",
       "      <td>44</td>\n",
       "      <td>2019-01-01T00:00:00Z</td>\n",
       "      <td>28005</td>\n",
       "    </tr>\n",
       "    <tr>\n",
       "      <td>4</td>\n",
       "      <td>5c4b07ea2f38432e007daac0</td>\n",
       "      <td>c7d4e8f50d4a318e4f9fb08d4b715dc9015be1f415358b...</td>\n",
       "      <td>17</td>\n",
       "      <td>1</td>\n",
       "      <td>4</td>\n",
       "      <td>639</td>\n",
       "      <td>44</td>\n",
       "      <td>0</td>\n",
       "      <td>125</td>\n",
       "      <td>2019-01-01T00:00:00Z</td>\n",
       "      <td>NaN</td>\n",
       "    </tr>\n",
       "  </tbody>\n",
       "</table>\n",
       "</div>"
      ],
      "text/plain": [
       "                        _id  \\\n",
       "0  5c4b07ea2f38432e007daab8   \n",
       "1  5c4b07ea2f38432e007daaba   \n",
       "2  5c4b07ea2f38432e007daabb   \n",
       "3  5c4b07ea2f38432e007daabe   \n",
       "4  5c4b07ea2f38432e007daac0   \n",
       "\n",
       "                                       user_day_code  idplug_base  user_type  \\\n",
       "0  b3b5b61509ab89afbf4d1e589d229bebe6637c2de819f5...           14          1   \n",
       "1  a18550d468153bb8e1808d4f0a85955579951832772996...           10          1   \n",
       "2  905737396c2fe343c84d62eaee3ab66e19632638c5bea7...            5          1   \n",
       "3  ed1c1a22c120e7d42cc522c33ab41db549791f3914b273...            4          1   \n",
       "4  c7d4e8f50d4a318e4f9fb08d4b715dc9015be1f415358b...           17          1   \n",
       "\n",
       "   idunplug_base  travel_time  idunplug_station  ageRange  idplug_station  \\\n",
       "0             23          162                82         0              83   \n",
       "1              1          415               133         5              36   \n",
       "2              3          545                25         0              90   \n",
       "3             12          448                51         4              44   \n",
       "4              4          639                44         0             125   \n",
       "\n",
       "        unplug_hourTime zip_code  \n",
       "0  2019-01-01T00:00:00Z      NaN  \n",
       "1  2019-01-01T00:00:00Z    28005  \n",
       "2  2019-01-01T00:00:00Z      NaN  \n",
       "3  2019-01-01T00:00:00Z    28005  \n",
       "4  2019-01-01T00:00:00Z      NaN  "
      ]
     },
     "execution_count": 9,
     "metadata": {},
     "output_type": "execute_result"
    }
   ],
   "source": [
    "cols = ['_id', 'user_day_code', 'idplug_base', 'user_type', 'idunplug_base', 'travel_time', \n",
    "        'idunplug_station', 'ageRange', 'idplug_station', 'unplug_hourTime', 'zip_code']\n",
    "df_old = df_old[cols]\n",
    "df_old.head()"
   ]
  },
  {
   "cell_type": "code",
   "execution_count": 10,
   "metadata": {},
   "outputs": [],
   "source": [
    "df_old[\"zip_code\"] = df_old[\"zip_code\"].fillna(0)"
   ]
  },
  {
   "cell_type": "code",
   "execution_count": 11,
   "metadata": {},
   "outputs": [],
   "source": [
    "df_full = pd.concat([df_old, df_UsoJul, df_UsoAgo, df_UsoSep, df_UsoOct, df_UsoNov, df_UsoDic, df_UsoEne, \n",
    "                     df_UsoFeb, df_UsoMar, df_UsoAbr, df_UsoMay, df_UsoJun], \n",
    "                   axis=0, ignore_index=True, sort=False)"
   ]
  },
  {
   "cell_type": "code",
   "execution_count": 12,
   "metadata": {},
   "outputs": [
    {
     "data": {
      "text/html": [
       "<div>\n",
       "<style scoped>\n",
       "    .dataframe tbody tr th:only-of-type {\n",
       "        vertical-align: middle;\n",
       "    }\n",
       "\n",
       "    .dataframe tbody tr th {\n",
       "        vertical-align: top;\n",
       "    }\n",
       "\n",
       "    .dataframe thead th {\n",
       "        text-align: right;\n",
       "    }\n",
       "</style>\n",
       "<table border=\"1\" class=\"dataframe\">\n",
       "  <thead>\n",
       "    <tr style=\"text-align: right;\">\n",
       "      <th></th>\n",
       "      <th>_id</th>\n",
       "      <th>user_day_code</th>\n",
       "      <th>idplug_base</th>\n",
       "      <th>user_type</th>\n",
       "      <th>idunplug_base</th>\n",
       "      <th>travel_time</th>\n",
       "      <th>idunplug_station</th>\n",
       "      <th>ageRange</th>\n",
       "      <th>idplug_station</th>\n",
       "      <th>unplug_hourTime</th>\n",
       "      <th>zip_code</th>\n",
       "    </tr>\n",
       "  </thead>\n",
       "  <tbody>\n",
       "    <tr>\n",
       "      <td>0</td>\n",
       "      <td>5c4b07ea2f38432e007daab8</td>\n",
       "      <td>b3b5b61509ab89afbf4d1e589d229bebe6637c2de819f5...</td>\n",
       "      <td>14</td>\n",
       "      <td>1</td>\n",
       "      <td>23</td>\n",
       "      <td>162</td>\n",
       "      <td>82</td>\n",
       "      <td>0</td>\n",
       "      <td>83</td>\n",
       "      <td>2019-01-01T00:00:00Z</td>\n",
       "      <td>0</td>\n",
       "    </tr>\n",
       "    <tr>\n",
       "      <td>1</td>\n",
       "      <td>5c4b07ea2f38432e007daaba</td>\n",
       "      <td>a18550d468153bb8e1808d4f0a85955579951832772996...</td>\n",
       "      <td>10</td>\n",
       "      <td>1</td>\n",
       "      <td>1</td>\n",
       "      <td>415</td>\n",
       "      <td>133</td>\n",
       "      <td>5</td>\n",
       "      <td>36</td>\n",
       "      <td>2019-01-01T00:00:00Z</td>\n",
       "      <td>28005</td>\n",
       "    </tr>\n",
       "    <tr>\n",
       "      <td>2</td>\n",
       "      <td>5c4b07ea2f38432e007daabb</td>\n",
       "      <td>905737396c2fe343c84d62eaee3ab66e19632638c5bea7...</td>\n",
       "      <td>5</td>\n",
       "      <td>1</td>\n",
       "      <td>3</td>\n",
       "      <td>545</td>\n",
       "      <td>25</td>\n",
       "      <td>0</td>\n",
       "      <td>90</td>\n",
       "      <td>2019-01-01T00:00:00Z</td>\n",
       "      <td>0</td>\n",
       "    </tr>\n",
       "    <tr>\n",
       "      <td>3</td>\n",
       "      <td>5c4b07ea2f38432e007daabe</td>\n",
       "      <td>ed1c1a22c120e7d42cc522c33ab41db549791f3914b273...</td>\n",
       "      <td>4</td>\n",
       "      <td>1</td>\n",
       "      <td>12</td>\n",
       "      <td>448</td>\n",
       "      <td>51</td>\n",
       "      <td>4</td>\n",
       "      <td>44</td>\n",
       "      <td>2019-01-01T00:00:00Z</td>\n",
       "      <td>28005</td>\n",
       "    </tr>\n",
       "    <tr>\n",
       "      <td>4</td>\n",
       "      <td>5c4b07ea2f38432e007daac0</td>\n",
       "      <td>c7d4e8f50d4a318e4f9fb08d4b715dc9015be1f415358b...</td>\n",
       "      <td>17</td>\n",
       "      <td>1</td>\n",
       "      <td>4</td>\n",
       "      <td>639</td>\n",
       "      <td>44</td>\n",
       "      <td>0</td>\n",
       "      <td>125</td>\n",
       "      <td>2019-01-01T00:00:00Z</td>\n",
       "      <td>0</td>\n",
       "    </tr>\n",
       "  </tbody>\n",
       "</table>\n",
       "</div>"
      ],
      "text/plain": [
       "                        _id  \\\n",
       "0  5c4b07ea2f38432e007daab8   \n",
       "1  5c4b07ea2f38432e007daaba   \n",
       "2  5c4b07ea2f38432e007daabb   \n",
       "3  5c4b07ea2f38432e007daabe   \n",
       "4  5c4b07ea2f38432e007daac0   \n",
       "\n",
       "                                       user_day_code  idplug_base  user_type  \\\n",
       "0  b3b5b61509ab89afbf4d1e589d229bebe6637c2de819f5...           14          1   \n",
       "1  a18550d468153bb8e1808d4f0a85955579951832772996...           10          1   \n",
       "2  905737396c2fe343c84d62eaee3ab66e19632638c5bea7...            5          1   \n",
       "3  ed1c1a22c120e7d42cc522c33ab41db549791f3914b273...            4          1   \n",
       "4  c7d4e8f50d4a318e4f9fb08d4b715dc9015be1f415358b...           17          1   \n",
       "\n",
       "   idunplug_base  travel_time  idunplug_station  ageRange  idplug_station  \\\n",
       "0             23          162                82         0              83   \n",
       "1              1          415               133         5              36   \n",
       "2              3          545                25         0              90   \n",
       "3             12          448                51         4              44   \n",
       "4              4          639                44         0             125   \n",
       "\n",
       "        unplug_hourTime zip_code  \n",
       "0  2019-01-01T00:00:00Z        0  \n",
       "1  2019-01-01T00:00:00Z    28005  \n",
       "2  2019-01-01T00:00:00Z        0  \n",
       "3  2019-01-01T00:00:00Z    28005  \n",
       "4  2019-01-01T00:00:00Z        0  "
      ]
     },
     "execution_count": 12,
     "metadata": {},
     "output_type": "execute_result"
    }
   ],
   "source": [
    "df_full.head()"
   ]
  },
  {
   "cell_type": "code",
   "execution_count": 14,
   "metadata": {},
   "outputs": [],
   "source": [
    "# Se convierten algunas variables a tipo string\n",
    "df_full._id = df_full._id.astype(str)\n",
    "df_full.user_day_code = df_full.user_day_code.astype(str)"
   ]
  },
  {
   "cell_type": "code",
   "execution_count": 15,
   "metadata": {},
   "outputs": [],
   "source": [
    "# Se utiliza LabelEncoder para transformar las variables \"_id\" y \"user_day_code\"\n",
    "transf = LabelEncoder()\n",
    "df_full._id = transf.fit_transform(df_full._id)\n",
    "df_full.user_day_code = transf.fit_transform(df_full.user_day_code)"
   ]
  },
  {
   "cell_type": "code",
   "execution_count": 16,
   "metadata": {},
   "outputs": [
    {
     "data": {
      "text/plain": [
       "0        2578584\n",
       "28005     261307\n",
       "28012     214184\n",
       "28007     199694\n",
       "28004     194399\n",
       "          ...   \n",
       "01011          1\n",
       "3293           1\n",
       "3680           1\n",
       "28709          1\n",
       "03005          1\n",
       "Name: zip_code, Length: 747, dtype: int64"
      ]
     },
     "execution_count": 16,
     "metadata": {},
     "output_type": "execute_result"
    }
   ],
   "source": [
    "# Se sustituyen los valores de \"zip_code\" en blanco por 0\n",
    "df_full[\"zip_code\"] = df_full[\"zip_code\"].replace([''], 0)\n",
    "df_full[\"zip_code\"].value_counts()"
   ]
  },
  {
   "cell_type": "code",
   "execution_count": 17,
   "metadata": {
    "scrolled": true
   },
   "outputs": [
    {
     "data": {
      "text/plain": [
       "(72, 11)"
      ]
     },
     "execution_count": 17,
     "metadata": {},
     "output_type": "execute_result"
    }
   ],
   "source": [
    "# Observamos si existen registros con valores negativos en la variable \"travel_time\"\n",
    "df_full[df_full.travel_time < 0].shape"
   ]
  },
  {
   "cell_type": "code",
   "execution_count": 18,
   "metadata": {
    "scrolled": false
   },
   "outputs": [
    {
     "name": "stderr",
     "output_type": "stream",
     "text": [
      "C:\\Users\\adria\\Anaconda3\\lib\\site-packages\\pandas\\core\\indexing.py:205: SettingWithCopyWarning: \n",
      "A value is trying to be set on a copy of a slice from a DataFrame\n",
      "\n",
      "See the caveats in the documentation: http://pandas.pydata.org/pandas-docs/stable/user_guide/indexing.html#returning-a-view-versus-a-copy\n",
      "  self._setitem_with_indexer(indexer, value)\n"
     ]
    }
   ],
   "source": [
    "# Como hay registros con valores negativos y tienen una proporción muy baja, se eliminan\n",
    "df_full[\"travel_time\"].loc[df_full[\"travel_time\"] < 0] = 0"
   ]
  },
  {
   "cell_type": "code",
   "execution_count": 19,
   "metadata": {},
   "outputs": [],
   "source": [
    "# La variable fecha se covierte a datetime\n",
    "df_full[\"time\"] = pd.to_datetime(df_full[\"unplug_hourTime\"], utc=True)"
   ]
  },
  {
   "cell_type": "code",
   "execution_count": 20,
   "metadata": {},
   "outputs": [],
   "source": [
    "# Y se generan nuevas variables que puedan aportar más información: hour, day, week-day, month, year\n",
    "df_full.loc[:, \"hour\"] = df_full.loc[:, \"time\"].dt.hour\n",
    "df_full.loc[:, \"day\"] = df_full.loc[:, \"time\"].dt.day\n",
    "df_full.loc[:, \"wday\"] = df_full.loc[:, \"time\"].dt.weekday\n",
    "df_full.loc[:, \"month\"] = df_full.loc[:, \"time\"].dt.month\n",
    "df_full.loc[:, \"year\"] = df_full.loc[:, \"time\"].dt.year"
   ]
  },
  {
   "cell_type": "code",
   "execution_count": 21,
   "metadata": {
    "scrolled": false
   },
   "outputs": [
    {
     "data": {
      "text/html": [
       "<div>\n",
       "<style scoped>\n",
       "    .dataframe tbody tr th:only-of-type {\n",
       "        vertical-align: middle;\n",
       "    }\n",
       "\n",
       "    .dataframe tbody tr th {\n",
       "        vertical-align: top;\n",
       "    }\n",
       "\n",
       "    .dataframe thead th {\n",
       "        text-align: right;\n",
       "    }\n",
       "</style>\n",
       "<table border=\"1\" class=\"dataframe\">\n",
       "  <thead>\n",
       "    <tr style=\"text-align: right;\">\n",
       "      <th></th>\n",
       "      <th>_id</th>\n",
       "      <th>user_day_code</th>\n",
       "      <th>idplug_base</th>\n",
       "      <th>user_type</th>\n",
       "      <th>idunplug_base</th>\n",
       "      <th>travel_time</th>\n",
       "      <th>idunplug_station</th>\n",
       "      <th>ageRange</th>\n",
       "      <th>idplug_station</th>\n",
       "      <th>unplug_hourTime</th>\n",
       "      <th>zip_code</th>\n",
       "      <th>time</th>\n",
       "      <th>hour</th>\n",
       "      <th>day</th>\n",
       "      <th>wday</th>\n",
       "      <th>month</th>\n",
       "      <th>year</th>\n",
       "    </tr>\n",
       "  </thead>\n",
       "  <tbody>\n",
       "    <tr>\n",
       "      <td>0</td>\n",
       "      <td>0</td>\n",
       "      <td>1962435</td>\n",
       "      <td>14</td>\n",
       "      <td>1</td>\n",
       "      <td>23</td>\n",
       "      <td>162</td>\n",
       "      <td>82</td>\n",
       "      <td>0</td>\n",
       "      <td>83</td>\n",
       "      <td>2019-01-01T00:00:00Z</td>\n",
       "      <td>0</td>\n",
       "      <td>2019-01-01 00:00:00+00:00</td>\n",
       "      <td>0</td>\n",
       "      <td>1</td>\n",
       "      <td>1</td>\n",
       "      <td>1</td>\n",
       "      <td>2019</td>\n",
       "    </tr>\n",
       "    <tr>\n",
       "      <td>1</td>\n",
       "      <td>1</td>\n",
       "      <td>1763458</td>\n",
       "      <td>10</td>\n",
       "      <td>1</td>\n",
       "      <td>1</td>\n",
       "      <td>415</td>\n",
       "      <td>133</td>\n",
       "      <td>5</td>\n",
       "      <td>36</td>\n",
       "      <td>2019-01-01T00:00:00Z</td>\n",
       "      <td>28005</td>\n",
       "      <td>2019-01-01 00:00:00+00:00</td>\n",
       "      <td>0</td>\n",
       "      <td>1</td>\n",
       "      <td>1</td>\n",
       "      <td>1</td>\n",
       "      <td>2019</td>\n",
       "    </tr>\n",
       "    <tr>\n",
       "      <td>2</td>\n",
       "      <td>2</td>\n",
       "      <td>1575571</td>\n",
       "      <td>5</td>\n",
       "      <td>1</td>\n",
       "      <td>3</td>\n",
       "      <td>545</td>\n",
       "      <td>25</td>\n",
       "      <td>0</td>\n",
       "      <td>90</td>\n",
       "      <td>2019-01-01T00:00:00Z</td>\n",
       "      <td>0</td>\n",
       "      <td>2019-01-01 00:00:00+00:00</td>\n",
       "      <td>0</td>\n",
       "      <td>1</td>\n",
       "      <td>1</td>\n",
       "      <td>1</td>\n",
       "      <td>2019</td>\n",
       "    </tr>\n",
       "    <tr>\n",
       "      <td>3</td>\n",
       "      <td>3</td>\n",
       "      <td>2589037</td>\n",
       "      <td>4</td>\n",
       "      <td>1</td>\n",
       "      <td>12</td>\n",
       "      <td>448</td>\n",
       "      <td>51</td>\n",
       "      <td>4</td>\n",
       "      <td>44</td>\n",
       "      <td>2019-01-01T00:00:00Z</td>\n",
       "      <td>28005</td>\n",
       "      <td>2019-01-01 00:00:00+00:00</td>\n",
       "      <td>0</td>\n",
       "      <td>1</td>\n",
       "      <td>1</td>\n",
       "      <td>1</td>\n",
       "      <td>2019</td>\n",
       "    </tr>\n",
       "    <tr>\n",
       "      <td>4</td>\n",
       "      <td>4</td>\n",
       "      <td>2181468</td>\n",
       "      <td>17</td>\n",
       "      <td>1</td>\n",
       "      <td>4</td>\n",
       "      <td>639</td>\n",
       "      <td>44</td>\n",
       "      <td>0</td>\n",
       "      <td>125</td>\n",
       "      <td>2019-01-01T00:00:00Z</td>\n",
       "      <td>0</td>\n",
       "      <td>2019-01-01 00:00:00+00:00</td>\n",
       "      <td>0</td>\n",
       "      <td>1</td>\n",
       "      <td>1</td>\n",
       "      <td>1</td>\n",
       "      <td>2019</td>\n",
       "    </tr>\n",
       "  </tbody>\n",
       "</table>\n",
       "</div>"
      ],
      "text/plain": [
       "   _id  user_day_code  idplug_base  user_type  idunplug_base  travel_time  \\\n",
       "0    0        1962435           14          1             23          162   \n",
       "1    1        1763458           10          1              1          415   \n",
       "2    2        1575571            5          1              3          545   \n",
       "3    3        2589037            4          1             12          448   \n",
       "4    4        2181468           17          1              4          639   \n",
       "\n",
       "   idunplug_station  ageRange  idplug_station       unplug_hourTime zip_code  \\\n",
       "0                82         0              83  2019-01-01T00:00:00Z        0   \n",
       "1               133         5              36  2019-01-01T00:00:00Z    28005   \n",
       "2                25         0              90  2019-01-01T00:00:00Z        0   \n",
       "3                51         4              44  2019-01-01T00:00:00Z    28005   \n",
       "4                44         0             125  2019-01-01T00:00:00Z        0   \n",
       "\n",
       "                       time  hour  day  wday  month  year  \n",
       "0 2019-01-01 00:00:00+00:00     0    1     1      1  2019  \n",
       "1 2019-01-01 00:00:00+00:00     0    1     1      1  2019  \n",
       "2 2019-01-01 00:00:00+00:00     0    1     1      1  2019  \n",
       "3 2019-01-01 00:00:00+00:00     0    1     1      1  2019  \n",
       "4 2019-01-01 00:00:00+00:00     0    1     1      1  2019  "
      ]
     },
     "execution_count": 21,
     "metadata": {},
     "output_type": "execute_result"
    }
   ],
   "source": [
    "df_full.head()"
   ]
  },
  {
   "cell_type": "code",
   "execution_count": 22,
   "metadata": {
    "scrolled": true
   },
   "outputs": [
    {
     "data": {
      "text/plain": [
       "_id                 0\n",
       "user_day_code       0\n",
       "idplug_base         0\n",
       "user_type           0\n",
       "idunplug_base       0\n",
       "travel_time         0\n",
       "idunplug_station    0\n",
       "ageRange            0\n",
       "idplug_station      0\n",
       "unplug_hourTime     0\n",
       "zip_code            0\n",
       "time                0\n",
       "hour                0\n",
       "day                 0\n",
       "wday                0\n",
       "month               0\n",
       "year                0\n",
       "dtype: int64"
      ]
     },
     "execution_count": 22,
     "metadata": {},
     "output_type": "execute_result"
    }
   ],
   "source": [
    "# Se comprueba que ya no hay valores NA\n",
    "df_full.isna().sum()"
   ]
  },
  {
   "cell_type": "markdown",
   "metadata": {},
   "source": [
    "# ANÁLISIS DE LOS DATOS"
   ]
  },
  {
   "cell_type": "code",
   "execution_count": null,
   "metadata": {},
   "outputs": [],
   "source": [
    "# A continuación se va a presentar un análisis con el objetivo de obtener, a partir de los movimientos de los user_type = 3, \n",
    "# es decir, los usuarios de mantenimiento, algunos patrones y claves sobre el mantenimiento del servicio de BiciMAD."
   ]
  },
  {
   "cell_type": "code",
   "execution_count": 23,
   "metadata": {},
   "outputs": [
    {
     "name": "stdout",
     "output_type": "stream",
     "text": [
      "2019-01-01T00:00:00Z\n",
      "2020-06-15T21:00:00Z\n"
     ]
    }
   ],
   "source": [
    "# Se comprueba el rango temporal del conjunto de datos\n",
    "print(df_full.unplug_hourTime.min())\n",
    "print(df_full.unplug_hourTime.max())"
   ]
  },
  {
   "cell_type": "code",
   "execution_count": 24,
   "metadata": {
    "scrolled": true
   },
   "outputs": [
    {
     "data": {
      "text/plain": [
       "1    4659590\n",
       "3     349020\n",
       "2      53576\n",
       "0       1323\n",
       "Name: user_type, dtype: int64"
      ]
     },
     "execution_count": 24,
     "metadata": {},
     "output_type": "execute_result"
    }
   ],
   "source": [
    "# Se comprueba cómo se distribuyen los movimientos por tipo de usuario\n",
    "df_full[\"user_type\"].value_counts()"
   ]
  },
  {
   "cell_type": "code",
   "execution_count": 25,
   "metadata": {},
   "outputs": [],
   "source": [
    "# Elimino los registros de user_type = 0, pues se trata de un volumen marginal que no tiene clasificación.\n",
    "df_full = df_full[df_full[\"user_type\"]!=0]"
   ]
  },
  {
   "cell_type": "code",
   "execution_count": 26,
   "metadata": {
    "scrolled": true
   },
   "outputs": [
    {
     "name": "stderr",
     "output_type": "stream",
     "text": [
      "C:\\Users\\adria\\Anaconda3\\lib\\site-packages\\pandas\\plotting\\_matplotlib\\converter.py:103: FutureWarning: Using an implicitly registered datetime converter for a matplotlib plotting method. The converter was registered by pandas on import. Future versions of pandas will require you to explicitly register matplotlib converters.\n",
      "\n",
      "To register the converters:\n",
      "\t>>> from pandas.plotting import register_matplotlib_converters\n",
      "\t>>> register_matplotlib_converters()\n",
      "  warnings.warn(msg, FutureWarning)\n"
     ]
    },
    {
     "data": {
      "image/png": "[encoded data removed]",
      "text/plain": [
       "<Figure size 432x288 with 1 Axes>"
      ]
     },
     "metadata": {
      "needs_background": "light"
     },
     "output_type": "display_data"
    }
   ],
   "source": [
    "df_full[df_full[\"user_type\"]==1][\"time\"].hist(bins=20)\n",
    "df_full[df_full[\"user_type\"]==3][\"time\"].hist(bins=20)\n",
    "plt.legend([\"User 1\", \"User 3\"])\n",
    "plt.xticks(rotation=90)\n",
    "plt.show()\n",
    "# Se puede apreciar que los viajes de los usuarios de mantenimiento, aunque muy inferiores, parecen más estables que los de\n",
    "# los usuarios 1 (o usuarios estándar)"
   ]
  },
  {
   "cell_type": "code",
   "execution_count": 27,
   "metadata": {},
   "outputs": [],
   "source": [
    "# Creo un conjunto de datos solamente con los movimientos de los usuario de estándar \"User 1\"\n",
    "df_u1 = df_full[(df_full[\"user_type\"] == 1) & (df_full[\"travel_time\"] > 60)]\n",
    "# Creo un conjunto de datos solamente con los movimientos de los usuario de mantenimiento \"User 3\"\n",
    "df_u3 = df_full[df_full[\"user_type\"] == 3]"
   ]
  },
  {
   "cell_type": "code",
   "execution_count": 28,
   "metadata": {},
   "outputs": [
    {
     "data": {
      "text/plain": [
       "(349020, 17)"
      ]
     },
     "execution_count": 28,
     "metadata": {},
     "output_type": "execute_result"
    }
   ],
   "source": [
    "df_u3.shape"
   ]
  },
  {
   "cell_type": "code",
   "execution_count": 29,
   "metadata": {
    "scrolled": true
   },
   "outputs": [
    {
     "data": {
      "image/png": "[encoded data removed]",
      "text/plain": [
       "<Figure size 432x288 with 1 Axes>"
      ]
     },
     "metadata": {
      "needs_background": "light"
     },
     "output_type": "display_data"
    },
    {
     "name": "stdout",
     "output_type": "stream",
     "text": [
      "year  month\n",
      "2019  1        19038\n",
      "      2        19925\n",
      "      3        22480\n",
      "      4        19511\n",
      "      5        27300\n",
      "      6        26109\n",
      "      7         7802\n",
      "      8        21652\n",
      "      9        24945\n",
      "      10       27484\n",
      "      11       21667\n",
      "      12       16476\n",
      "2020  1        22693\n",
      "      2        25238\n",
      "      3        12570\n",
      "      4         2120\n",
      "      5        21565\n",
      "      6        10445\n",
      "Name: _id, dtype: int64\n",
      "La media de movimientos por mes es 19390.0\n"
     ]
    }
   ],
   "source": [
    "# Evolución del número de viajes (total usuario) y debajo muestro los datos en número\n",
    "df_u3.time.hist(bins=20)\n",
    "plt.xticks(rotation=90)\n",
    "plt.show()\n",
    "print(df_u3.groupby([\"year\", \"month\"])[\"_id\"].count())\n",
    "# Los meses con mayor número número de movimientos en el período analizado son: Mayo, Junio y Octubre; los meses con menos\n",
    "# movimientos son Julio 2019 y Abril 2020, éste último debido a la crisis sanitaria.\n",
    "moves = df_u3.groupby([\"year\", \"month\"])[\"_id\"].count()\n",
    "print(\"La media de movimientos por mes es\", moves.mean())\n",
    "# Vemos que la media de movimeintos mensual está en torno a 20.000"
   ]
  },
  {
   "cell_type": "code",
   "execution_count": 30,
   "metadata": {},
   "outputs": [
    {
     "name": "stdout",
     "output_type": "stream",
     "text": [
      "7036.665186093231\n",
      "106768.09536348276\n"
     ]
    }
   ],
   "source": [
    "# Con la desviación estándar, podemos ver que el número mensual de viajes de los usuarios de mantenimiento es mucho más estable \n",
    "# que el de los usuarios 1 (o usuarios estándar)\n",
    "print(df_u3.groupby([\"year\", \"month\"])[\"_id\"].count().std())\n",
    "print(df_u1.groupby([\"year\", \"month\"])[\"_id\"].count().std())"
   ]
  },
  {
   "cell_type": "code",
   "execution_count": 31,
   "metadata": {},
   "outputs": [
    {
     "name": "stdout",
     "output_type": "stream",
     "text": [
      "Proporción de viajes de más de 21.600 segundos: 0.9182854850724887\n",
      "Proporción de viajes de menos de 21.600 segundos y más de 3.600 segundos: 18.92527648845338\n",
      "Proporción de viajes de menos de 3.600 segundos y más de 1.200 segundos: 41.651767807002464\n",
      "Proporción de viajes de menos de 1.200 segundos y más de 60 segundos: 13.344507478081486\n",
      "Proporción de viajes de menos de 60 segundos: 25.111168414417513\n"
     ]
    }
   ],
   "source": [
    "# Se saca una distribución de todos los movimientos por rangos de tiempo\n",
    "print(\"Proporción de viajes de más de 21.600 segundos:\", len(df_u3[df_u3[\"travel_time\"] > 21600]) / len(df_u3) * 100)\n",
    "print(\"Proporción de viajes de menos de 21.600 segundos y más de 3.600 segundos:\", len(df_u3[(df_u3[\"travel_time\"] < 21600) & \n",
    "                                                                   (df_u3[\"travel_time\"] > 3600)]) / len(df_u3) * 100)\n",
    "print(\"Proporción de viajes de menos de 3.600 segundos y más de 1.200 segundos:\", len(df_u3[(df_u3[\"travel_time\"] < 3600) &\n",
    "                                                                                             (df_u3[\"travel_time\"] > 1200)]) / \n",
    "                                                                                              len(df_u3) * 100)\n",
    "print(\"Proporción de viajes de menos de 1.200 segundos y más de 60 segundos:\", len(df_u3[(df_u3[\"travel_time\"] < 1200) & \n",
    "                                                                                             (df_u3[\"travel_time\"] > 60)]) / \n",
    "                                                                                              len(df_u3) * 100)\n",
    "print(\"Proporción de viajes de menos de 60 segundos:\", len(df_u3[df_u3[\"travel_time\"] < 60]) / len(df_u3) * 100)"
   ]
  },
  {
   "cell_type": "code",
   "execution_count": 169,
   "metadata": {
    "scrolled": true
   },
   "outputs": [
    {
     "data": {
      "image/png": "[encoded data removed]",
      "text/plain": [
       "<Figure size 648x216 with 1 Axes>"
      ]
     },
     "metadata": {
      "needs_background": "light"
     },
     "output_type": "display_data"
    }
   ],
   "source": [
    "# Gráfico para visualizar mejor las proporciones anteriores\n",
    "time_prop = [[\"> 21.600\", 0.92], [\"3.600 - 21.600 \", 18.92], \n",
    "       [\"1.200 - 3.600\", 41.65], [\"60 - 3.600\", 13.34],\n",
    "       [\"< 60\", 25.11]]\n",
    "df_time_prop = pd.DataFrame(time_prop, columns=[\"duracion_segundos\", \"proporcion_pctge\"])\n",
    "sns.catplot(data= df_time_prop, x=\"duracion_segundos\", y=\"proporcion_pctge\", kind=\"bar\", color='pink', height= 3, aspect=3)\n",
    "plt.xticks(rotation=90)\n",
    "plt.show()\n",
    "# Se observa que los movimientos de más de 21.600 segundos (6h) apenas tienen peso... El 41% de los movimientos tiene una\n",
    "# duración media de entre 30 y 60 minutos."
   ]
  },
  {
   "cell_type": "code",
   "execution_count": 32,
   "metadata": {},
   "outputs": [
    {
     "name": "stdout",
     "output_type": "stream",
     "text": [
      "8824.564420377055\n",
      "929.3199988752606\n"
     ]
    }
   ],
   "source": [
    "print(df_u3.travel_time.mean())\n",
    "print(df_u1.travel_time.mean())\n",
    "# El tiempo medio de los movimientos en los usuarios de mantenimiento es mucho mayor que en los usuarios estándar, lo que \n",
    "# tiene sentido. Además, es posible que lleven bicicletas para reparar, etc. lo que conlleva que travel_time registre valores\n",
    "# muy elevados."
   ]
  },
  {
   "cell_type": "code",
   "execution_count": 33,
   "metadata": {},
   "outputs": [],
   "source": [
    "# Se crea una base con los user 3 en la que eliminamos los viajes de más de 6h, debido a que tienen una representatividad\n",
    "# muy baja, pero producen una fuerte desviación en la media de \"travel_time\"\n",
    "df_u3_filtrada = df_u3[df_u3[\"travel_time\"] < 21600 ]"
   ]
  },
  {
   "cell_type": "code",
   "execution_count": 34,
   "metadata": {
    "scrolled": true
   },
   "outputs": [
    {
     "name": "stdout",
     "output_type": "stream",
     "text": [
      "2102.6207336292528\n"
     ]
    }
   ],
   "source": [
    "# Si miramos el tiempo medio de la base filtrada, vemos que baja mucho, porque hemos eliminado los movimientos que distorsionan\n",
    "# esta variable, de todos modos sigue siendo muy superior a la duración de los user 1\n",
    "print(df_u3_filtrada.travel_time.mean())"
   ]
  },
  {
   "cell_type": "code",
   "execution_count": 35,
   "metadata": {},
   "outputs": [
    {
     "data": {
      "text/html": [
       "<div>\n",
       "<style scoped>\n",
       "    .dataframe tbody tr th:only-of-type {\n",
       "        vertical-align: middle;\n",
       "    }\n",
       "\n",
       "    .dataframe tbody tr th {\n",
       "        vertical-align: top;\n",
       "    }\n",
       "\n",
       "    .dataframe thead th {\n",
       "        text-align: right;\n",
       "    }\n",
       "</style>\n",
       "<table border=\"1\" class=\"dataframe\">\n",
       "  <thead>\n",
       "    <tr style=\"text-align: right;\">\n",
       "      <th></th>\n",
       "      <th>year</th>\n",
       "      <th>month</th>\n",
       "      <th>day</th>\n",
       "      <th>user_day_code</th>\n",
       "      <th>time</th>\n",
       "    </tr>\n",
       "  </thead>\n",
       "  <tbody>\n",
       "    <tr>\n",
       "      <td>0</td>\n",
       "      <td>2019</td>\n",
       "      <td>1</td>\n",
       "      <td>1</td>\n",
       "      <td>[555474, 2456644, 2097646, 1429303, 2578880, 2...</td>\n",
       "      <td>2019-1-1</td>\n",
       "    </tr>\n",
       "    <tr>\n",
       "      <td>1</td>\n",
       "      <td>2019</td>\n",
       "      <td>1</td>\n",
       "      <td>2</td>\n",
       "      <td>[385625, 2488097, 1917295, 401784, 674579, 113...</td>\n",
       "      <td>2019-1-2</td>\n",
       "    </tr>\n",
       "    <tr>\n",
       "      <td>2</td>\n",
       "      <td>2019</td>\n",
       "      <td>1</td>\n",
       "      <td>3</td>\n",
       "      <td>[1879232, 401784, 2112330, 303076, 890819, 215...</td>\n",
       "      <td>2019-1-3</td>\n",
       "    </tr>\n",
       "    <tr>\n",
       "      <td>3</td>\n",
       "      <td>2019</td>\n",
       "      <td>1</td>\n",
       "      <td>4</td>\n",
       "      <td>[1885830, 303076, 2331881, 2508652, 1094982, 8...</td>\n",
       "      <td>2019-1-4</td>\n",
       "    </tr>\n",
       "    <tr>\n",
       "      <td>4</td>\n",
       "      <td>2019</td>\n",
       "      <td>1</td>\n",
       "      <td>5</td>\n",
       "      <td>[1853768, 1384438, 616806, 691698, 1250764, 29...</td>\n",
       "      <td>2019-1-5</td>\n",
       "    </tr>\n",
       "    <tr>\n",
       "      <td>...</td>\n",
       "      <td>...</td>\n",
       "      <td>...</td>\n",
       "      <td>...</td>\n",
       "      <td>...</td>\n",
       "      <td>...</td>\n",
       "    </tr>\n",
       "    <tr>\n",
       "      <td>479</td>\n",
       "      <td>2020</td>\n",
       "      <td>6</td>\n",
       "      <td>11</td>\n",
       "      <td>[1514342, 2385423, 2457684, 1613062, 161015, 2...</td>\n",
       "      <td>2020-6-11</td>\n",
       "    </tr>\n",
       "    <tr>\n",
       "      <td>480</td>\n",
       "      <td>2020</td>\n",
       "      <td>6</td>\n",
       "      <td>12</td>\n",
       "      <td>[930886, 1317082, 2442632, 952793, 943627, 705...</td>\n",
       "      <td>2020-6-12</td>\n",
       "    </tr>\n",
       "    <tr>\n",
       "      <td>481</td>\n",
       "      <td>2020</td>\n",
       "      <td>6</td>\n",
       "      <td>13</td>\n",
       "      <td>[1780187, 510263, 181615, 1596648, 758933, 537...</td>\n",
       "      <td>2020-6-13</td>\n",
       "    </tr>\n",
       "    <tr>\n",
       "      <td>482</td>\n",
       "      <td>2020</td>\n",
       "      <td>6</td>\n",
       "      <td>14</td>\n",
       "      <td>[11535, 2540585, 2639516, 2759401, 1642487, 93...</td>\n",
       "      <td>2020-6-14</td>\n",
       "    </tr>\n",
       "    <tr>\n",
       "      <td>483</td>\n",
       "      <td>2020</td>\n",
       "      <td>6</td>\n",
       "      <td>15</td>\n",
       "      <td>[1354548, 2623997, 2113173, 1308935, 1217236, ...</td>\n",
       "      <td>2020-6-15</td>\n",
       "    </tr>\n",
       "  </tbody>\n",
       "</table>\n",
       "<p>484 rows × 5 columns</p>\n",
       "</div>"
      ],
      "text/plain": [
       "     year  month  day                                      user_day_code  \\\n",
       "0    2019      1    1  [555474, 2456644, 2097646, 1429303, 2578880, 2...   \n",
       "1    2019      1    2  [385625, 2488097, 1917295, 401784, 674579, 113...   \n",
       "2    2019      1    3  [1879232, 401784, 2112330, 303076, 890819, 215...   \n",
       "3    2019      1    4  [1885830, 303076, 2331881, 2508652, 1094982, 8...   \n",
       "4    2019      1    5  [1853768, 1384438, 616806, 691698, 1250764, 29...   \n",
       "..    ...    ...  ...                                                ...   \n",
       "479  2020      6   11  [1514342, 2385423, 2457684, 1613062, 161015, 2...   \n",
       "480  2020      6   12  [930886, 1317082, 2442632, 952793, 943627, 705...   \n",
       "481  2020      6   13  [1780187, 510263, 181615, 1596648, 758933, 537...   \n",
       "482  2020      6   14  [11535, 2540585, 2639516, 2759401, 1642487, 93...   \n",
       "483  2020      6   15  [1354548, 2623997, 2113173, 1308935, 1217236, ...   \n",
       "\n",
       "          time  \n",
       "0     2019-1-1  \n",
       "1     2019-1-2  \n",
       "2     2019-1-3  \n",
       "3     2019-1-4  \n",
       "4     2019-1-5  \n",
       "..         ...  \n",
       "479  2020-6-11  \n",
       "480  2020-6-12  \n",
       "481  2020-6-13  \n",
       "482  2020-6-14  \n",
       "483  2020-6-15  \n",
       "\n",
       "[484 rows x 5 columns]"
      ]
     },
     "execution_count": 35,
     "metadata": {},
     "output_type": "execute_result"
    }
   ],
   "source": [
    "# Se dimensiona el número de empleados de BiciMAD que realizan movimientos diariamente:\n",
    "empleados = df_full[(df_full[\"user_type\"]==3)].groupby([\"year\", \"month\", \"day\"])[\"user_day_code\"].unique().reset_index()\n",
    "empleados[\"time\"] = empleados[\"year\"].map(str) + '-' + empleados[\"month\"].map(str) + '-' + empleados[\"day\"].map(str)\n",
    "empleados"
   ]
  },
  {
   "cell_type": "code",
   "execution_count": 36,
   "metadata": {
    "scrolled": true
   },
   "outputs": [],
   "source": [
    "empleados_list = []\n",
    "for i in range(len(empleados[\"user_day_code\"])):    \n",
    "    empleados_list.append(len(empleados[\"user_day_code\"][i]))\n",
    "    empleados[\"user_day_code\"].loc[i] = empleados_list[i]"
   ]
  },
  {
   "cell_type": "code",
   "execution_count": 37,
   "metadata": {
    "scrolled": false
   },
   "outputs": [
    {
     "data": {
      "text/html": [
       "<div>\n",
       "<style scoped>\n",
       "    .dataframe tbody tr th:only-of-type {\n",
       "        vertical-align: middle;\n",
       "    }\n",
       "\n",
       "    .dataframe tbody tr th {\n",
       "        vertical-align: top;\n",
       "    }\n",
       "\n",
       "    .dataframe thead th {\n",
       "        text-align: right;\n",
       "    }\n",
       "</style>\n",
       "<table border=\"1\" class=\"dataframe\">\n",
       "  <thead>\n",
       "    <tr style=\"text-align: right;\">\n",
       "      <th></th>\n",
       "      <th>year</th>\n",
       "      <th>month</th>\n",
       "      <th>day</th>\n",
       "      <th>num_empleados</th>\n",
       "      <th>time</th>\n",
       "    </tr>\n",
       "  </thead>\n",
       "  <tbody>\n",
       "    <tr>\n",
       "      <td>0</td>\n",
       "      <td>2019</td>\n",
       "      <td>1</td>\n",
       "      <td>1</td>\n",
       "      <td>16</td>\n",
       "      <td>2019-1-1</td>\n",
       "    </tr>\n",
       "    <tr>\n",
       "      <td>1</td>\n",
       "      <td>2019</td>\n",
       "      <td>1</td>\n",
       "      <td>2</td>\n",
       "      <td>27</td>\n",
       "      <td>2019-1-2</td>\n",
       "    </tr>\n",
       "    <tr>\n",
       "      <td>2</td>\n",
       "      <td>2019</td>\n",
       "      <td>1</td>\n",
       "      <td>3</td>\n",
       "      <td>28</td>\n",
       "      <td>2019-1-3</td>\n",
       "    </tr>\n",
       "    <tr>\n",
       "      <td>3</td>\n",
       "      <td>2019</td>\n",
       "      <td>1</td>\n",
       "      <td>4</td>\n",
       "      <td>28</td>\n",
       "      <td>2019-1-4</td>\n",
       "    </tr>\n",
       "    <tr>\n",
       "      <td>4</td>\n",
       "      <td>2019</td>\n",
       "      <td>1</td>\n",
       "      <td>5</td>\n",
       "      <td>23</td>\n",
       "      <td>2019-1-5</td>\n",
       "    </tr>\n",
       "    <tr>\n",
       "      <td>...</td>\n",
       "      <td>...</td>\n",
       "      <td>...</td>\n",
       "      <td>...</td>\n",
       "      <td>...</td>\n",
       "      <td>...</td>\n",
       "    </tr>\n",
       "    <tr>\n",
       "      <td>479</td>\n",
       "      <td>2020</td>\n",
       "      <td>6</td>\n",
       "      <td>11</td>\n",
       "      <td>36</td>\n",
       "      <td>2020-6-11</td>\n",
       "    </tr>\n",
       "    <tr>\n",
       "      <td>480</td>\n",
       "      <td>2020</td>\n",
       "      <td>6</td>\n",
       "      <td>12</td>\n",
       "      <td>36</td>\n",
       "      <td>2020-6-12</td>\n",
       "    </tr>\n",
       "    <tr>\n",
       "      <td>481</td>\n",
       "      <td>2020</td>\n",
       "      <td>6</td>\n",
       "      <td>13</td>\n",
       "      <td>16</td>\n",
       "      <td>2020-6-13</td>\n",
       "    </tr>\n",
       "    <tr>\n",
       "      <td>482</td>\n",
       "      <td>2020</td>\n",
       "      <td>6</td>\n",
       "      <td>14</td>\n",
       "      <td>8</td>\n",
       "      <td>2020-6-14</td>\n",
       "    </tr>\n",
       "    <tr>\n",
       "      <td>483</td>\n",
       "      <td>2020</td>\n",
       "      <td>6</td>\n",
       "      <td>15</td>\n",
       "      <td>22</td>\n",
       "      <td>2020-6-15</td>\n",
       "    </tr>\n",
       "  </tbody>\n",
       "</table>\n",
       "<p>484 rows × 5 columns</p>\n",
       "</div>"
      ],
      "text/plain": [
       "     year  month  day  num_empleados       time\n",
       "0    2019      1    1             16   2019-1-1\n",
       "1    2019      1    2             27   2019-1-2\n",
       "2    2019      1    3             28   2019-1-3\n",
       "3    2019      1    4             28   2019-1-4\n",
       "4    2019      1    5             23   2019-1-5\n",
       "..    ...    ...  ...            ...        ...\n",
       "479  2020      6   11             36  2020-6-11\n",
       "480  2020      6   12             36  2020-6-12\n",
       "481  2020      6   13             16  2020-6-13\n",
       "482  2020      6   14              8  2020-6-14\n",
       "483  2020      6   15             22  2020-6-15\n",
       "\n",
       "[484 rows x 5 columns]"
      ]
     },
     "execution_count": 37,
     "metadata": {},
     "output_type": "execute_result"
    }
   ],
   "source": [
    "# DataFrame con la evolución temporal del número de empleados que hacen movimientos diariamente\n",
    "empleados = empleados.rename(columns={\"user_day_code\":\"num_empleados\"})\n",
    "empleados"
   ]
  },
  {
   "cell_type": "code",
   "execution_count": 38,
   "metadata": {},
   "outputs": [],
   "source": [
    "empleados[\"time\"] = pd.to_datetime(empleados[\"time\"])"
   ]
  },
  {
   "cell_type": "code",
   "execution_count": 39,
   "metadata": {
    "scrolled": false
   },
   "outputs": [
    {
     "data": {
      "text/plain": [
       "count    484.000000\n",
       "mean      33.551653\n",
       "std       12.163969\n",
       "min        1.000000\n",
       "25%       26.000000\n",
       "50%       35.000000\n",
       "75%       40.000000\n",
       "max      117.000000\n",
       "Name: num_empleados, dtype: float64"
      ]
     },
     "execution_count": 39,
     "metadata": {},
     "output_type": "execute_result"
    }
   ],
   "source": [
    "# A continuación se observa cómo se comporta la variable num_empleados\n",
    "empleados[\"num_empleados\"].describe()"
   ]
  },
  {
   "cell_type": "code",
   "execution_count": 40,
   "metadata": {},
   "outputs": [
    {
     "data": {
      "text/html": [
       "<div>\n",
       "<style scoped>\n",
       "    .dataframe tbody tr th:only-of-type {\n",
       "        vertical-align: middle;\n",
       "    }\n",
       "\n",
       "    .dataframe tbody tr th {\n",
       "        vertical-align: top;\n",
       "    }\n",
       "\n",
       "    .dataframe thead th {\n",
       "        text-align: right;\n",
       "    }\n",
       "</style>\n",
       "<table border=\"1\" class=\"dataframe\">\n",
       "  <thead>\n",
       "    <tr style=\"text-align: right;\">\n",
       "      <th></th>\n",
       "      <th>year</th>\n",
       "      <th>month</th>\n",
       "      <th>day</th>\n",
       "      <th>num_empleados</th>\n",
       "      <th>time</th>\n",
       "    </tr>\n",
       "  </thead>\n",
       "  <tbody>\n",
       "    <tr>\n",
       "      <td>188</td>\n",
       "      <td>2019</td>\n",
       "      <td>7</td>\n",
       "      <td>12</td>\n",
       "      <td>1</td>\n",
       "      <td>2019-07-12</td>\n",
       "    </tr>\n",
       "    <tr>\n",
       "      <td>189</td>\n",
       "      <td>2019</td>\n",
       "      <td>7</td>\n",
       "      <td>15</td>\n",
       "      <td>1</td>\n",
       "      <td>2019-07-15</td>\n",
       "    </tr>\n",
       "    <tr>\n",
       "      <td>191</td>\n",
       "      <td>2019</td>\n",
       "      <td>7</td>\n",
       "      <td>26</td>\n",
       "      <td>1</td>\n",
       "      <td>2019-07-26</td>\n",
       "    </tr>\n",
       "    <tr>\n",
       "      <td>192</td>\n",
       "      <td>2019</td>\n",
       "      <td>7</td>\n",
       "      <td>28</td>\n",
       "      <td>1</td>\n",
       "      <td>2019-07-28</td>\n",
       "    </tr>\n",
       "  </tbody>\n",
       "</table>\n",
       "</div>"
      ],
      "text/plain": [
       "     year  month  day  num_empleados       time\n",
       "188  2019      7   12              1 2019-07-12\n",
       "189  2019      7   15              1 2019-07-15\n",
       "191  2019      7   26              1 2019-07-26\n",
       "192  2019      7   28              1 2019-07-28"
      ]
     },
     "execution_count": 40,
     "metadata": {},
     "output_type": "execute_result"
    }
   ],
   "source": [
    "# Consultamos cuándo se produce ese mínimo\n",
    "empleados[empleados[\"num_empleados\"]==1]"
   ]
  },
  {
   "cell_type": "code",
   "execution_count": 41,
   "metadata": {
    "scrolled": true
   },
   "outputs": [
    {
     "data": {
      "text/html": [
       "<div>\n",
       "<style scoped>\n",
       "    .dataframe tbody tr th:only-of-type {\n",
       "        vertical-align: middle;\n",
       "    }\n",
       "\n",
       "    .dataframe tbody tr th {\n",
       "        vertical-align: top;\n",
       "    }\n",
       "\n",
       "    .dataframe thead th {\n",
       "        text-align: right;\n",
       "    }\n",
       "</style>\n",
       "<table border=\"1\" class=\"dataframe\">\n",
       "  <thead>\n",
       "    <tr style=\"text-align: right;\">\n",
       "      <th></th>\n",
       "      <th>year</th>\n",
       "      <th>month</th>\n",
       "      <th>day</th>\n",
       "      <th>num_empleados</th>\n",
       "      <th>time</th>\n",
       "    </tr>\n",
       "  </thead>\n",
       "  <tbody>\n",
       "    <tr>\n",
       "      <td>424</td>\n",
       "      <td>2020</td>\n",
       "      <td>3</td>\n",
       "      <td>16</td>\n",
       "      <td>117</td>\n",
       "      <td>2020-03-16</td>\n",
       "    </tr>\n",
       "  </tbody>\n",
       "</table>\n",
       "</div>"
      ],
      "text/plain": [
       "     year  month  day  num_empleados       time\n",
       "424  2020      3   16            117 2020-03-16"
      ]
     },
     "execution_count": 41,
     "metadata": {},
     "output_type": "execute_result"
    }
   ],
   "source": [
    "# Consultamos cuándo se produce ese máximo\n",
    "empleados[empleados[\"num_empleados\"]==117]\n",
    "# Este máximo podría deberse a un trabajo especial de desinfección de la flota de bicicletas y estaciones..."
   ]
  },
  {
   "cell_type": "code",
   "execution_count": 42,
   "metadata": {
    "scrolled": true
   },
   "outputs": [
    {
     "data": {
      "image/png": "[encoded data removed]",
      "text/plain": [
       "<Figure size 864x216 with 1 Axes>"
      ]
     },
     "metadata": {
      "needs_background": "light"
     },
     "output_type": "display_data"
    }
   ],
   "source": [
    "# Gráfico de la evolución del número de empleados de mantenimiento (que realizan movimientos) por día y hora\n",
    "sns.relplot(data= empleados, x= \"time\", y=\"num_empleados\", kind=\"line\", height=3, aspect=4)\n",
    "plt.show()"
   ]
  },
  {
   "cell_type": "code",
   "execution_count": 43,
   "metadata": {},
   "outputs": [
    {
     "data": {
      "image/png": "[encoded data removed]",
      "text/plain": [
       "<Figure size 432x216 with 1 Axes>"
      ]
     },
     "metadata": {
      "needs_background": "light"
     },
     "output_type": "display_data"
    },
    {
     "data": {
      "text/html": [
       "<div>\n",
       "<style scoped>\n",
       "    .dataframe tbody tr th:only-of-type {\n",
       "        vertical-align: middle;\n",
       "    }\n",
       "\n",
       "    .dataframe tbody tr th {\n",
       "        vertical-align: top;\n",
       "    }\n",
       "\n",
       "    .dataframe thead th {\n",
       "        text-align: right;\n",
       "    }\n",
       "</style>\n",
       "<table border=\"1\" class=\"dataframe\">\n",
       "  <thead>\n",
       "    <tr style=\"text-align: right;\">\n",
       "      <th></th>\n",
       "      <th>wday</th>\n",
       "      <th>num_empleados</th>\n",
       "    </tr>\n",
       "  </thead>\n",
       "  <tbody>\n",
       "    <tr>\n",
       "      <td>0</td>\n",
       "      <td>0</td>\n",
       "      <td>36.746479</td>\n",
       "    </tr>\n",
       "    <tr>\n",
       "      <td>1</td>\n",
       "      <td>1</td>\n",
       "      <td>37.915493</td>\n",
       "    </tr>\n",
       "    <tr>\n",
       "      <td>2</td>\n",
       "      <td>2</td>\n",
       "      <td>37.695652</td>\n",
       "    </tr>\n",
       "    <tr>\n",
       "      <td>3</td>\n",
       "      <td>3</td>\n",
       "      <td>39.264706</td>\n",
       "    </tr>\n",
       "    <tr>\n",
       "      <td>4</td>\n",
       "      <td>4</td>\n",
       "      <td>36.376812</td>\n",
       "    </tr>\n",
       "    <tr>\n",
       "      <td>5</td>\n",
       "      <td>5</td>\n",
       "      <td>25.611940</td>\n",
       "    </tr>\n",
       "    <tr>\n",
       "      <td>6</td>\n",
       "      <td>6</td>\n",
       "      <td>20.884058</td>\n",
       "    </tr>\n",
       "  </tbody>\n",
       "</table>\n",
       "</div>"
      ],
      "text/plain": [
       "   wday  num_empleados\n",
       "0     0      36.746479\n",
       "1     1      37.915493\n",
       "2     2      37.695652\n",
       "3     3      39.264706\n",
       "4     4      36.376812\n",
       "5     5      25.611940\n",
       "6     6      20.884058"
      ]
     },
     "execution_count": 43,
     "metadata": {},
     "output_type": "execute_result"
    }
   ],
   "source": [
    "# Se observa el número medio de empleados por día de la semana\n",
    "empleados[\"wday\"] = empleados[\"time\"].dt.weekday\n",
    "wday = empleados.groupby(\"wday\")[\"num_empleados\"].mean().reset_index()\n",
    "sns.relplot(data= wday, x= \"wday\", y=\"num_empleados\", kind=\"line\", height=3, aspect=2)\n",
    "plt.show()\n",
    "wday"
   ]
  },
  {
   "cell_type": "code",
   "execution_count": 187,
   "metadata": {},
   "outputs": [
    {
     "data": {
      "image/png": "[encoded data removed]",
      "text/plain": [
       "<Figure size 864x432 with 1 Axes>"
      ]
     },
     "metadata": {
      "needs_background": "light"
     },
     "output_type": "display_data"
    }
   ],
   "source": [
    "# Se observa el número medio de empleados por día del mes\n",
    "day = empleados.groupby(\"day\")[\"num_empleados\"].mean().reset_index()\n",
    "sns.relplot(data= day, x= \"day\", y=\"num_empleados\", kind=\"line\", height=6, aspect=2)\n",
    "plt.show()"
   ]
  },
  {
   "cell_type": "code",
   "execution_count": 156,
   "metadata": {
    "scrolled": true
   },
   "outputs": [
    {
     "data": {
      "text/html": [
       "<div>\n",
       "<style scoped>\n",
       "    .dataframe tbody tr th:only-of-type {\n",
       "        vertical-align: middle;\n",
       "    }\n",
       "\n",
       "    .dataframe tbody tr th {\n",
       "        vertical-align: top;\n",
       "    }\n",
       "\n",
       "    .dataframe thead th {\n",
       "        text-align: right;\n",
       "    }\n",
       "</style>\n",
       "<table border=\"1\" class=\"dataframe\">\n",
       "  <thead>\n",
       "    <tr style=\"text-align: right;\">\n",
       "      <th></th>\n",
       "      <th>wday</th>\n",
       "      <th>num_movimientos</th>\n",
       "    </tr>\n",
       "  </thead>\n",
       "  <tbody>\n",
       "    <tr>\n",
       "      <td>0</td>\n",
       "      <td>0</td>\n",
       "      <td>782.830986</td>\n",
       "    </tr>\n",
       "    <tr>\n",
       "      <td>1</td>\n",
       "      <td>1</td>\n",
       "      <td>787.464789</td>\n",
       "    </tr>\n",
       "    <tr>\n",
       "      <td>2</td>\n",
       "      <td>2</td>\n",
       "      <td>813.739130</td>\n",
       "    </tr>\n",
       "    <tr>\n",
       "      <td>3</td>\n",
       "      <td>3</td>\n",
       "      <td>833.102941</td>\n",
       "    </tr>\n",
       "    <tr>\n",
       "      <td>4</td>\n",
       "      <td>4</td>\n",
       "      <td>809.478261</td>\n",
       "    </tr>\n",
       "  </tbody>\n",
       "</table>\n",
       "</div>"
      ],
      "text/plain": [
       "   wday  num_movimientos\n",
       "0     0       782.830986\n",
       "1     1       787.464789\n",
       "2     2       813.739130\n",
       "3     3       833.102941\n",
       "4     4       809.478261"
      ]
     },
     "execution_count": 156,
     "metadata": {},
     "output_type": "execute_result"
    }
   ],
   "source": [
    "# Número de movimientos de los user 3 por día de la semana\n",
    "movimientos_wday = df_u3.groupby([\"wday\", \"day\", \"month\", \"year\"])[\"_id\"].count().reset_index()\n",
    "movimientos_wday = movimientos_wday.rename(columns={\"_id\":\"num_movimientos\"})\n",
    "media_wday = movimientos_wday.groupby([\"wday\"])[\"num_movimientos\"].mean().reset_index()\n",
    "media_wday.head()"
   ]
  },
  {
   "cell_type": "code",
   "execution_count": 192,
   "metadata": {},
   "outputs": [
    {
     "data": {
      "image/png": "[encoded data removed]",
      "text/plain": [
       "<Figure size 648x216 with 1 Axes>"
      ]
     },
     "metadata": {
      "needs_background": "light"
     },
     "output_type": "display_data"
    }
   ],
   "source": [
    "# Número medio de movimientos de los user 3 por día de la semana\n",
    "# Day of the week\n",
    "# 0 Monday\n",
    "# 1 Tuesday\n",
    "# 2 Wednesday\n",
    "# 3 Thursday\n",
    "# 4 Friday\n",
    "# 5 Saturday\n",
    "# 6 Sunday\n",
    "sns.catplot(data=media_wday, x= \"wday\", y=\"num_movimientos\", kind=\"bar\", color='purple', aspect=3, height=3)\n",
    "plt.show()"
   ]
  },
  {
   "cell_type": "code",
   "execution_count": 193,
   "metadata": {
    "scrolled": true
   },
   "outputs": [
    {
     "data": {
      "text/html": [
       "<div>\n",
       "<style scoped>\n",
       "    .dataframe tbody tr th:only-of-type {\n",
       "        vertical-align: middle;\n",
       "    }\n",
       "\n",
       "    .dataframe tbody tr th {\n",
       "        vertical-align: top;\n",
       "    }\n",
       "\n",
       "    .dataframe thead th {\n",
       "        text-align: right;\n",
       "    }\n",
       "</style>\n",
       "<table border=\"1\" class=\"dataframe\">\n",
       "  <thead>\n",
       "    <tr style=\"text-align: right;\">\n",
       "      <th></th>\n",
       "      <th>day</th>\n",
       "      <th>num_movimientos</th>\n",
       "    </tr>\n",
       "  </thead>\n",
       "  <tbody>\n",
       "    <tr>\n",
       "      <td>0</td>\n",
       "      <td>1</td>\n",
       "      <td>646.882353</td>\n",
       "    </tr>\n",
       "    <tr>\n",
       "      <td>1</td>\n",
       "      <td>2</td>\n",
       "      <td>761.882353</td>\n",
       "    </tr>\n",
       "    <tr>\n",
       "      <td>2</td>\n",
       "      <td>3</td>\n",
       "      <td>704.294118</td>\n",
       "    </tr>\n",
       "    <tr>\n",
       "      <td>3</td>\n",
       "      <td>4</td>\n",
       "      <td>720.705882</td>\n",
       "    </tr>\n",
       "    <tr>\n",
       "      <td>4</td>\n",
       "      <td>5</td>\n",
       "      <td>725.764706</td>\n",
       "    </tr>\n",
       "  </tbody>\n",
       "</table>\n",
       "</div>"
      ],
      "text/plain": [
       "   day  num_movimientos\n",
       "0    1       646.882353\n",
       "1    2       761.882353\n",
       "2    3       704.294118\n",
       "3    4       720.705882\n",
       "4    5       725.764706"
      ]
     },
     "execution_count": 193,
     "metadata": {},
     "output_type": "execute_result"
    }
   ],
   "source": [
    "# Número medio de movimientos de los user 3 por día del mes\n",
    "movimientos_diames = df_u3.groupby([\"day\", \"month\", \"year\"])[\"_id\"].count().reset_index()\n",
    "movimientos_diames = movimientos_diames.rename(columns={\"_id\":\"num_movimientos\"})\n",
    "media_diames = movimientos_diames.groupby([\"day\"])[\"num_movimientos\"].mean().reset_index()\n",
    "media_diames.head()"
   ]
  },
  {
   "cell_type": "code",
   "execution_count": 194,
   "metadata": {},
   "outputs": [
    {
     "data": {
      "image/png": "[encoded data removed]",
      "text/plain": [
       "<Figure size 648x216 with 1 Axes>"
      ]
     },
     "metadata": {
      "needs_background": "light"
     },
     "output_type": "display_data"
    }
   ],
   "source": [
    "# Gráfico del número medio de movimientos de los user 3 por día del mes\n",
    "sns.catplot(data=media_diames, x= \"day\", y=\"num_movimientos\", kind=\"bar\", color='blue', aspect=3, height=3)\n",
    "plt.show()\n",
    "# No se aprecian diferencias entre los movimientos generales y los de usuarios de mantenimiento"
   ]
  },
  {
   "cell_type": "code",
   "execution_count": 195,
   "metadata": {},
   "outputs": [
    {
     "data": {
      "text/html": [
       "<div>\n",
       "<style scoped>\n",
       "    .dataframe tbody tr th:only-of-type {\n",
       "        vertical-align: middle;\n",
       "    }\n",
       "\n",
       "    .dataframe tbody tr th {\n",
       "        vertical-align: top;\n",
       "    }\n",
       "\n",
       "    .dataframe thead th {\n",
       "        text-align: right;\n",
       "    }\n",
       "</style>\n",
       "<table border=\"1\" class=\"dataframe\">\n",
       "  <thead>\n",
       "    <tr style=\"text-align: right;\">\n",
       "      <th></th>\n",
       "      <th>hour</th>\n",
       "      <th>num_movimientos</th>\n",
       "    </tr>\n",
       "  </thead>\n",
       "  <tbody>\n",
       "    <tr>\n",
       "      <td>0</td>\n",
       "      <td>0</td>\n",
       "      <td>31.524664</td>\n",
       "    </tr>\n",
       "    <tr>\n",
       "      <td>1</td>\n",
       "      <td>1</td>\n",
       "      <td>28.074592</td>\n",
       "    </tr>\n",
       "    <tr>\n",
       "      <td>2</td>\n",
       "      <td>2</td>\n",
       "      <td>20.054374</td>\n",
       "    </tr>\n",
       "    <tr>\n",
       "      <td>3</td>\n",
       "      <td>3</td>\n",
       "      <td>10.708709</td>\n",
       "    </tr>\n",
       "    <tr>\n",
       "      <td>4</td>\n",
       "      <td>4</td>\n",
       "      <td>10.376900</td>\n",
       "    </tr>\n",
       "  </tbody>\n",
       "</table>\n",
       "</div>"
      ],
      "text/plain": [
       "   hour  num_movimientos\n",
       "0     0        31.524664\n",
       "1     1        28.074592\n",
       "2     2        20.054374\n",
       "3     3        10.708709\n",
       "4     4        10.376900"
      ]
     },
     "execution_count": 195,
     "metadata": {},
     "output_type": "execute_result"
    }
   ],
   "source": [
    "# Número medio de movimientos de los user 3 por hora\n",
    "movimientos_hora = df_u3.groupby([\"hour\", \"day\", \"month\", \"year\"])[\"_id\"].count().reset_index()\n",
    "movimientos_hora = movimientos_hora.rename(columns={\"_id\":\"num_movimientos\"})\n",
    "media_hora = movimientos_hora.groupby([\"hour\"])[\"num_movimientos\"].mean().reset_index()\n",
    "media_hora.head()"
   ]
  },
  {
   "cell_type": "code",
   "execution_count": 196,
   "metadata": {},
   "outputs": [
    {
     "data": {
      "image/png": "[encoded data removed]",
      "text/plain": [
       "<Figure size 648x216 with 1 Axes>"
      ]
     },
     "metadata": {
      "needs_background": "light"
     },
     "output_type": "display_data"
    }
   ],
   "source": [
    "sns.catplot(data=media_hora, x= \"hour\", y=\"num_movimientos\", kind=\"bar\", color='green', aspect=3, height=3)\n",
    "plt.show()"
   ]
  },
  {
   "cell_type": "code",
   "execution_count": 197,
   "metadata": {
    "scrolled": true
   },
   "outputs": [
    {
     "name": "stdout",
     "output_type": "stream",
     "text": [
      "Tiempo medio a las 8h: 1957.189825568156 segundos\n",
      "Tiempo medio a las 16h: 1958.529607313526 segundos\n",
      "Tiempo medio a las 23h: 2994.9447898400554 segundos\n"
     ]
    }
   ],
   "source": [
    "print(\"Tiempo medio a las 8h:\", df_u3_filtrada[df_u3_filtrada[\"hour\"]==8][\"travel_time\"].mean(), \"segundos\")\n",
    "print(\"Tiempo medio a las 16h:\", df_u3_filtrada[df_u3_filtrada[\"hour\"]==16][\"travel_time\"].mean(), \"segundos\")\n",
    "print(\"Tiempo medio a las 23h:\", df_u3_filtrada[df_u3_filtrada[\"hour\"]==23][\"travel_time\"].mean(), \"segundos\")"
   ]
  },
  {
   "cell_type": "code",
   "execution_count": 198,
   "metadata": {},
   "outputs": [],
   "source": [
    "# En al análisis por hora sí que se aprecian diferencias entre los movimientos generales y los de los usuarios de mantenimiento.\n",
    "# Mientras que en los movimientos generales se aprecian dos picos de uso (8h y 18h), en los de mantenimiento se observan 3 picos\n",
    "# claros de uso (8h, 16h, 23h)"
   ]
  },
  {
   "cell_type": "code",
   "execution_count": 200,
   "metadata": {},
   "outputs": [],
   "source": [
    "# Creo una tabla \"origen_user\" para ver cuántos viajes ha realizado por estación de origen cada tipo de usuario\n",
    "origen_user = df_full.pivot_table(values=\"_id\", index=\"idunplug_station\", columns=\"user_type\", aggfunc='count').reset_index()\n",
    "origen_user = origen_user.rename(columns={1:\"User1\", 2:\"User2\", 3:\"User3\"})\n",
    "origen_user.head()\n",
    "origen_user = origen_user.fillna(0)"
   ]
  },
  {
   "cell_type": "code",
   "execution_count": 201,
   "metadata": {
    "scrolled": true
   },
   "outputs": [
    {
     "data": {
      "text/plain": [
       "Index(['idunplug_station', 'User1', 'User2', 'User3'], dtype='object', name='user_type')"
      ]
     },
     "execution_count": 201,
     "metadata": {},
     "output_type": "execute_result"
    }
   ],
   "source": [
    "origen_user.columns"
   ]
  },
  {
   "cell_type": "code",
   "execution_count": null,
   "metadata": {},
   "outputs": [],
   "source": [
    "# A continuación se muestra de manera visual el número de movimientos por estación de origen de los usuarios 1, 2 y 3"
   ]
  },
  {
   "cell_type": "code",
   "execution_count": 53,
   "metadata": {},
   "outputs": [
    {
     "data": {
      "image/png": "[encoded data removed]",
      "text/plain": [
       "<Figure size 1440x144 with 1 Axes>"
      ]
     },
     "metadata": {
      "needs_background": "light"
     },
     "output_type": "display_data"
    }
   ],
   "source": [
    "# Número de viajes de los user 1 por estación de origen\n",
    "sns.catplot(data=origen_user, x=\"idunplug_station\", y=\"User1\", kind='bar', height=2, aspect=10)\n",
    "plt.xticks(rotation=90)\n",
    "plt.show()"
   ]
  },
  {
   "cell_type": "code",
   "execution_count": 54,
   "metadata": {},
   "outputs": [
    {
     "data": {
      "image/png": "[encoded data removed]",
      "text/plain": [
       "<Figure size 1440x144 with 1 Axes>"
      ]
     },
     "metadata": {
      "needs_background": "light"
     },
     "output_type": "display_data"
    }
   ],
   "source": [
    "# Número de viajes de los user 2 por estación de origen\n",
    "sns.catplot(data=origen_user, x=\"idunplug_station\", y=\"User2\", kind='bar', height=2, aspect=10)\n",
    "plt.xticks(rotation=90)\n",
    "plt.show()"
   ]
  },
  {
   "cell_type": "code",
   "execution_count": 55,
   "metadata": {
    "scrolled": true
   },
   "outputs": [
    {
     "data": {
      "image/png": "[encoded data removed]",
      "text/plain": [
       "<Figure size 1440x144 with 1 Axes>"
      ]
     },
     "metadata": {
      "needs_background": "light"
     },
     "output_type": "display_data"
    }
   ],
   "source": [
    "# Númerode viajes de user 3 por estación de origen\n",
    "sns.catplot(data=origen_user, x=\"idunplug_station\", y=\"User3\", kind='bar', height=2, aspect=10)\n",
    "plt.xticks(rotation=90)\n",
    "plt.show()"
   ]
  },
  {
   "cell_type": "code",
   "execution_count": 56,
   "metadata": {
    "scrolled": true
   },
   "outputs": [
    {
     "data": {
      "text/html": [
       "<div>\n",
       "<style scoped>\n",
       "    .dataframe tbody tr th:only-of-type {\n",
       "        vertical-align: middle;\n",
       "    }\n",
       "\n",
       "    .dataframe tbody tr th {\n",
       "        vertical-align: top;\n",
       "    }\n",
       "\n",
       "    .dataframe thead th {\n",
       "        text-align: right;\n",
       "    }\n",
       "</style>\n",
       "<table border=\"1\" class=\"dataframe\">\n",
       "  <thead>\n",
       "    <tr style=\"text-align: right;\">\n",
       "      <th>user_type</th>\n",
       "      <th>idunplug_station</th>\n",
       "      <th>User1</th>\n",
       "      <th>User2</th>\n",
       "      <th>User3</th>\n",
       "      <th>Total</th>\n",
       "      <th>3Prop</th>\n",
       "      <th>1Prop</th>\n",
       "    </tr>\n",
       "  </thead>\n",
       "  <tbody>\n",
       "    <tr>\n",
       "      <td>0</td>\n",
       "      <td>1</td>\n",
       "      <td>30405.0</td>\n",
       "      <td>698.0</td>\n",
       "      <td>1266.0</td>\n",
       "      <td>32369.0</td>\n",
       "      <td>0.039111</td>\n",
       "      <td>0.939325</td>\n",
       "    </tr>\n",
       "    <tr>\n",
       "      <td>1</td>\n",
       "      <td>2</td>\n",
       "      <td>11605.0</td>\n",
       "      <td>337.0</td>\n",
       "      <td>875.0</td>\n",
       "      <td>12817.0</td>\n",
       "      <td>0.068269</td>\n",
       "      <td>0.905438</td>\n",
       "    </tr>\n",
       "    <tr>\n",
       "      <td>2</td>\n",
       "      <td>3</td>\n",
       "      <td>29565.0</td>\n",
       "      <td>439.0</td>\n",
       "      <td>404.0</td>\n",
       "      <td>30408.0</td>\n",
       "      <td>0.013286</td>\n",
       "      <td>0.972277</td>\n",
       "    </tr>\n",
       "    <tr>\n",
       "      <td>3</td>\n",
       "      <td>4</td>\n",
       "      <td>21065.0</td>\n",
       "      <td>141.0</td>\n",
       "      <td>751.0</td>\n",
       "      <td>21957.0</td>\n",
       "      <td>0.034203</td>\n",
       "      <td>0.959375</td>\n",
       "    </tr>\n",
       "    <tr>\n",
       "      <td>4</td>\n",
       "      <td>5</td>\n",
       "      <td>18375.0</td>\n",
       "      <td>148.0</td>\n",
       "      <td>662.0</td>\n",
       "      <td>19185.0</td>\n",
       "      <td>0.034506</td>\n",
       "      <td>0.957780</td>\n",
       "    </tr>\n",
       "    <tr>\n",
       "      <td>...</td>\n",
       "      <td>...</td>\n",
       "      <td>...</td>\n",
       "      <td>...</td>\n",
       "      <td>...</td>\n",
       "      <td>...</td>\n",
       "      <td>...</td>\n",
       "      <td>...</td>\n",
       "    </tr>\n",
       "    <tr>\n",
       "      <td>210</td>\n",
       "      <td>216</td>\n",
       "      <td>7006.0</td>\n",
       "      <td>76.0</td>\n",
       "      <td>432.0</td>\n",
       "      <td>7514.0</td>\n",
       "      <td>0.057493</td>\n",
       "      <td>0.932393</td>\n",
       "    </tr>\n",
       "    <tr>\n",
       "      <td>211</td>\n",
       "      <td>217</td>\n",
       "      <td>5553.0</td>\n",
       "      <td>104.0</td>\n",
       "      <td>1773.0</td>\n",
       "      <td>7430.0</td>\n",
       "      <td>0.238627</td>\n",
       "      <td>0.747376</td>\n",
       "    </tr>\n",
       "    <tr>\n",
       "      <td>212</td>\n",
       "      <td>218</td>\n",
       "      <td>7368.0</td>\n",
       "      <td>156.0</td>\n",
       "      <td>299.0</td>\n",
       "      <td>7823.0</td>\n",
       "      <td>0.038221</td>\n",
       "      <td>0.941838</td>\n",
       "    </tr>\n",
       "    <tr>\n",
       "      <td>213</td>\n",
       "      <td>219</td>\n",
       "      <td>10254.0</td>\n",
       "      <td>107.0</td>\n",
       "      <td>242.0</td>\n",
       "      <td>10603.0</td>\n",
       "      <td>0.022824</td>\n",
       "      <td>0.967085</td>\n",
       "    </tr>\n",
       "    <tr>\n",
       "      <td>214</td>\n",
       "      <td>2008</td>\n",
       "      <td>15.0</td>\n",
       "      <td>0.0</td>\n",
       "      <td>5.0</td>\n",
       "      <td>20.0</td>\n",
       "      <td>0.250000</td>\n",
       "      <td>0.750000</td>\n",
       "    </tr>\n",
       "  </tbody>\n",
       "</table>\n",
       "<p>215 rows × 7 columns</p>\n",
       "</div>"
      ],
      "text/plain": [
       "user_type  idunplug_station    User1  User2   User3    Total     3Prop  \\\n",
       "0                         1  30405.0  698.0  1266.0  32369.0  0.039111   \n",
       "1                         2  11605.0  337.0   875.0  12817.0  0.068269   \n",
       "2                         3  29565.0  439.0   404.0  30408.0  0.013286   \n",
       "3                         4  21065.0  141.0   751.0  21957.0  0.034203   \n",
       "4                         5  18375.0  148.0   662.0  19185.0  0.034506   \n",
       "..                      ...      ...    ...     ...      ...       ...   \n",
       "210                     216   7006.0   76.0   432.0   7514.0  0.057493   \n",
       "211                     217   5553.0  104.0  1773.0   7430.0  0.238627   \n",
       "212                     218   7368.0  156.0   299.0   7823.0  0.038221   \n",
       "213                     219  10254.0  107.0   242.0  10603.0  0.022824   \n",
       "214                    2008     15.0    0.0     5.0     20.0  0.250000   \n",
       "\n",
       "user_type     1Prop  \n",
       "0          0.939325  \n",
       "1          0.905438  \n",
       "2          0.972277  \n",
       "3          0.959375  \n",
       "4          0.957780  \n",
       "..              ...  \n",
       "210        0.932393  \n",
       "211        0.747376  \n",
       "212        0.941838  \n",
       "213        0.967085  \n",
       "214        0.750000  \n",
       "\n",
       "[215 rows x 7 columns]"
      ]
     },
     "execution_count": 56,
     "metadata": {},
     "output_type": "execute_result"
    }
   ],
   "source": [
    "# Tabla de origen_user en la que se incorporan proporciones para tratar de ver posibles relaciones\n",
    "origen_user[\"Total\"] = origen_user[\"User1\"] + origen_user[\"User2\"] + origen_user[\"User3\"]\n",
    "origen_user[\"3Prop\"] = origen_user[\"User3\"] / origen_user[\"Total\"]\n",
    "origen_user[\"1Prop\"] = origen_user[\"User1\"] / origen_user[\"Total\"]\n",
    "origen_user"
   ]
  },
  {
   "cell_type": "code",
   "execution_count": 57,
   "metadata": {},
   "outputs": [
    {
     "data": {
      "text/html": [
       "<div>\n",
       "<style scoped>\n",
       "    .dataframe tbody tr th:only-of-type {\n",
       "        vertical-align: middle;\n",
       "    }\n",
       "\n",
       "    .dataframe tbody tr th {\n",
       "        vertical-align: top;\n",
       "    }\n",
       "\n",
       "    .dataframe thead th {\n",
       "        text-align: right;\n",
       "    }\n",
       "</style>\n",
       "<table border=\"1\" class=\"dataframe\">\n",
       "  <thead>\n",
       "    <tr style=\"text-align: right;\">\n",
       "      <th>user_type</th>\n",
       "      <th>idunplug_station</th>\n",
       "      <th>User1</th>\n",
       "      <th>User2</th>\n",
       "      <th>User3</th>\n",
       "      <th>Total</th>\n",
       "      <th>3Prop</th>\n",
       "      <th>1Prop</th>\n",
       "    </tr>\n",
       "  </thead>\n",
       "  <tbody>\n",
       "    <tr>\n",
       "      <td>76</td>\n",
       "      <td>82</td>\n",
       "      <td>24581.0</td>\n",
       "      <td>140.0</td>\n",
       "      <td>8492.0</td>\n",
       "      <td>33213.0</td>\n",
       "      <td>0.255683</td>\n",
       "      <td>0.740102</td>\n",
       "    </tr>\n",
       "  </tbody>\n",
       "</table>\n",
       "</div>"
      ],
      "text/plain": [
       "user_type  idunplug_station    User1  User2   User3    Total     3Prop  \\\n",
       "76                       82  24581.0  140.0  8492.0  33213.0  0.255683   \n",
       "\n",
       "user_type     1Prop  \n",
       "76         0.740102  "
      ]
     },
     "execution_count": 57,
     "metadata": {},
     "output_type": "execute_result"
    }
   ],
   "source": [
    "origen_user[origen_user[\"3Prop\"] == origen_user[\"3Prop\"].max()]\n",
    "# Con esto vemos que la estación de origen con mayor proporción de movimientos de los usuarios de mantenimiento es la 82\n",
    "# con el 25% de los movimientos"
   ]
  },
  {
   "cell_type": "code",
   "execution_count": 58,
   "metadata": {
    "scrolled": false
   },
   "outputs": [
    {
     "data": {
      "text/html": [
       "<div>\n",
       "<style scoped>\n",
       "    .dataframe tbody tr th:only-of-type {\n",
       "        vertical-align: middle;\n",
       "    }\n",
       "\n",
       "    .dataframe tbody tr th {\n",
       "        vertical-align: top;\n",
       "    }\n",
       "\n",
       "    .dataframe thead th {\n",
       "        text-align: right;\n",
       "    }\n",
       "</style>\n",
       "<table border=\"1\" class=\"dataframe\">\n",
       "  <thead>\n",
       "    <tr style=\"text-align: right;\">\n",
       "      <th>user_type</th>\n",
       "      <th>idunplug_station</th>\n",
       "      <th>User1</th>\n",
       "      <th>User2</th>\n",
       "      <th>User3</th>\n",
       "      <th>Total</th>\n",
       "      <th>3Prop</th>\n",
       "      <th>1Prop</th>\n",
       "    </tr>\n",
       "  </thead>\n",
       "  <tbody>\n",
       "    <tr>\n",
       "      <td>76</td>\n",
       "      <td>82</td>\n",
       "      <td>24581.0</td>\n",
       "      <td>140.0</td>\n",
       "      <td>8492.0</td>\n",
       "      <td>33213.0</td>\n",
       "      <td>0.255683</td>\n",
       "      <td>0.740102</td>\n",
       "    </tr>\n",
       "  </tbody>\n",
       "</table>\n",
       "</div>"
      ],
      "text/plain": [
       "user_type  idunplug_station    User1  User2   User3    Total     3Prop  \\\n",
       "76                       82  24581.0  140.0  8492.0  33213.0  0.255683   \n",
       "\n",
       "user_type     1Prop  \n",
       "76         0.740102  "
      ]
     },
     "execution_count": 58,
     "metadata": {},
     "output_type": "execute_result"
    }
   ],
   "source": [
    "origen_user[origen_user[\"1Prop\"] == origen_user[\"1Prop\"].min()]\n",
    "# Observamos, como era posible intuir, que la estación con mayor proporción de salidas de los usuarios de matenimiento\n",
    "# es la misma que menor proporción de salidas registra entre los usuarios estándar"
   ]
  },
  {
   "cell_type": "code",
   "execution_count": 205,
   "metadata": {},
   "outputs": [],
   "source": [
    "# Se crea una tabla \"destino_user\" para ver cuántos viajes ha realizado por estación de destino cada tipo de usuario\n",
    "destino_user = df_full.pivot_table(values=\"_id\", index=\"idplug_station\", columns=\"user_type\", aggfunc='count').reset_index()\n",
    "destino_user = destino_user.rename(columns={1:\"User1\", 2:\"User2\", 3:\"User3\"})\n",
    "destino_user.head()\n",
    "destino_user = destino_user.fillna(0)"
   ]
  },
  {
   "cell_type": "code",
   "execution_count": 207,
   "metadata": {},
   "outputs": [
    {
     "data": {
      "text/plain": [
       "Index(['idplug_station', 'User1', 'User2', 'User3'], dtype='object', name='user_type')"
      ]
     },
     "execution_count": 207,
     "metadata": {},
     "output_type": "execute_result"
    }
   ],
   "source": [
    "destino_user.columns"
   ]
  },
  {
   "cell_type": "code",
   "execution_count": 210,
   "metadata": {
    "scrolled": true
   },
   "outputs": [
    {
     "data": {
      "image/png": "[encoded data removed]",
      "text/plain": [
       "<Figure size 1440x144 with 1 Axes>"
      ]
     },
     "metadata": {
      "needs_background": "light"
     },
     "output_type": "display_data"
    }
   ],
   "source": [
    "# Número de viajes de los user 1 por estación de destino\n",
    "sns.catplot(data=destino_user, x=\"idplug_station\", y=\"User1\", kind='bar', height=2, aspect=10)\n",
    "plt.xticks(rotation=90)\n",
    "plt.show()"
   ]
  },
  {
   "cell_type": "code",
   "execution_count": 211,
   "metadata": {
    "scrolled": true
   },
   "outputs": [
    {
     "data": {
      "image/png": "[encoded data removed]",
      "text/plain": [
       "<Figure size 1440x144 with 1 Axes>"
      ]
     },
     "metadata": {
      "needs_background": "light"
     },
     "output_type": "display_data"
    }
   ],
   "source": [
    "# Número de viajes de los user 2 por estación de origen\n",
    "sns.catplot(data=destino_user, x=\"idplug_station\", y=\"User2\", kind='bar', height=2, aspect=10)\n",
    "plt.xticks(rotation=90)\n",
    "plt.show()"
   ]
  },
  {
   "cell_type": "code",
   "execution_count": 212,
   "metadata": {},
   "outputs": [
    {
     "data": {
      "image/png": "[encoded data removed]",
      "text/plain": [
       "<Figure size 1440x144 with 1 Axes>"
      ]
     },
     "metadata": {
      "needs_background": "light"
     },
     "output_type": "display_data"
    }
   ],
   "source": [
    "# Númerode viajes de user 3 por estación de origen\n",
    "sns.catplot(data=destino_user, x=\"idplug_station\", y=\"User3\", kind='bar', height=2, aspect=10)\n",
    "plt.xticks(rotation=90)\n",
    "plt.show()"
   ]
  },
  {
   "cell_type": "code",
   "execution_count": 218,
   "metadata": {},
   "outputs": [
    {
     "name": "stdout",
     "output_type": "stream",
     "text": [
      "349020.0\n",
      "349020.0\n"
     ]
    }
   ],
   "source": [
    "# Simplemente una comprobación...\n",
    "print(origen_user[\"User3\"].sum())\n",
    "print(destino_user[\"User3\"].sum())"
   ]
  },
  {
   "cell_type": "code",
   "execution_count": 219,
   "metadata": {
    "scrolled": true
   },
   "outputs": [
    {
     "data": {
      "text/html": [
       "<div>\n",
       "<style scoped>\n",
       "    .dataframe tbody tr th:only-of-type {\n",
       "        vertical-align: middle;\n",
       "    }\n",
       "\n",
       "    .dataframe tbody tr th {\n",
       "        vertical-align: top;\n",
       "    }\n",
       "\n",
       "    .dataframe thead th {\n",
       "        text-align: right;\n",
       "    }\n",
       "</style>\n",
       "<table border=\"1\" class=\"dataframe\">\n",
       "  <thead>\n",
       "    <tr style=\"text-align: right;\">\n",
       "      <th>user_type</th>\n",
       "      <th>idplug_station</th>\n",
       "      <th>User1</th>\n",
       "      <th>User2</th>\n",
       "      <th>User3</th>\n",
       "      <th>Total</th>\n",
       "      <th>3Prop</th>\n",
       "      <th>1Prop</th>\n",
       "    </tr>\n",
       "  </thead>\n",
       "  <tbody>\n",
       "    <tr>\n",
       "      <td>0</td>\n",
       "      <td>1</td>\n",
       "      <td>29889.0</td>\n",
       "      <td>805.0</td>\n",
       "      <td>1487.0</td>\n",
       "      <td>32181.0</td>\n",
       "      <td>0.046207</td>\n",
       "      <td>0.928778</td>\n",
       "    </tr>\n",
       "    <tr>\n",
       "      <td>1</td>\n",
       "      <td>2</td>\n",
       "      <td>11257.0</td>\n",
       "      <td>373.0</td>\n",
       "      <td>1178.0</td>\n",
       "      <td>12808.0</td>\n",
       "      <td>0.091974</td>\n",
       "      <td>0.878904</td>\n",
       "    </tr>\n",
       "    <tr>\n",
       "      <td>2</td>\n",
       "      <td>3</td>\n",
       "      <td>29475.0</td>\n",
       "      <td>519.0</td>\n",
       "      <td>471.0</td>\n",
       "      <td>30465.0</td>\n",
       "      <td>0.015460</td>\n",
       "      <td>0.967504</td>\n",
       "    </tr>\n",
       "    <tr>\n",
       "      <td>3</td>\n",
       "      <td>4</td>\n",
       "      <td>21519.0</td>\n",
       "      <td>163.0</td>\n",
       "      <td>611.0</td>\n",
       "      <td>22293.0</td>\n",
       "      <td>0.027408</td>\n",
       "      <td>0.965281</td>\n",
       "    </tr>\n",
       "    <tr>\n",
       "      <td>4</td>\n",
       "      <td>5</td>\n",
       "      <td>17624.0</td>\n",
       "      <td>143.0</td>\n",
       "      <td>1050.0</td>\n",
       "      <td>18817.0</td>\n",
       "      <td>0.055801</td>\n",
       "      <td>0.936600</td>\n",
       "    </tr>\n",
       "    <tr>\n",
       "      <td>...</td>\n",
       "      <td>...</td>\n",
       "      <td>...</td>\n",
       "      <td>...</td>\n",
       "      <td>...</td>\n",
       "      <td>...</td>\n",
       "      <td>...</td>\n",
       "      <td>...</td>\n",
       "    </tr>\n",
       "    <tr>\n",
       "      <td>210</td>\n",
       "      <td>216</td>\n",
       "      <td>6402.0</td>\n",
       "      <td>82.0</td>\n",
       "      <td>872.0</td>\n",
       "      <td>7356.0</td>\n",
       "      <td>0.118543</td>\n",
       "      <td>0.870310</td>\n",
       "    </tr>\n",
       "    <tr>\n",
       "      <td>211</td>\n",
       "      <td>217</td>\n",
       "      <td>6587.0</td>\n",
       "      <td>175.0</td>\n",
       "      <td>695.0</td>\n",
       "      <td>7457.0</td>\n",
       "      <td>0.093201</td>\n",
       "      <td>0.883331</td>\n",
       "    </tr>\n",
       "    <tr>\n",
       "      <td>212</td>\n",
       "      <td>218</td>\n",
       "      <td>7399.0</td>\n",
       "      <td>167.0</td>\n",
       "      <td>345.0</td>\n",
       "      <td>7911.0</td>\n",
       "      <td>0.043610</td>\n",
       "      <td>0.935280</td>\n",
       "    </tr>\n",
       "    <tr>\n",
       "      <td>213</td>\n",
       "      <td>219</td>\n",
       "      <td>10383.0</td>\n",
       "      <td>140.0</td>\n",
       "      <td>248.0</td>\n",
       "      <td>10771.0</td>\n",
       "      <td>0.023025</td>\n",
       "      <td>0.963977</td>\n",
       "    </tr>\n",
       "    <tr>\n",
       "      <td>214</td>\n",
       "      <td>2008</td>\n",
       "      <td>15.0</td>\n",
       "      <td>0.0</td>\n",
       "      <td>6.0</td>\n",
       "      <td>21.0</td>\n",
       "      <td>0.285714</td>\n",
       "      <td>0.714286</td>\n",
       "    </tr>\n",
       "  </tbody>\n",
       "</table>\n",
       "<p>215 rows × 7 columns</p>\n",
       "</div>"
      ],
      "text/plain": [
       "user_type  idplug_station    User1  User2   User3    Total     3Prop     1Prop\n",
       "0                       1  29889.0  805.0  1487.0  32181.0  0.046207  0.928778\n",
       "1                       2  11257.0  373.0  1178.0  12808.0  0.091974  0.878904\n",
       "2                       3  29475.0  519.0   471.0  30465.0  0.015460  0.967504\n",
       "3                       4  21519.0  163.0   611.0  22293.0  0.027408  0.965281\n",
       "4                       5  17624.0  143.0  1050.0  18817.0  0.055801  0.936600\n",
       "..                    ...      ...    ...     ...      ...       ...       ...\n",
       "210                   216   6402.0   82.0   872.0   7356.0  0.118543  0.870310\n",
       "211                   217   6587.0  175.0   695.0   7457.0  0.093201  0.883331\n",
       "212                   218   7399.0  167.0   345.0   7911.0  0.043610  0.935280\n",
       "213                   219  10383.0  140.0   248.0  10771.0  0.023025  0.963977\n",
       "214                  2008     15.0    0.0     6.0     21.0  0.285714  0.714286\n",
       "\n",
       "[215 rows x 7 columns]"
      ]
     },
     "execution_count": 219,
     "metadata": {},
     "output_type": "execute_result"
    }
   ],
   "source": [
    "destino_user[\"Total\"] = destino_user[\"User1\"] + destino_user[\"User2\"] + destino_user[\"User3\"]\n",
    "destino_user[\"3Prop\"] = destino_user[\"User3\"] / destino_user[\"Total\"]\n",
    "destino_user[\"1Prop\"] = destino_user[\"User1\"] / destino_user[\"Total\"]\n",
    "destino_user"
   ]
  },
  {
   "cell_type": "code",
   "execution_count": 261,
   "metadata": {
    "scrolled": false
   },
   "outputs": [
    {
     "data": {
      "text/html": [
       "<div>\n",
       "<style scoped>\n",
       "    .dataframe tbody tr th:only-of-type {\n",
       "        vertical-align: middle;\n",
       "    }\n",
       "\n",
       "    .dataframe tbody tr th {\n",
       "        vertical-align: top;\n",
       "    }\n",
       "\n",
       "    .dataframe thead th {\n",
       "        text-align: right;\n",
       "    }\n",
       "</style>\n",
       "<table border=\"1\" class=\"dataframe\">\n",
       "  <thead>\n",
       "    <tr style=\"text-align: right;\">\n",
       "      <th></th>\n",
       "      <th>idunplug_station</th>\n",
       "      <th>idplug_station</th>\n",
       "      <th>travel_time</th>\n",
       "    </tr>\n",
       "  </thead>\n",
       "  <tbody>\n",
       "    <tr>\n",
       "      <td>0</td>\n",
       "      <td>1</td>\n",
       "      <td>1</td>\n",
       "      <td>30.104326</td>\n",
       "    </tr>\n",
       "    <tr>\n",
       "      <td>1</td>\n",
       "      <td>1</td>\n",
       "      <td>2</td>\n",
       "      <td>748.047619</td>\n",
       "    </tr>\n",
       "    <tr>\n",
       "      <td>2</td>\n",
       "      <td>1</td>\n",
       "      <td>5</td>\n",
       "      <td>3237.833333</td>\n",
       "    </tr>\n",
       "    <tr>\n",
       "      <td>3</td>\n",
       "      <td>1</td>\n",
       "      <td>6</td>\n",
       "      <td>4051.000000</td>\n",
       "    </tr>\n",
       "    <tr>\n",
       "      <td>4</td>\n",
       "      <td>1</td>\n",
       "      <td>7</td>\n",
       "      <td>623.000000</td>\n",
       "    </tr>\n",
       "  </tbody>\n",
       "</table>\n",
       "</div>"
      ],
      "text/plain": [
       "   idunplug_station  idplug_station  travel_time\n",
       "0                 1               1    30.104326\n",
       "1                 1               2   748.047619\n",
       "2                 1               5  3237.833333\n",
       "3                 1               6  4051.000000\n",
       "4                 1               7   623.000000"
      ]
     },
     "execution_count": 261,
     "metadata": {},
     "output_type": "execute_result"
    }
   ],
   "source": [
    "# Se analizan los viajes y el tiempo medio de las rutas que realizan los usuarios de mantenimiento\n",
    "# Creo tabla de tiempo medio de las rutas\n",
    "time_rutas = df_u3_filtrada.groupby([\"idunplug_station\", \"idplug_station\"])[\"travel_time\"].mean().reset_index()\n",
    "time_rutas.head()"
   ]
  },
  {
   "cell_type": "code",
   "execution_count": 262,
   "metadata": {},
   "outputs": [
    {
     "data": {
      "text/plain": [
       "(15958, 3)"
      ]
     },
     "execution_count": 262,
     "metadata": {},
     "output_type": "execute_result"
    }
   ],
   "source": [
    "time_rutas.shape"
   ]
  },
  {
   "cell_type": "code",
   "execution_count": 263,
   "metadata": {
    "scrolled": true
   },
   "outputs": [
    {
     "data": {
      "text/html": [
       "<div>\n",
       "<style scoped>\n",
       "    .dataframe tbody tr th:only-of-type {\n",
       "        vertical-align: middle;\n",
       "    }\n",
       "\n",
       "    .dataframe tbody tr th {\n",
       "        vertical-align: top;\n",
       "    }\n",
       "\n",
       "    .dataframe thead th {\n",
       "        text-align: right;\n",
       "    }\n",
       "</style>\n",
       "<table border=\"1\" class=\"dataframe\">\n",
       "  <thead>\n",
       "    <tr style=\"text-align: right;\">\n",
       "      <th></th>\n",
       "      <th>idunplug_station</th>\n",
       "      <th>idplug_station</th>\n",
       "      <th>num_movimientos</th>\n",
       "    </tr>\n",
       "  </thead>\n",
       "  <tbody>\n",
       "    <tr>\n",
       "      <td>0</td>\n",
       "      <td>1</td>\n",
       "      <td>1</td>\n",
       "      <td>393</td>\n",
       "    </tr>\n",
       "    <tr>\n",
       "      <td>1</td>\n",
       "      <td>1</td>\n",
       "      <td>2</td>\n",
       "      <td>21</td>\n",
       "    </tr>\n",
       "    <tr>\n",
       "      <td>2</td>\n",
       "      <td>1</td>\n",
       "      <td>5</td>\n",
       "      <td>12</td>\n",
       "    </tr>\n",
       "    <tr>\n",
       "      <td>3</td>\n",
       "      <td>1</td>\n",
       "      <td>6</td>\n",
       "      <td>2</td>\n",
       "    </tr>\n",
       "    <tr>\n",
       "      <td>4</td>\n",
       "      <td>1</td>\n",
       "      <td>7</td>\n",
       "      <td>2</td>\n",
       "    </tr>\n",
       "  </tbody>\n",
       "</table>\n",
       "</div>"
      ],
      "text/plain": [
       "   idunplug_station  idplug_station  num_movimientos\n",
       "0                 1               1              393\n",
       "1                 1               2               21\n",
       "2                 1               5               12\n",
       "3                 1               6                2\n",
       "4                 1               7                2"
      ]
     },
     "execution_count": 263,
     "metadata": {},
     "output_type": "execute_result"
    }
   ],
   "source": [
    "# Creo tabla de número de viajes de las rutas\n",
    "moves_rutas = df_u3_filtrada.groupby([\"idunplug_station\", \"idplug_station\"])[\"_id\"].count().reset_index()\n",
    "moves_rutas = moves_rutas.rename(columns={\"_id\":\"num_movimientos\"})\n",
    "moves_rutas.head()"
   ]
  },
  {
   "cell_type": "code",
   "execution_count": 264,
   "metadata": {},
   "outputs": [
    {
     "data": {
      "text/plain": [
       "(15958, 3)"
      ]
     },
     "execution_count": 264,
     "metadata": {},
     "output_type": "execute_result"
    }
   ],
   "source": [
    "moves_rutas.shape"
   ]
  },
  {
   "cell_type": "code",
   "execution_count": 281,
   "metadata": {
    "scrolled": false
   },
   "outputs": [
    {
     "data": {
      "text/html": [
       "<div>\n",
       "<style scoped>\n",
       "    .dataframe tbody tr th:only-of-type {\n",
       "        vertical-align: middle;\n",
       "    }\n",
       "\n",
       "    .dataframe tbody tr th {\n",
       "        vertical-align: top;\n",
       "    }\n",
       "\n",
       "    .dataframe thead th {\n",
       "        text-align: right;\n",
       "    }\n",
       "</style>\n",
       "<table border=\"1\" class=\"dataframe\">\n",
       "  <thead>\n",
       "    <tr style=\"text-align: right;\">\n",
       "      <th></th>\n",
       "      <th>idunplug_station</th>\n",
       "      <th>idplug_station</th>\n",
       "      <th>num_movimientos</th>\n",
       "      <th>travel_time</th>\n",
       "    </tr>\n",
       "  </thead>\n",
       "  <tbody>\n",
       "    <tr>\n",
       "      <td>0</td>\n",
       "      <td>1</td>\n",
       "      <td>1</td>\n",
       "      <td>393</td>\n",
       "      <td>30.104326</td>\n",
       "    </tr>\n",
       "    <tr>\n",
       "      <td>1</td>\n",
       "      <td>1</td>\n",
       "      <td>2</td>\n",
       "      <td>21</td>\n",
       "      <td>748.047619</td>\n",
       "    </tr>\n",
       "    <tr>\n",
       "      <td>2</td>\n",
       "      <td>1</td>\n",
       "      <td>5</td>\n",
       "      <td>12</td>\n",
       "      <td>3237.833333</td>\n",
       "    </tr>\n",
       "    <tr>\n",
       "      <td>3</td>\n",
       "      <td>1</td>\n",
       "      <td>6</td>\n",
       "      <td>2</td>\n",
       "      <td>4051.000000</td>\n",
       "    </tr>\n",
       "    <tr>\n",
       "      <td>4</td>\n",
       "      <td>1</td>\n",
       "      <td>7</td>\n",
       "      <td>2</td>\n",
       "      <td>623.000000</td>\n",
       "    </tr>\n",
       "  </tbody>\n",
       "</table>\n",
       "</div>"
      ],
      "text/plain": [
       "   idunplug_station  idplug_station  num_movimientos  travel_time\n",
       "0                 1               1              393    30.104326\n",
       "1                 1               2               21   748.047619\n",
       "2                 1               5               12  3237.833333\n",
       "3                 1               6                2  4051.000000\n",
       "4                 1               7                2   623.000000"
      ]
     },
     "execution_count": 281,
     "metadata": {},
     "output_type": "execute_result"
    }
   ],
   "source": [
    "# Uno las tablas anteriores\n",
    "u3_rutas = pd.merge(moves_rutas, time_rutas, on=[\"idunplug_station\", \"idplug_station\"], how=\"left\")\n",
    "u3_rutas.head()"
   ]
  },
  {
   "cell_type": "code",
   "execution_count": 226,
   "metadata": {
    "scrolled": true
   },
   "outputs": [
    {
     "data": {
      "image/png": "[encoded data removed]",
      "text/plain": [
       "<Figure size 864x432 with 1 Axes>"
      ]
     },
     "metadata": {
      "needs_background": "light"
     },
     "output_type": "display_data"
    }
   ],
   "source": [
    "# Se crea un gráfico para evaluar la relación entre el número de viajes y el tiempo medio de las rutas realizadas por los\n",
    "# usuarios de mantenimiento\n",
    "sns.relplot(data=u3_rutas, x=\"num_movimientos\", y=\"travel_time\", kind=\"scatter\", color=\"red\", height=6, aspect=2)\n",
    "plt.show()"
   ]
  },
  {
   "cell_type": "code",
   "execution_count": 266,
   "metadata": {},
   "outputs": [
    {
     "name": "stdout",
     "output_type": "stream",
     "text": [
      "21.67032209550069\n",
      "3015.5497365811802\n"
     ]
    }
   ],
   "source": [
    "print(u3_rutas[\"num_movimientos\"].mean())\n",
    "print(u3_rutas[\"travel_time\"].mean())"
   ]
  },
  {
   "cell_type": "code",
   "execution_count": 74,
   "metadata": {
    "scrolled": true
   },
   "outputs": [
    {
     "data": {
      "text/html": [
       "<div>\n",
       "<style scoped>\n",
       "    .dataframe tbody tr th:only-of-type {\n",
       "        vertical-align: middle;\n",
       "    }\n",
       "\n",
       "    .dataframe tbody tr th {\n",
       "        vertical-align: top;\n",
       "    }\n",
       "\n",
       "    .dataframe thead th {\n",
       "        text-align: right;\n",
       "    }\n",
       "</style>\n",
       "<table border=\"1\" class=\"dataframe\">\n",
       "  <thead>\n",
       "    <tr style=\"text-align: right;\">\n",
       "      <th></th>\n",
       "      <th>idunplug_station</th>\n",
       "      <th>idplug_station</th>\n",
       "      <th>num_movimientos</th>\n",
       "      <th>travel_time</th>\n",
       "    </tr>\n",
       "  </thead>\n",
       "  <tbody>\n",
       "    <tr>\n",
       "      <td>5298</td>\n",
       "      <td>83</td>\n",
       "      <td>83</td>\n",
       "      <td>1286</td>\n",
       "      <td>39.898134</td>\n",
       "    </tr>\n",
       "    <tr>\n",
       "      <td>13320</td>\n",
       "      <td>175</td>\n",
       "      <td>175</td>\n",
       "      <td>1109</td>\n",
       "      <td>79.486925</td>\n",
       "    </tr>\n",
       "    <tr>\n",
       "      <td>9769</td>\n",
       "      <td>135</td>\n",
       "      <td>135</td>\n",
       "      <td>1046</td>\n",
       "      <td>117.151052</td>\n",
       "    </tr>\n",
       "    <tr>\n",
       "      <td>1807</td>\n",
       "      <td>43</td>\n",
       "      <td>43</td>\n",
       "      <td>858</td>\n",
       "      <td>36.847319</td>\n",
       "    </tr>\n",
       "    <tr>\n",
       "      <td>9293</td>\n",
       "      <td>132</td>\n",
       "      <td>132</td>\n",
       "      <td>814</td>\n",
       "      <td>113.836609</td>\n",
       "    </tr>\n",
       "    <tr>\n",
       "      <td>9464</td>\n",
       "      <td>133</td>\n",
       "      <td>133</td>\n",
       "      <td>791</td>\n",
       "      <td>36.474083</td>\n",
       "    </tr>\n",
       "    <tr>\n",
       "      <td>15716</td>\n",
       "      <td>213</td>\n",
       "      <td>213</td>\n",
       "      <td>762</td>\n",
       "      <td>68.286089</td>\n",
       "    </tr>\n",
       "    <tr>\n",
       "      <td>8997</td>\n",
       "      <td>129</td>\n",
       "      <td>129</td>\n",
       "      <td>761</td>\n",
       "      <td>72.846255</td>\n",
       "    </tr>\n",
       "    <tr>\n",
       "      <td>5125</td>\n",
       "      <td>82</td>\n",
       "      <td>82</td>\n",
       "      <td>759</td>\n",
       "      <td>22.938076</td>\n",
       "    </tr>\n",
       "    <tr>\n",
       "      <td>285</td>\n",
       "      <td>6</td>\n",
       "      <td>6</td>\n",
       "      <td>752</td>\n",
       "      <td>37.436170</td>\n",
       "    </tr>\n",
       "    <tr>\n",
       "      <td>1502</td>\n",
       "      <td>41</td>\n",
       "      <td>41</td>\n",
       "      <td>737</td>\n",
       "      <td>34.886024</td>\n",
       "    </tr>\n",
       "    <tr>\n",
       "      <td>2215</td>\n",
       "      <td>49</td>\n",
       "      <td>49</td>\n",
       "      <td>717</td>\n",
       "      <td>51.012552</td>\n",
       "    </tr>\n",
       "    <tr>\n",
       "      <td>6142</td>\n",
       "      <td>90</td>\n",
       "      <td>90</td>\n",
       "      <td>713</td>\n",
       "      <td>45.674614</td>\n",
       "    </tr>\n",
       "    <tr>\n",
       "      <td>11090</td>\n",
       "      <td>149</td>\n",
       "      <td>149</td>\n",
       "      <td>690</td>\n",
       "      <td>38.717391</td>\n",
       "    </tr>\n",
       "    <tr>\n",
       "      <td>12285</td>\n",
       "      <td>163</td>\n",
       "      <td>163</td>\n",
       "      <td>673</td>\n",
       "      <td>44.673105</td>\n",
       "    </tr>\n",
       "  </tbody>\n",
       "</table>\n",
       "</div>"
      ],
      "text/plain": [
       "       idunplug_station  idplug_station  num_movimientos  travel_time\n",
       "5298                 83              83             1286    39.898134\n",
       "13320               175             175             1109    79.486925\n",
       "9769                135             135             1046   117.151052\n",
       "1807                 43              43              858    36.847319\n",
       "9293                132             132              814   113.836609\n",
       "9464                133             133              791    36.474083\n",
       "15716               213             213              762    68.286089\n",
       "8997                129             129              761    72.846255\n",
       "5125                 82              82              759    22.938076\n",
       "285                   6               6              752    37.436170\n",
       "1502                 41              41              737    34.886024\n",
       "2215                 49              49              717    51.012552\n",
       "6142                 90              90              713    45.674614\n",
       "11090               149             149              690    38.717391\n",
       "12285               163             163              673    44.673105"
      ]
     },
     "execution_count": 74,
     "metadata": {},
     "output_type": "execute_result"
    }
   ],
   "source": [
    "# Se observan las 15 rutas con mayor número de movimientos\n",
    "u3_rutas.nlargest(15, columns=\"num_movimientos\")"
   ]
  },
  {
   "cell_type": "code",
   "execution_count": null,
   "metadata": {},
   "outputs": [],
   "source": [
    "# Podemos afirmar que estos movimientos no son desplazamientos como tal, si no que más bien se trata de una labor de revisión o\n",
    "# recolocación de las bicicletas, pues se trata de movimientos que duran en su mayoría menos de 1 minuto."
   ]
  },
  {
   "cell_type": "code",
   "execution_count": 75,
   "metadata": {},
   "outputs": [
    {
     "data": {
      "text/plain": [
       "26.390121885979497"
      ]
     },
     "execution_count": 75,
     "metadata": {},
     "output_type": "execute_result"
    }
   ],
   "source": [
    "# Estas gestiones de revisión/recolocación suponen el 26,4% del total de movimientos\n",
    "u3_rutas[u3_rutas[\"idunplug_station\"] == u3_rutas[\"idplug_station\"]][\"num_movimientos\"].sum() / u3_rutas[\"num_movimientos\"].sum() * 100"
   ]
  },
  {
   "cell_type": "code",
   "execution_count": 76,
   "metadata": {
    "scrolled": false
   },
   "outputs": [
    {
     "data": {
      "text/html": [
       "<div>\n",
       "<style scoped>\n",
       "    .dataframe tbody tr th:only-of-type {\n",
       "        vertical-align: middle;\n",
       "    }\n",
       "\n",
       "    .dataframe tbody tr th {\n",
       "        vertical-align: top;\n",
       "    }\n",
       "\n",
       "    .dataframe thead th {\n",
       "        text-align: right;\n",
       "    }\n",
       "</style>\n",
       "<table border=\"1\" class=\"dataframe\">\n",
       "  <thead>\n",
       "    <tr style=\"text-align: right;\">\n",
       "      <th></th>\n",
       "      <th>idunplug_station</th>\n",
       "      <th>idplug_station</th>\n",
       "      <th>num_movimientos</th>\n",
       "      <th>travel_time</th>\n",
       "    </tr>\n",
       "  </thead>\n",
       "  <tbody>\n",
       "    <tr>\n",
       "      <td>9</td>\n",
       "      <td>1</td>\n",
       "      <td>12</td>\n",
       "      <td>1</td>\n",
       "      <td>2476.0</td>\n",
       "    </tr>\n",
       "    <tr>\n",
       "      <td>11</td>\n",
       "      <td>1</td>\n",
       "      <td>20</td>\n",
       "      <td>1</td>\n",
       "      <td>3072.0</td>\n",
       "    </tr>\n",
       "    <tr>\n",
       "      <td>13</td>\n",
       "      <td>1</td>\n",
       "      <td>25</td>\n",
       "      <td>1</td>\n",
       "      <td>282.0</td>\n",
       "    </tr>\n",
       "    <tr>\n",
       "      <td>14</td>\n",
       "      <td>1</td>\n",
       "      <td>26</td>\n",
       "      <td>1</td>\n",
       "      <td>724.0</td>\n",
       "    </tr>\n",
       "    <tr>\n",
       "      <td>24</td>\n",
       "      <td>1</td>\n",
       "      <td>46</td>\n",
       "      <td>1</td>\n",
       "      <td>280.0</td>\n",
       "    </tr>\n",
       "    <tr>\n",
       "      <td>27</td>\n",
       "      <td>1</td>\n",
       "      <td>51</td>\n",
       "      <td>1</td>\n",
       "      <td>4775.0</td>\n",
       "    </tr>\n",
       "    <tr>\n",
       "      <td>31</td>\n",
       "      <td>1</td>\n",
       "      <td>56</td>\n",
       "      <td>1</td>\n",
       "      <td>152.0</td>\n",
       "    </tr>\n",
       "    <tr>\n",
       "      <td>35</td>\n",
       "      <td>1</td>\n",
       "      <td>64</td>\n",
       "      <td>1</td>\n",
       "      <td>2243.0</td>\n",
       "    </tr>\n",
       "    <tr>\n",
       "      <td>38</td>\n",
       "      <td>1</td>\n",
       "      <td>69</td>\n",
       "      <td>1</td>\n",
       "      <td>2177.0</td>\n",
       "    </tr>\n",
       "    <tr>\n",
       "      <td>42</td>\n",
       "      <td>1</td>\n",
       "      <td>81</td>\n",
       "      <td>1</td>\n",
       "      <td>768.0</td>\n",
       "    </tr>\n",
       "    <tr>\n",
       "      <td>45</td>\n",
       "      <td>1</td>\n",
       "      <td>84</td>\n",
       "      <td>1</td>\n",
       "      <td>8425.0</td>\n",
       "    </tr>\n",
       "    <tr>\n",
       "      <td>66</td>\n",
       "      <td>1</td>\n",
       "      <td>132</td>\n",
       "      <td>1</td>\n",
       "      <td>600.0</td>\n",
       "    </tr>\n",
       "    <tr>\n",
       "      <td>94</td>\n",
       "      <td>1</td>\n",
       "      <td>193</td>\n",
       "      <td>1</td>\n",
       "      <td>5233.0</td>\n",
       "    </tr>\n",
       "    <tr>\n",
       "      <td>100</td>\n",
       "      <td>2</td>\n",
       "      <td>5</td>\n",
       "      <td>1</td>\n",
       "      <td>3155.0</td>\n",
       "    </tr>\n",
       "    <tr>\n",
       "      <td>102</td>\n",
       "      <td>2</td>\n",
       "      <td>9</td>\n",
       "      <td>1</td>\n",
       "      <td>4347.0</td>\n",
       "    </tr>\n",
       "  </tbody>\n",
       "</table>\n",
       "</div>"
      ],
      "text/plain": [
       "     idunplug_station  idplug_station  num_movimientos  travel_time\n",
       "9                   1              12                1       2476.0\n",
       "11                  1              20                1       3072.0\n",
       "13                  1              25                1        282.0\n",
       "14                  1              26                1        724.0\n",
       "24                  1              46                1        280.0\n",
       "27                  1              51                1       4775.0\n",
       "31                  1              56                1        152.0\n",
       "35                  1              64                1       2243.0\n",
       "38                  1              69                1       2177.0\n",
       "42                  1              81                1        768.0\n",
       "45                  1              84                1       8425.0\n",
       "66                  1             132                1        600.0\n",
       "94                  1             193                1       5233.0\n",
       "100                 2               5                1       3155.0\n",
       "102                 2               9                1       4347.0"
      ]
     },
     "execution_count": 76,
     "metadata": {},
     "output_type": "execute_result"
    }
   ],
   "source": [
    "u3_rutas.nsmallest(15, columns=\"num_movimientos\")"
   ]
  },
  {
   "cell_type": "code",
   "execution_count": 77,
   "metadata": {},
   "outputs": [
    {
     "data": {
      "text/plain": [
       "12.131846096002006"
      ]
     },
     "execution_count": 77,
     "metadata": {},
     "output_type": "execute_result"
    }
   ],
   "source": [
    "# Las rutas con un solo movimiento suponen el 12% del total de movimientos\n",
    "len(u3_rutas[u3_rutas[\"num_movimientos\"]==1]) / len(u3_rutas) * 100"
   ]
  },
  {
   "cell_type": "code",
   "execution_count": 78,
   "metadata": {
    "scrolled": true
   },
   "outputs": [
    {
     "data": {
      "text/html": [
       "<div>\n",
       "<style scoped>\n",
       "    .dataframe tbody tr th:only-of-type {\n",
       "        vertical-align: middle;\n",
       "    }\n",
       "\n",
       "    .dataframe tbody tr th {\n",
       "        vertical-align: top;\n",
       "    }\n",
       "\n",
       "    .dataframe thead th {\n",
       "        text-align: right;\n",
       "    }\n",
       "</style>\n",
       "<table border=\"1\" class=\"dataframe\">\n",
       "  <thead>\n",
       "    <tr style=\"text-align: right;\">\n",
       "      <th></th>\n",
       "      <th>idunplug_station</th>\n",
       "      <th>idplug_station</th>\n",
       "      <th>num_movimientos</th>\n",
       "      <th>travel_time</th>\n",
       "    </tr>\n",
       "  </thead>\n",
       "  <tbody>\n",
       "    <tr>\n",
       "      <td>8875</td>\n",
       "      <td>128</td>\n",
       "      <td>163</td>\n",
       "      <td>1</td>\n",
       "      <td>21558.00</td>\n",
       "    </tr>\n",
       "    <tr>\n",
       "      <td>12527</td>\n",
       "      <td>167</td>\n",
       "      <td>104</td>\n",
       "      <td>1</td>\n",
       "      <td>21486.00</td>\n",
       "    </tr>\n",
       "    <tr>\n",
       "      <td>585</td>\n",
       "      <td>13</td>\n",
       "      <td>148</td>\n",
       "      <td>2</td>\n",
       "      <td>21395.00</td>\n",
       "    </tr>\n",
       "    <tr>\n",
       "      <td>13708</td>\n",
       "      <td>179</td>\n",
       "      <td>217</td>\n",
       "      <td>1</td>\n",
       "      <td>20533.00</td>\n",
       "    </tr>\n",
       "    <tr>\n",
       "      <td>6727</td>\n",
       "      <td>99</td>\n",
       "      <td>51</td>\n",
       "      <td>1</td>\n",
       "      <td>20457.00</td>\n",
       "    </tr>\n",
       "    <tr>\n",
       "      <td>10012</td>\n",
       "      <td>137</td>\n",
       "      <td>72</td>\n",
       "      <td>1</td>\n",
       "      <td>20190.00</td>\n",
       "    </tr>\n",
       "    <tr>\n",
       "      <td>8802</td>\n",
       "      <td>128</td>\n",
       "      <td>75</td>\n",
       "      <td>1</td>\n",
       "      <td>20169.00</td>\n",
       "    </tr>\n",
       "    <tr>\n",
       "      <td>1234</td>\n",
       "      <td>35</td>\n",
       "      <td>154</td>\n",
       "      <td>4</td>\n",
       "      <td>20112.75</td>\n",
       "    </tr>\n",
       "    <tr>\n",
       "      <td>3860</td>\n",
       "      <td>72</td>\n",
       "      <td>100</td>\n",
       "      <td>1</td>\n",
       "      <td>20090.00</td>\n",
       "    </tr>\n",
       "    <tr>\n",
       "      <td>566</td>\n",
       "      <td>13</td>\n",
       "      <td>99</td>\n",
       "      <td>1</td>\n",
       "      <td>19849.00</td>\n",
       "    </tr>\n",
       "    <tr>\n",
       "      <td>15344</td>\n",
       "      <td>207</td>\n",
       "      <td>103</td>\n",
       "      <td>1</td>\n",
       "      <td>19482.00</td>\n",
       "    </tr>\n",
       "    <tr>\n",
       "      <td>1235</td>\n",
       "      <td>35</td>\n",
       "      <td>159</td>\n",
       "      <td>1</td>\n",
       "      <td>19366.00</td>\n",
       "    </tr>\n",
       "    <tr>\n",
       "      <td>9844</td>\n",
       "      <td>135</td>\n",
       "      <td>214</td>\n",
       "      <td>2</td>\n",
       "      <td>19122.00</td>\n",
       "    </tr>\n",
       "    <tr>\n",
       "      <td>7047</td>\n",
       "      <td>106</td>\n",
       "      <td>5</td>\n",
       "      <td>2</td>\n",
       "      <td>18915.50</td>\n",
       "    </tr>\n",
       "    <tr>\n",
       "      <td>14167</td>\n",
       "      <td>185</td>\n",
       "      <td>33</td>\n",
       "      <td>1</td>\n",
       "      <td>18900.00</td>\n",
       "    </tr>\n",
       "  </tbody>\n",
       "</table>\n",
       "</div>"
      ],
      "text/plain": [
       "       idunplug_station  idplug_station  num_movimientos  travel_time\n",
       "8875                128             163                1     21558.00\n",
       "12527               167             104                1     21486.00\n",
       "585                  13             148                2     21395.00\n",
       "13708               179             217                1     20533.00\n",
       "6727                 99              51                1     20457.00\n",
       "10012               137              72                1     20190.00\n",
       "8802                128              75                1     20169.00\n",
       "1234                 35             154                4     20112.75\n",
       "3860                 72             100                1     20090.00\n",
       "566                  13              99                1     19849.00\n",
       "15344               207             103                1     19482.00\n",
       "1235                 35             159                1     19366.00\n",
       "9844                135             214                2     19122.00\n",
       "7047                106               5                2     18915.50\n",
       "14167               185              33                1     18900.00"
      ]
     },
     "execution_count": 78,
     "metadata": {},
     "output_type": "execute_result"
    }
   ],
   "source": [
    "u3_rutas.nlargest(15, columns=\"travel_time\")"
   ]
  },
  {
   "cell_type": "code",
   "execution_count": 228,
   "metadata": {
    "scrolled": true
   },
   "outputs": [
    {
     "data": {
      "text/html": [
       "<div>\n",
       "<style scoped>\n",
       "    .dataframe tbody tr th:only-of-type {\n",
       "        vertical-align: middle;\n",
       "    }\n",
       "\n",
       "    .dataframe tbody tr th {\n",
       "        vertical-align: top;\n",
       "    }\n",
       "\n",
       "    .dataframe thead th {\n",
       "        text-align: right;\n",
       "    }\n",
       "</style>\n",
       "<table border=\"1\" class=\"dataframe\">\n",
       "  <thead>\n",
       "    <tr style=\"text-align: right;\">\n",
       "      <th></th>\n",
       "      <th>year</th>\n",
       "      <th>month</th>\n",
       "      <th>day</th>\n",
       "      <th>_id</th>\n",
       "    </tr>\n",
       "  </thead>\n",
       "  <tbody>\n",
       "    <tr>\n",
       "      <td>0</td>\n",
       "      <td>2019</td>\n",
       "      <td>1</td>\n",
       "      <td>1</td>\n",
       "      <td>394</td>\n",
       "    </tr>\n",
       "    <tr>\n",
       "      <td>1</td>\n",
       "      <td>2019</td>\n",
       "      <td>1</td>\n",
       "      <td>2</td>\n",
       "      <td>600</td>\n",
       "    </tr>\n",
       "    <tr>\n",
       "      <td>2</td>\n",
       "      <td>2019</td>\n",
       "      <td>1</td>\n",
       "      <td>3</td>\n",
       "      <td>622</td>\n",
       "    </tr>\n",
       "    <tr>\n",
       "      <td>3</td>\n",
       "      <td>2019</td>\n",
       "      <td>1</td>\n",
       "      <td>4</td>\n",
       "      <td>500</td>\n",
       "    </tr>\n",
       "    <tr>\n",
       "      <td>4</td>\n",
       "      <td>2019</td>\n",
       "      <td>1</td>\n",
       "      <td>5</td>\n",
       "      <td>405</td>\n",
       "    </tr>\n",
       "    <tr>\n",
       "      <td>...</td>\n",
       "      <td>...</td>\n",
       "      <td>...</td>\n",
       "      <td>...</td>\n",
       "      <td>...</td>\n",
       "    </tr>\n",
       "    <tr>\n",
       "      <td>473</td>\n",
       "      <td>2020</td>\n",
       "      <td>6</td>\n",
       "      <td>11</td>\n",
       "      <td>909</td>\n",
       "    </tr>\n",
       "    <tr>\n",
       "      <td>474</td>\n",
       "      <td>2020</td>\n",
       "      <td>6</td>\n",
       "      <td>12</td>\n",
       "      <td>1011</td>\n",
       "    </tr>\n",
       "    <tr>\n",
       "      <td>475</td>\n",
       "      <td>2020</td>\n",
       "      <td>6</td>\n",
       "      <td>13</td>\n",
       "      <td>351</td>\n",
       "    </tr>\n",
       "    <tr>\n",
       "      <td>476</td>\n",
       "      <td>2020</td>\n",
       "      <td>6</td>\n",
       "      <td>14</td>\n",
       "      <td>376</td>\n",
       "    </tr>\n",
       "    <tr>\n",
       "      <td>477</td>\n",
       "      <td>2020</td>\n",
       "      <td>6</td>\n",
       "      <td>15</td>\n",
       "      <td>673</td>\n",
       "    </tr>\n",
       "  </tbody>\n",
       "</table>\n",
       "<p>478 rows × 4 columns</p>\n",
       "</div>"
      ],
      "text/plain": [
       "     year  month  day   _id\n",
       "0    2019      1    1   394\n",
       "1    2019      1    2   600\n",
       "2    2019      1    3   622\n",
       "3    2019      1    4   500\n",
       "4    2019      1    5   405\n",
       "..    ...    ...  ...   ...\n",
       "473  2020      6   11   909\n",
       "474  2020      6   12  1011\n",
       "475  2020      6   13   351\n",
       "476  2020      6   14   376\n",
       "477  2020      6   15   673\n",
       "\n",
       "[478 rows x 4 columns]"
      ]
     },
     "execution_count": 228,
     "metadata": {},
     "output_type": "execute_result"
    }
   ],
   "source": [
    "# Tabla con evolutivo de movimientos de los user 3\n",
    "u3_moves = df_u3_filtrada.groupby([\"year\", \"month\", \"day\"])[\"_id\"].count().reset_index()\n",
    "u3_moves.sort_values(by=[\"year\", \"month\", \"day\"])"
   ]
  },
  {
   "cell_type": "code",
   "execution_count": 230,
   "metadata": {
    "scrolled": false
   },
   "outputs": [
    {
     "data": {
      "text/plain": [
       "count     478.000000\n",
       "mean      723.462343\n",
       "std       283.413954\n",
       "min         4.000000\n",
       "25%       556.000000\n",
       "50%       743.500000\n",
       "75%       894.750000\n",
       "max      2488.000000\n",
       "Name: _id, dtype: float64"
      ]
     },
     "execution_count": 230,
     "metadata": {},
     "output_type": "execute_result"
    }
   ],
   "source": [
    "# Distribución de la variable de movimientos diarios de los trabajadores de BiciMAD\n",
    "u3_moves._id.describe()"
   ]
  },
  {
   "cell_type": "code",
   "execution_count": 284,
   "metadata": {
    "scrolled": true
   },
   "outputs": [
    {
     "data": {
      "text/html": [
       "<div>\n",
       "<style scoped>\n",
       "    .dataframe tbody tr th:only-of-type {\n",
       "        vertical-align: middle;\n",
       "    }\n",
       "\n",
       "    .dataframe tbody tr th {\n",
       "        vertical-align: top;\n",
       "    }\n",
       "\n",
       "    .dataframe thead th {\n",
       "        text-align: right;\n",
       "    }\n",
       "</style>\n",
       "<table border=\"1\" class=\"dataframe\">\n",
       "  <thead>\n",
       "    <tr style=\"text-align: right;\">\n",
       "      <th></th>\n",
       "      <th>year</th>\n",
       "      <th>month</th>\n",
       "      <th>day</th>\n",
       "      <th>travel_time</th>\n",
       "    </tr>\n",
       "  </thead>\n",
       "  <tbody>\n",
       "    <tr>\n",
       "      <td>0</td>\n",
       "      <td>2019</td>\n",
       "      <td>1</td>\n",
       "      <td>1</td>\n",
       "      <td>2366.159898</td>\n",
       "    </tr>\n",
       "    <tr>\n",
       "      <td>1</td>\n",
       "      <td>2019</td>\n",
       "      <td>1</td>\n",
       "      <td>2</td>\n",
       "      <td>1903.216667</td>\n",
       "    </tr>\n",
       "    <tr>\n",
       "      <td>2</td>\n",
       "      <td>2019</td>\n",
       "      <td>1</td>\n",
       "      <td>3</td>\n",
       "      <td>2189.327974</td>\n",
       "    </tr>\n",
       "    <tr>\n",
       "      <td>3</td>\n",
       "      <td>2019</td>\n",
       "      <td>1</td>\n",
       "      <td>4</td>\n",
       "      <td>2725.478000</td>\n",
       "    </tr>\n",
       "    <tr>\n",
       "      <td>4</td>\n",
       "      <td>2019</td>\n",
       "      <td>1</td>\n",
       "      <td>5</td>\n",
       "      <td>2433.412346</td>\n",
       "    </tr>\n",
       "  </tbody>\n",
       "</table>\n",
       "</div>"
      ],
      "text/plain": [
       "   year  month  day  travel_time\n",
       "0  2019      1    1  2366.159898\n",
       "1  2019      1    2  1903.216667\n",
       "2  2019      1    3  2189.327974\n",
       "3  2019      1    4  2725.478000\n",
       "4  2019      1    5  2433.412346"
      ]
     },
     "execution_count": 284,
     "metadata": {},
     "output_type": "execute_result"
    }
   ],
   "source": [
    "u3_time = df_u3_filtrada.groupby([\"year\", \"month\", \"day\"])[\"travel_time\"].mean().reset_index()\n",
    "u3_time.sort_values(by=[\"year\", \"month\", \"day\"]).head()"
   ]
  },
  {
   "cell_type": "code",
   "execution_count": 285,
   "metadata": {
    "scrolled": true
   },
   "outputs": [
    {
     "data": {
      "text/html": [
       "<div>\n",
       "<style scoped>\n",
       "    .dataframe tbody tr th:only-of-type {\n",
       "        vertical-align: middle;\n",
       "    }\n",
       "\n",
       "    .dataframe tbody tr th {\n",
       "        vertical-align: top;\n",
       "    }\n",
       "\n",
       "    .dataframe thead th {\n",
       "        text-align: right;\n",
       "    }\n",
       "</style>\n",
       "<table border=\"1\" class=\"dataframe\">\n",
       "  <thead>\n",
       "    <tr style=\"text-align: right;\">\n",
       "      <th></th>\n",
       "      <th>year</th>\n",
       "      <th>month</th>\n",
       "      <th>day</th>\n",
       "      <th>_id</th>\n",
       "      <th>travel_time</th>\n",
       "    </tr>\n",
       "  </thead>\n",
       "  <tbody>\n",
       "    <tr>\n",
       "      <td>0</td>\n",
       "      <td>2019</td>\n",
       "      <td>1</td>\n",
       "      <td>1</td>\n",
       "      <td>394</td>\n",
       "      <td>2366.159898</td>\n",
       "    </tr>\n",
       "    <tr>\n",
       "      <td>1</td>\n",
       "      <td>2019</td>\n",
       "      <td>1</td>\n",
       "      <td>2</td>\n",
       "      <td>600</td>\n",
       "      <td>1903.216667</td>\n",
       "    </tr>\n",
       "    <tr>\n",
       "      <td>2</td>\n",
       "      <td>2019</td>\n",
       "      <td>1</td>\n",
       "      <td>3</td>\n",
       "      <td>622</td>\n",
       "      <td>2189.327974</td>\n",
       "    </tr>\n",
       "    <tr>\n",
       "      <td>3</td>\n",
       "      <td>2019</td>\n",
       "      <td>1</td>\n",
       "      <td>4</td>\n",
       "      <td>500</td>\n",
       "      <td>2725.478000</td>\n",
       "    </tr>\n",
       "    <tr>\n",
       "      <td>4</td>\n",
       "      <td>2019</td>\n",
       "      <td>1</td>\n",
       "      <td>5</td>\n",
       "      <td>405</td>\n",
       "      <td>2433.412346</td>\n",
       "    </tr>\n",
       "  </tbody>\n",
       "</table>\n",
       "</div>"
      ],
      "text/plain": [
       "   year  month  day  _id  travel_time\n",
       "0  2019      1    1  394  2366.159898\n",
       "1  2019      1    2  600  1903.216667\n",
       "2  2019      1    3  622  2189.327974\n",
       "3  2019      1    4  500  2725.478000\n",
       "4  2019      1    5  405  2433.412346"
      ]
     },
     "execution_count": 285,
     "metadata": {},
     "output_type": "execute_result"
    }
   ],
   "source": [
    "u3_evol = pd.merge(u3_moves, u3_time, on=[\"year\", \"month\", \"day\"], how=\"left\")\n",
    "u3_evol.head()"
   ]
  },
  {
   "cell_type": "code",
   "execution_count": 286,
   "metadata": {
    "scrolled": true
   },
   "outputs": [
    {
     "name": "stdout",
     "output_type": "stream",
     "text": [
      "year                    int64\n",
      "month                   int64\n",
      "day                     int64\n",
      "_id                     int64\n",
      "travel_time           float64\n",
      "date           datetime64[ns]\n",
      "dtype: object\n"
     ]
    }
   ],
   "source": [
    "u3_evol[\"date\"] = u3_evol[\"day\"].map(str) + '-' + u3_evol[\"month\"].map(str) + '-' + u3_evol[\"year\"].map(str)\n",
    "u3_evol[\"date\"] = pd.to_datetime(u3_evol[\"date\"])\n",
    "print(u3_evol.dtypes)"
   ]
  },
  {
   "cell_type": "code",
   "execution_count": 287,
   "metadata": {
    "scrolled": true
   },
   "outputs": [
    {
     "data": {
      "text/html": [
       "<div>\n",
       "<style scoped>\n",
       "    .dataframe tbody tr th:only-of-type {\n",
       "        vertical-align: middle;\n",
       "    }\n",
       "\n",
       "    .dataframe tbody tr th {\n",
       "        vertical-align: top;\n",
       "    }\n",
       "\n",
       "    .dataframe thead th {\n",
       "        text-align: right;\n",
       "    }\n",
       "</style>\n",
       "<table border=\"1\" class=\"dataframe\">\n",
       "  <thead>\n",
       "    <tr style=\"text-align: right;\">\n",
       "      <th></th>\n",
       "      <th>year</th>\n",
       "      <th>month</th>\n",
       "      <th>day</th>\n",
       "      <th>num_movimientos</th>\n",
       "      <th>travel_time</th>\n",
       "      <th>date</th>\n",
       "    </tr>\n",
       "  </thead>\n",
       "  <tbody>\n",
       "    <tr>\n",
       "      <td>0</td>\n",
       "      <td>2019</td>\n",
       "      <td>1</td>\n",
       "      <td>1</td>\n",
       "      <td>394</td>\n",
       "      <td>2366.159898</td>\n",
       "      <td>2019-01-01</td>\n",
       "    </tr>\n",
       "    <tr>\n",
       "      <td>1</td>\n",
       "      <td>2019</td>\n",
       "      <td>1</td>\n",
       "      <td>2</td>\n",
       "      <td>600</td>\n",
       "      <td>1903.216667</td>\n",
       "      <td>2019-02-01</td>\n",
       "    </tr>\n",
       "    <tr>\n",
       "      <td>2</td>\n",
       "      <td>2019</td>\n",
       "      <td>1</td>\n",
       "      <td>3</td>\n",
       "      <td>622</td>\n",
       "      <td>2189.327974</td>\n",
       "      <td>2019-03-01</td>\n",
       "    </tr>\n",
       "    <tr>\n",
       "      <td>3</td>\n",
       "      <td>2019</td>\n",
       "      <td>1</td>\n",
       "      <td>4</td>\n",
       "      <td>500</td>\n",
       "      <td>2725.478000</td>\n",
       "      <td>2019-04-01</td>\n",
       "    </tr>\n",
       "    <tr>\n",
       "      <td>4</td>\n",
       "      <td>2019</td>\n",
       "      <td>1</td>\n",
       "      <td>5</td>\n",
       "      <td>405</td>\n",
       "      <td>2433.412346</td>\n",
       "      <td>2019-05-01</td>\n",
       "    </tr>\n",
       "    <tr>\n",
       "      <td>...</td>\n",
       "      <td>...</td>\n",
       "      <td>...</td>\n",
       "      <td>...</td>\n",
       "      <td>...</td>\n",
       "      <td>...</td>\n",
       "      <td>...</td>\n",
       "    </tr>\n",
       "    <tr>\n",
       "      <td>473</td>\n",
       "      <td>2020</td>\n",
       "      <td>6</td>\n",
       "      <td>11</td>\n",
       "      <td>909</td>\n",
       "      <td>1589.719472</td>\n",
       "      <td>2020-11-06</td>\n",
       "    </tr>\n",
       "    <tr>\n",
       "      <td>474</td>\n",
       "      <td>2020</td>\n",
       "      <td>6</td>\n",
       "      <td>12</td>\n",
       "      <td>1011</td>\n",
       "      <td>1426.694362</td>\n",
       "      <td>2020-12-06</td>\n",
       "    </tr>\n",
       "    <tr>\n",
       "      <td>475</td>\n",
       "      <td>2020</td>\n",
       "      <td>6</td>\n",
       "      <td>13</td>\n",
       "      <td>351</td>\n",
       "      <td>948.099715</td>\n",
       "      <td>2020-06-13</td>\n",
       "    </tr>\n",
       "    <tr>\n",
       "      <td>476</td>\n",
       "      <td>2020</td>\n",
       "      <td>6</td>\n",
       "      <td>14</td>\n",
       "      <td>376</td>\n",
       "      <td>973.058511</td>\n",
       "      <td>2020-06-14</td>\n",
       "    </tr>\n",
       "    <tr>\n",
       "      <td>477</td>\n",
       "      <td>2020</td>\n",
       "      <td>6</td>\n",
       "      <td>15</td>\n",
       "      <td>673</td>\n",
       "      <td>1406.863299</td>\n",
       "      <td>2020-06-15</td>\n",
       "    </tr>\n",
       "  </tbody>\n",
       "</table>\n",
       "<p>478 rows × 6 columns</p>\n",
       "</div>"
      ],
      "text/plain": [
       "     year  month  day  num_movimientos  travel_time       date\n",
       "0    2019      1    1              394  2366.159898 2019-01-01\n",
       "1    2019      1    2              600  1903.216667 2019-02-01\n",
       "2    2019      1    3              622  2189.327974 2019-03-01\n",
       "3    2019      1    4              500  2725.478000 2019-04-01\n",
       "4    2019      1    5              405  2433.412346 2019-05-01\n",
       "..    ...    ...  ...              ...          ...        ...\n",
       "473  2020      6   11              909  1589.719472 2020-11-06\n",
       "474  2020      6   12             1011  1426.694362 2020-12-06\n",
       "475  2020      6   13              351   948.099715 2020-06-13\n",
       "476  2020      6   14              376   973.058511 2020-06-14\n",
       "477  2020      6   15              673  1406.863299 2020-06-15\n",
       "\n",
       "[478 rows x 6 columns]"
      ]
     },
     "execution_count": 287,
     "metadata": {},
     "output_type": "execute_result"
    }
   ],
   "source": [
    "u3_evol= u3_evol.rename(columns={\"_id\":\"num_movimientos\"})\n",
    "u3_evol"
   ]
  },
  {
   "cell_type": "code",
   "execution_count": 288,
   "metadata": {
    "scrolled": true
   },
   "outputs": [
    {
     "data": {
      "image/png": "[encoded data removed]",
      "text/plain": [
       "<Figure size 864x216 with 1 Axes>"
      ]
     },
     "metadata": {
      "needs_background": "light"
     },
     "output_type": "display_data"
    },
    {
     "data": {
      "image/png": "[encoded data removed]",
      "text/plain": [
       "<Figure size 864x216 with 1 Axes>"
      ]
     },
     "metadata": {
      "needs_background": "light"
     },
     "output_type": "display_data"
    }
   ],
   "source": [
    "# Evolución del número de movimientos y la duración media\n",
    "sns.relplot(data= u3_evol, x=\"date\", y=\"num_movimientos\", kind='line', height=3, aspect=4)\n",
    "sns.relplot(data= u3_evol, x=\"date\", y=\"travel_time\", kind='line', height=3, aspect=4)\n",
    "plt.show()"
   ]
  },
  {
   "cell_type": "markdown",
   "metadata": {},
   "source": [
    "# AMPLIACIÓN DEL ANÁLISIS"
   ]
  },
  {
   "cell_type": "code",
   "execution_count": null,
   "metadata": {},
   "outputs": [],
   "source": [
    "# En búsqueda de más patrones sobre los movimientos, exploro datos de las rutas entre los distintos tipos de usuarios"
   ]
  },
  {
   "cell_type": "code",
   "execution_count": 232,
   "metadata": {
    "scrolled": true
   },
   "outputs": [
    {
     "data": {
      "text/html": [
       "<div>\n",
       "<style scoped>\n",
       "    .dataframe tbody tr th:only-of-type {\n",
       "        vertical-align: middle;\n",
       "    }\n",
       "\n",
       "    .dataframe tbody tr th {\n",
       "        vertical-align: top;\n",
       "    }\n",
       "\n",
       "    .dataframe thead th {\n",
       "        text-align: right;\n",
       "    }\n",
       "</style>\n",
       "<table border=\"1\" class=\"dataframe\">\n",
       "  <thead>\n",
       "    <tr style=\"text-align: right;\">\n",
       "      <th>user_type</th>\n",
       "      <th>idunplug_station</th>\n",
       "      <th>idplug_station</th>\n",
       "      <th>User1</th>\n",
       "      <th>User2</th>\n",
       "      <th>User3</th>\n",
       "    </tr>\n",
       "  </thead>\n",
       "  <tbody>\n",
       "    <tr>\n",
       "      <td>0</td>\n",
       "      <td>1</td>\n",
       "      <td>1</td>\n",
       "      <td>455.0</td>\n",
       "      <td>56.0</td>\n",
       "      <td>397.0</td>\n",
       "    </tr>\n",
       "    <tr>\n",
       "      <td>1</td>\n",
       "      <td>1</td>\n",
       "      <td>2</td>\n",
       "      <td>70.0</td>\n",
       "      <td>12.0</td>\n",
       "      <td>21.0</td>\n",
       "    </tr>\n",
       "    <tr>\n",
       "      <td>2</td>\n",
       "      <td>1</td>\n",
       "      <td>3</td>\n",
       "      <td>105.0</td>\n",
       "      <td>3.0</td>\n",
       "      <td>0.0</td>\n",
       "    </tr>\n",
       "    <tr>\n",
       "      <td>3</td>\n",
       "      <td>1</td>\n",
       "      <td>4</td>\n",
       "      <td>39.0</td>\n",
       "      <td>1.0</td>\n",
       "      <td>0.0</td>\n",
       "    </tr>\n",
       "    <tr>\n",
       "      <td>4</td>\n",
       "      <td>1</td>\n",
       "      <td>5</td>\n",
       "      <td>59.0</td>\n",
       "      <td>0.0</td>\n",
       "      <td>12.0</td>\n",
       "    </tr>\n",
       "    <tr>\n",
       "      <td>...</td>\n",
       "      <td>...</td>\n",
       "      <td>...</td>\n",
       "      <td>...</td>\n",
       "      <td>...</td>\n",
       "      <td>...</td>\n",
       "    </tr>\n",
       "    <tr>\n",
       "      <td>45656</td>\n",
       "      <td>219</td>\n",
       "      <td>216</td>\n",
       "      <td>6.0</td>\n",
       "      <td>0.0</td>\n",
       "      <td>0.0</td>\n",
       "    </tr>\n",
       "    <tr>\n",
       "      <td>45657</td>\n",
       "      <td>219</td>\n",
       "      <td>217</td>\n",
       "      <td>13.0</td>\n",
       "      <td>0.0</td>\n",
       "      <td>0.0</td>\n",
       "    </tr>\n",
       "    <tr>\n",
       "      <td>45658</td>\n",
       "      <td>219</td>\n",
       "      <td>218</td>\n",
       "      <td>41.0</td>\n",
       "      <td>10.0</td>\n",
       "      <td>1.0</td>\n",
       "    </tr>\n",
       "    <tr>\n",
       "      <td>45659</td>\n",
       "      <td>219</td>\n",
       "      <td>219</td>\n",
       "      <td>287.0</td>\n",
       "      <td>15.0</td>\n",
       "      <td>223.0</td>\n",
       "    </tr>\n",
       "    <tr>\n",
       "      <td>45660</td>\n",
       "      <td>2008</td>\n",
       "      <td>2008</td>\n",
       "      <td>15.0</td>\n",
       "      <td>0.0</td>\n",
       "      <td>5.0</td>\n",
       "    </tr>\n",
       "  </tbody>\n",
       "</table>\n",
       "<p>45661 rows × 5 columns</p>\n",
       "</div>"
      ],
      "text/plain": [
       "user_type  idunplug_station  idplug_station  User1  User2  User3\n",
       "0                         1               1  455.0   56.0  397.0\n",
       "1                         1               2   70.0   12.0   21.0\n",
       "2                         1               3  105.0    3.0    0.0\n",
       "3                         1               4   39.0    1.0    0.0\n",
       "4                         1               5   59.0    0.0   12.0\n",
       "...                     ...             ...    ...    ...    ...\n",
       "45656                   219             216    6.0    0.0    0.0\n",
       "45657                   219             217   13.0    0.0    0.0\n",
       "45658                   219             218   41.0   10.0    1.0\n",
       "45659                   219             219  287.0   15.0  223.0\n",
       "45660                  2008            2008   15.0    0.0    5.0\n",
       "\n",
       "[45661 rows x 5 columns]"
      ]
     },
     "execution_count": 232,
     "metadata": {},
     "output_type": "execute_result"
    }
   ],
   "source": [
    "# Se crea una tabla para analizar las rutas realizadas en todo el período por cada tipo de usuario.\n",
    "moves_users = df_full.pivot_table(values=\"_id\", index=[\"idunplug_station\", \"idplug_station\"], columns=\"user_type\", \n",
    "                                  aggfunc='count').reset_index()\n",
    "moves_users = moves_users.rename(columns={1:\"User1\", 2:\"User2\", 3:\"User3\"})\n",
    "moves_users = moves_users.fillna(0)\n",
    "moves_users\n",
    "# Esta tabla contiene la información que antes se ha presentado gráficamente para cada usuario"
   ]
  },
  {
   "cell_type": "code",
   "execution_count": 233,
   "metadata": {
    "scrolled": true
   },
   "outputs": [
    {
     "data": {
      "text/html": [
       "<div>\n",
       "<style scoped>\n",
       "    .dataframe tbody tr th:only-of-type {\n",
       "        vertical-align: middle;\n",
       "    }\n",
       "\n",
       "    .dataframe tbody tr th {\n",
       "        vertical-align: top;\n",
       "    }\n",
       "\n",
       "    .dataframe thead th {\n",
       "        text-align: right;\n",
       "    }\n",
       "</style>\n",
       "<table border=\"1\" class=\"dataframe\">\n",
       "  <thead>\n",
       "    <tr style=\"text-align: right;\">\n",
       "      <th>user_type</th>\n",
       "      <th>idunplug_station</th>\n",
       "      <th>idplug_station</th>\n",
       "      <th>User1</th>\n",
       "      <th>User2</th>\n",
       "      <th>User3</th>\n",
       "    </tr>\n",
       "  </thead>\n",
       "  <tbody>\n",
       "    <tr>\n",
       "      <td>16526</td>\n",
       "      <td>83</td>\n",
       "      <td>83</td>\n",
       "      <td>1098.0</td>\n",
       "      <td>16.0</td>\n",
       "      <td>1289.0</td>\n",
       "    </tr>\n",
       "    <tr>\n",
       "      <td>36260</td>\n",
       "      <td>175</td>\n",
       "      <td>175</td>\n",
       "      <td>1896.0</td>\n",
       "      <td>148.0</td>\n",
       "      <td>1109.0</td>\n",
       "    </tr>\n",
       "    <tr>\n",
       "      <td>27680</td>\n",
       "      <td>135</td>\n",
       "      <td>135</td>\n",
       "      <td>2350.0</td>\n",
       "      <td>226.0</td>\n",
       "      <td>1048.0</td>\n",
       "    </tr>\n",
       "    <tr>\n",
       "      <td>8362</td>\n",
       "      <td>43</td>\n",
       "      <td>43</td>\n",
       "      <td>1804.0</td>\n",
       "      <td>39.0</td>\n",
       "      <td>861.0</td>\n",
       "    </tr>\n",
       "    <tr>\n",
       "      <td>27035</td>\n",
       "      <td>132</td>\n",
       "      <td>132</td>\n",
       "      <td>2178.0</td>\n",
       "      <td>404.0</td>\n",
       "      <td>816.0</td>\n",
       "    </tr>\n",
       "  </tbody>\n",
       "</table>\n",
       "</div>"
      ],
      "text/plain": [
       "user_type  idunplug_station  idplug_station   User1  User2   User3\n",
       "16526                    83              83  1098.0   16.0  1289.0\n",
       "36260                   175             175  1896.0  148.0  1109.0\n",
       "27680                   135             135  2350.0  226.0  1048.0\n",
       "8362                     43              43  1804.0   39.0   861.0\n",
       "27035                   132             132  2178.0  404.0   816.0"
      ]
     },
     "execution_count": 233,
     "metadata": {},
     "output_type": "execute_result"
    }
   ],
   "source": [
    "moves_users.nlargest(5, columns=\"User3\")"
   ]
  },
  {
   "cell_type": "code",
   "execution_count": 234,
   "metadata": {},
   "outputs": [
    {
     "data": {
      "text/html": [
       "<div>\n",
       "<style scoped>\n",
       "    .dataframe tbody tr th:only-of-type {\n",
       "        vertical-align: middle;\n",
       "    }\n",
       "\n",
       "    .dataframe tbody tr th {\n",
       "        vertical-align: top;\n",
       "    }\n",
       "\n",
       "    .dataframe thead th {\n",
       "        text-align: right;\n",
       "    }\n",
       "</style>\n",
       "<table border=\"1\" class=\"dataframe\">\n",
       "  <thead>\n",
       "    <tr style=\"text-align: right;\">\n",
       "      <th>user_type</th>\n",
       "      <th>idunplug_station</th>\n",
       "      <th>idplug_station</th>\n",
       "      <th>User1</th>\n",
       "      <th>User2</th>\n",
       "      <th>User3</th>\n",
       "    </tr>\n",
       "  </thead>\n",
       "  <tbody>\n",
       "    <tr>\n",
       "      <td>1854</td>\n",
       "      <td>9</td>\n",
       "      <td>149</td>\n",
       "      <td>3339.0</td>\n",
       "      <td>15.0</td>\n",
       "      <td>129.0</td>\n",
       "    </tr>\n",
       "    <tr>\n",
       "      <td>1075</td>\n",
       "      <td>6</td>\n",
       "      <td>6</td>\n",
       "      <td>2794.0</td>\n",
       "      <td>10.0</td>\n",
       "      <td>753.0</td>\n",
       "    </tr>\n",
       "    <tr>\n",
       "      <td>27680</td>\n",
       "      <td>135</td>\n",
       "      <td>135</td>\n",
       "      <td>2350.0</td>\n",
       "      <td>226.0</td>\n",
       "      <td>1048.0</td>\n",
       "    </tr>\n",
       "    <tr>\n",
       "      <td>27035</td>\n",
       "      <td>132</td>\n",
       "      <td>132</td>\n",
       "      <td>2178.0</td>\n",
       "      <td>404.0</td>\n",
       "      <td>816.0</td>\n",
       "    </tr>\n",
       "    <tr>\n",
       "      <td>30549</td>\n",
       "      <td>149</td>\n",
       "      <td>9</td>\n",
       "      <td>2093.0</td>\n",
       "      <td>4.0</td>\n",
       "      <td>17.0</td>\n",
       "    </tr>\n",
       "  </tbody>\n",
       "</table>\n",
       "</div>"
      ],
      "text/plain": [
       "user_type  idunplug_station  idplug_station   User1  User2   User3\n",
       "1854                      9             149  3339.0   15.0   129.0\n",
       "1075                      6               6  2794.0   10.0   753.0\n",
       "27680                   135             135  2350.0  226.0  1048.0\n",
       "27035                   132             132  2178.0  404.0   816.0\n",
       "30549                   149               9  2093.0    4.0    17.0"
      ]
     },
     "execution_count": 234,
     "metadata": {},
     "output_type": "execute_result"
    }
   ],
   "source": [
    "moves_users.nlargest(5, columns=\"User1\")"
   ]
  },
  {
   "cell_type": "code",
   "execution_count": 237,
   "metadata": {},
   "outputs": [
    {
     "data": {
      "text/html": [
       "<div>\n",
       "<style scoped>\n",
       "    .dataframe tbody tr th:only-of-type {\n",
       "        vertical-align: middle;\n",
       "    }\n",
       "\n",
       "    .dataframe tbody tr th {\n",
       "        vertical-align: top;\n",
       "    }\n",
       "\n",
       "    .dataframe thead th {\n",
       "        text-align: right;\n",
       "    }\n",
       "</style>\n",
       "<table border=\"1\" class=\"dataframe\">\n",
       "  <thead>\n",
       "    <tr style=\"text-align: right;\">\n",
       "      <th>user_type</th>\n",
       "      <th>idunplug_station</th>\n",
       "      <th>idplug_station</th>\n",
       "      <th>User1</th>\n",
       "      <th>User2</th>\n",
       "      <th>User3</th>\n",
       "    </tr>\n",
       "  </thead>\n",
       "  <tbody>\n",
       "    <tr>\n",
       "      <td>0</td>\n",
       "      <td>1</td>\n",
       "      <td>1</td>\n",
       "      <td>2863.290110</td>\n",
       "      <td>4365.785714</td>\n",
       "      <td>424.327456</td>\n",
       "    </tr>\n",
       "    <tr>\n",
       "      <td>1</td>\n",
       "      <td>1</td>\n",
       "      <td>2</td>\n",
       "      <td>2317.900000</td>\n",
       "      <td>6970.500000</td>\n",
       "      <td>748.047619</td>\n",
       "    </tr>\n",
       "    <tr>\n",
       "      <td>2</td>\n",
       "      <td>1</td>\n",
       "      <td>3</td>\n",
       "      <td>986.028571</td>\n",
       "      <td>4227.333333</td>\n",
       "      <td>0.000000</td>\n",
       "    </tr>\n",
       "    <tr>\n",
       "      <td>3</td>\n",
       "      <td>1</td>\n",
       "      <td>4</td>\n",
       "      <td>1346.666667</td>\n",
       "      <td>737.000000</td>\n",
       "      <td>0.000000</td>\n",
       "    </tr>\n",
       "    <tr>\n",
       "      <td>4</td>\n",
       "      <td>1</td>\n",
       "      <td>5</td>\n",
       "      <td>967.847458</td>\n",
       "      <td>0.000000</td>\n",
       "      <td>3237.833333</td>\n",
       "    </tr>\n",
       "    <tr>\n",
       "      <td>...</td>\n",
       "      <td>...</td>\n",
       "      <td>...</td>\n",
       "      <td>...</td>\n",
       "      <td>...</td>\n",
       "      <td>...</td>\n",
       "    </tr>\n",
       "    <tr>\n",
       "      <td>45656</td>\n",
       "      <td>219</td>\n",
       "      <td>216</td>\n",
       "      <td>1520.333333</td>\n",
       "      <td>0.000000</td>\n",
       "      <td>0.000000</td>\n",
       "    </tr>\n",
       "    <tr>\n",
       "      <td>45657</td>\n",
       "      <td>219</td>\n",
       "      <td>217</td>\n",
       "      <td>1731.307692</td>\n",
       "      <td>0.000000</td>\n",
       "      <td>0.000000</td>\n",
       "    </tr>\n",
       "    <tr>\n",
       "      <td>45658</td>\n",
       "      <td>219</td>\n",
       "      <td>218</td>\n",
       "      <td>1909.292683</td>\n",
       "      <td>3305.200000</td>\n",
       "      <td>126.000000</td>\n",
       "    </tr>\n",
       "    <tr>\n",
       "      <td>45659</td>\n",
       "      <td>219</td>\n",
       "      <td>219</td>\n",
       "      <td>3133.404181</td>\n",
       "      <td>2708.000000</td>\n",
       "      <td>12.215247</td>\n",
       "    </tr>\n",
       "    <tr>\n",
       "      <td>45660</td>\n",
       "      <td>2008</td>\n",
       "      <td>2008</td>\n",
       "      <td>2505.266667</td>\n",
       "      <td>0.000000</td>\n",
       "      <td>120767.600000</td>\n",
       "    </tr>\n",
       "  </tbody>\n",
       "</table>\n",
       "<p>45661 rows × 5 columns</p>\n",
       "</div>"
      ],
      "text/plain": [
       "user_type  idunplug_station  idplug_station        User1        User2  \\\n",
       "0                         1               1  2863.290110  4365.785714   \n",
       "1                         1               2  2317.900000  6970.500000   \n",
       "2                         1               3   986.028571  4227.333333   \n",
       "3                         1               4  1346.666667   737.000000   \n",
       "4                         1               5   967.847458     0.000000   \n",
       "...                     ...             ...          ...          ...   \n",
       "45656                   219             216  1520.333333     0.000000   \n",
       "45657                   219             217  1731.307692     0.000000   \n",
       "45658                   219             218  1909.292683  3305.200000   \n",
       "45659                   219             219  3133.404181  2708.000000   \n",
       "45660                  2008            2008  2505.266667     0.000000   \n",
       "\n",
       "user_type          User3  \n",
       "0             424.327456  \n",
       "1             748.047619  \n",
       "2               0.000000  \n",
       "3               0.000000  \n",
       "4            3237.833333  \n",
       "...                  ...  \n",
       "45656           0.000000  \n",
       "45657           0.000000  \n",
       "45658         126.000000  \n",
       "45659          12.215247  \n",
       "45660      120767.600000  \n",
       "\n",
       "[45661 rows x 5 columns]"
      ]
     },
     "execution_count": 237,
     "metadata": {},
     "output_type": "execute_result"
    }
   ],
   "source": [
    "# Se crea una tabla para analizar las rutas realizadas en todo el período por cada tipo de usuario.\n",
    "time_users = df_full.pivot_table(values=\"travel_time\", index=[\"idunplug_station\", \"idplug_station\"], columns=\"user_type\", \n",
    "                                  aggfunc='mean').reset_index()\n",
    "time_users = time_users.rename(columns={1:\"User1\", 2:\"User2\", 3:\"User3\"})\n",
    "time_users = time_users.fillna(0)\n",
    "time_users\n",
    "# Esta tabla contiene la información que antes se ha presentado gráficamente para cada usuario"
   ]
  },
  {
   "cell_type": "code",
   "execution_count": 250,
   "metadata": {
    "scrolled": false
   },
   "outputs": [
    {
     "data": {
      "text/html": [
       "<div>\n",
       "<style scoped>\n",
       "    .dataframe tbody tr th:only-of-type {\n",
       "        vertical-align: middle;\n",
       "    }\n",
       "\n",
       "    .dataframe tbody tr th {\n",
       "        vertical-align: top;\n",
       "    }\n",
       "\n",
       "    .dataframe thead th {\n",
       "        text-align: right;\n",
       "    }\n",
       "</style>\n",
       "<table border=\"1\" class=\"dataframe\">\n",
       "  <thead>\n",
       "    <tr style=\"text-align: right;\">\n",
       "      <th>user_type</th>\n",
       "      <th>idunplug_station</th>\n",
       "      <th>idplug_station</th>\n",
       "      <th>User1_x</th>\n",
       "      <th>User2_x</th>\n",
       "      <th>User3_x</th>\n",
       "      <th>User1_y</th>\n",
       "      <th>User2_y</th>\n",
       "      <th>User3_y</th>\n",
       "    </tr>\n",
       "  </thead>\n",
       "  <tbody>\n",
       "    <tr>\n",
       "      <td>0</td>\n",
       "      <td>1</td>\n",
       "      <td>1</td>\n",
       "      <td>455.0</td>\n",
       "      <td>56.0</td>\n",
       "      <td>397.0</td>\n",
       "      <td>2863.290110</td>\n",
       "      <td>4365.785714</td>\n",
       "      <td>424.327456</td>\n",
       "    </tr>\n",
       "    <tr>\n",
       "      <td>1</td>\n",
       "      <td>1</td>\n",
       "      <td>2</td>\n",
       "      <td>70.0</td>\n",
       "      <td>12.0</td>\n",
       "      <td>21.0</td>\n",
       "      <td>2317.900000</td>\n",
       "      <td>6970.500000</td>\n",
       "      <td>748.047619</td>\n",
       "    </tr>\n",
       "    <tr>\n",
       "      <td>2</td>\n",
       "      <td>1</td>\n",
       "      <td>3</td>\n",
       "      <td>105.0</td>\n",
       "      <td>3.0</td>\n",
       "      <td>0.0</td>\n",
       "      <td>986.028571</td>\n",
       "      <td>4227.333333</td>\n",
       "      <td>0.000000</td>\n",
       "    </tr>\n",
       "    <tr>\n",
       "      <td>3</td>\n",
       "      <td>1</td>\n",
       "      <td>4</td>\n",
       "      <td>39.0</td>\n",
       "      <td>1.0</td>\n",
       "      <td>0.0</td>\n",
       "      <td>1346.666667</td>\n",
       "      <td>737.000000</td>\n",
       "      <td>0.000000</td>\n",
       "    </tr>\n",
       "    <tr>\n",
       "      <td>4</td>\n",
       "      <td>1</td>\n",
       "      <td>5</td>\n",
       "      <td>59.0</td>\n",
       "      <td>0.0</td>\n",
       "      <td>12.0</td>\n",
       "      <td>967.847458</td>\n",
       "      <td>0.000000</td>\n",
       "      <td>3237.833333</td>\n",
       "    </tr>\n",
       "  </tbody>\n",
       "</table>\n",
       "</div>"
      ],
      "text/plain": [
       "user_type  idunplug_station  idplug_station  User1_x  User2_x  User3_x  \\\n",
       "0                         1               1    455.0     56.0    397.0   \n",
       "1                         1               2     70.0     12.0     21.0   \n",
       "2                         1               3    105.0      3.0      0.0   \n",
       "3                         1               4     39.0      1.0      0.0   \n",
       "4                         1               5     59.0      0.0     12.0   \n",
       "\n",
       "user_type      User1_y      User2_y      User3_y  \n",
       "0          2863.290110  4365.785714   424.327456  \n",
       "1          2317.900000  6970.500000   748.047619  \n",
       "2           986.028571  4227.333333     0.000000  \n",
       "3          1346.666667   737.000000     0.000000  \n",
       "4           967.847458     0.000000  3237.833333  "
      ]
     },
     "execution_count": 250,
     "metadata": {},
     "output_type": "execute_result"
    }
   ],
   "source": [
    "users_rutas = pd.merge(moves_users, time_users, on=[\"idunplug_station\", \"idplug_station\"], how=\"left\")\n",
    "users_rutas.head()"
   ]
  },
  {
   "cell_type": "code",
   "execution_count": 251,
   "metadata": {},
   "outputs": [
    {
     "data": {
      "text/plain": [
       "(45661, 8)"
      ]
     },
     "execution_count": 251,
     "metadata": {},
     "output_type": "execute_result"
    }
   ],
   "source": [
    "users_rutas.shape"
   ]
  },
  {
   "cell_type": "code",
   "execution_count": 252,
   "metadata": {},
   "outputs": [
    {
     "data": {
      "text/html": [
       "<div>\n",
       "<style scoped>\n",
       "    .dataframe tbody tr th:only-of-type {\n",
       "        vertical-align: middle;\n",
       "    }\n",
       "\n",
       "    .dataframe tbody tr th {\n",
       "        vertical-align: top;\n",
       "    }\n",
       "\n",
       "    .dataframe thead th {\n",
       "        text-align: right;\n",
       "    }\n",
       "</style>\n",
       "<table border=\"1\" class=\"dataframe\">\n",
       "  <thead>\n",
       "    <tr style=\"text-align: right;\">\n",
       "      <th>user_type</th>\n",
       "      <th>idunplug_station</th>\n",
       "      <th>idplug_station</th>\n",
       "      <th>User1_x</th>\n",
       "      <th>User2_x</th>\n",
       "      <th>User3_x</th>\n",
       "      <th>User1_y</th>\n",
       "      <th>User2_y</th>\n",
       "      <th>User3_y</th>\n",
       "    </tr>\n",
       "  </thead>\n",
       "  <tbody>\n",
       "    <tr>\n",
       "      <td>0</td>\n",
       "      <td>1</td>\n",
       "      <td>1</td>\n",
       "      <td>455.0</td>\n",
       "      <td>56.0</td>\n",
       "      <td>397.0</td>\n",
       "      <td>2863.290110</td>\n",
       "      <td>4365.785714</td>\n",
       "      <td>424.327456</td>\n",
       "    </tr>\n",
       "    <tr>\n",
       "      <td>1</td>\n",
       "      <td>1</td>\n",
       "      <td>2</td>\n",
       "      <td>70.0</td>\n",
       "      <td>12.0</td>\n",
       "      <td>21.0</td>\n",
       "      <td>2317.900000</td>\n",
       "      <td>6970.500000</td>\n",
       "      <td>748.047619</td>\n",
       "    </tr>\n",
       "    <tr>\n",
       "      <td>2</td>\n",
       "      <td>1</td>\n",
       "      <td>3</td>\n",
       "      <td>105.0</td>\n",
       "      <td>3.0</td>\n",
       "      <td>0.0</td>\n",
       "      <td>986.028571</td>\n",
       "      <td>4227.333333</td>\n",
       "      <td>0.000000</td>\n",
       "    </tr>\n",
       "    <tr>\n",
       "      <td>3</td>\n",
       "      <td>1</td>\n",
       "      <td>4</td>\n",
       "      <td>39.0</td>\n",
       "      <td>1.0</td>\n",
       "      <td>0.0</td>\n",
       "      <td>1346.666667</td>\n",
       "      <td>737.000000</td>\n",
       "      <td>0.000000</td>\n",
       "    </tr>\n",
       "    <tr>\n",
       "      <td>4</td>\n",
       "      <td>1</td>\n",
       "      <td>5</td>\n",
       "      <td>59.0</td>\n",
       "      <td>0.0</td>\n",
       "      <td>12.0</td>\n",
       "      <td>967.847458</td>\n",
       "      <td>0.000000</td>\n",
       "      <td>3237.833333</td>\n",
       "    </tr>\n",
       "  </tbody>\n",
       "</table>\n",
       "</div>"
      ],
      "text/plain": [
       "user_type  idunplug_station  idplug_station  User1_x  User2_x  User3_x  \\\n",
       "0                         1               1    455.0     56.0    397.0   \n",
       "1                         1               2     70.0     12.0     21.0   \n",
       "2                         1               3    105.0      3.0      0.0   \n",
       "3                         1               4     39.0      1.0      0.0   \n",
       "4                         1               5     59.0      0.0     12.0   \n",
       "\n",
       "user_type      User1_y      User2_y      User3_y  \n",
       "0          2863.290110  4365.785714   424.327456  \n",
       "1          2317.900000  6970.500000   748.047619  \n",
       "2           986.028571  4227.333333     0.000000  \n",
       "3          1346.666667   737.000000     0.000000  \n",
       "4           967.847458     0.000000  3237.833333  "
      ]
     },
     "execution_count": 252,
     "metadata": {},
     "output_type": "execute_result"
    }
   ],
   "source": [
    "users_rutas_filtrada = users_rutas[users_rutas[\"User3_y\"] < 21600 ]\n",
    "users_rutas_filtrada.head()"
   ]
  },
  {
   "cell_type": "code",
   "execution_count": 253,
   "metadata": {},
   "outputs": [
    {
     "data": {
      "text/plain": [
       "(44012, 8)"
      ]
     },
     "execution_count": 253,
     "metadata": {},
     "output_type": "execute_result"
    }
   ],
   "source": [
    "users_rutas_filtrada.shape"
   ]
  },
  {
   "cell_type": "code",
   "execution_count": 258,
   "metadata": {
    "scrolled": true
   },
   "outputs": [
    {
     "data": {
      "image/png": "[encoded data removed]",
      "text/plain": [
       "<Figure size 864x432 with 1 Axes>"
      ]
     },
     "metadata": {
      "needs_background": "light"
     },
     "output_type": "display_data"
    }
   ],
   "source": [
    "# User 1\n",
    "sns.relplot(data=users_rutas_filtrada, x=\"User1_x\", y=\"User1_y\", kind=\"scatter\", color=\"blue\", height=6, aspect=2)\n",
    "plt.show()"
   ]
  },
  {
   "cell_type": "code",
   "execution_count": 255,
   "metadata": {
    "scrolled": true
   },
   "outputs": [
    {
     "data": {
      "image/png": "[encoded data removed]",
      "text/plain": [
       "<Figure size 864x432 with 1 Axes>"
      ]
     },
     "metadata": {
      "needs_background": "light"
     },
     "output_type": "display_data"
    }
   ],
   "source": [
    "# User 2\n",
    "sns.relplot(data=users_rutas_filtrada, x=\"User2_x\", y=\"User2_y\", kind=\"scatter\", color=\"grey\", height=6, aspect=2)\n",
    "plt.show()"
   ]
  },
  {
   "cell_type": "code",
   "execution_count": 110,
   "metadata": {
    "scrolled": true
   },
   "outputs": [
    {
     "data": {
      "text/html": [
       "<div>\n",
       "<style scoped>\n",
       "    .dataframe tbody tr th:only-of-type {\n",
       "        vertical-align: middle;\n",
       "    }\n",
       "\n",
       "    .dataframe tbody tr th {\n",
       "        vertical-align: top;\n",
       "    }\n",
       "\n",
       "    .dataframe thead th {\n",
       "        text-align: right;\n",
       "    }\n",
       "</style>\n",
       "<table border=\"1\" class=\"dataframe\">\n",
       "  <thead>\n",
       "    <tr style=\"text-align: right;\">\n",
       "      <th></th>\n",
       "      <th>day</th>\n",
       "      <th>month</th>\n",
       "      <th>year</th>\n",
       "      <th>num_movimientos</th>\n",
       "    </tr>\n",
       "  </thead>\n",
       "  <tbody>\n",
       "    <tr>\n",
       "      <td>0</td>\n",
       "      <td>1</td>\n",
       "      <td>1</td>\n",
       "      <td>2019</td>\n",
       "      <td>3509</td>\n",
       "    </tr>\n",
       "    <tr>\n",
       "      <td>1</td>\n",
       "      <td>1</td>\n",
       "      <td>1</td>\n",
       "      <td>2020</td>\n",
       "      <td>3363</td>\n",
       "    </tr>\n",
       "    <tr>\n",
       "      <td>2</td>\n",
       "      <td>1</td>\n",
       "      <td>2</td>\n",
       "      <td>2019</td>\n",
       "      <td>8013</td>\n",
       "    </tr>\n",
       "    <tr>\n",
       "      <td>3</td>\n",
       "      <td>1</td>\n",
       "      <td>2</td>\n",
       "      <td>2020</td>\n",
       "      <td>8783</td>\n",
       "    </tr>\n",
       "    <tr>\n",
       "      <td>4</td>\n",
       "      <td>1</td>\n",
       "      <td>3</td>\n",
       "      <td>2019</td>\n",
       "      <td>12983</td>\n",
       "    </tr>\n",
       "  </tbody>\n",
       "</table>\n",
       "</div>"
      ],
      "text/plain": [
       "   day  month  year  num_movimientos\n",
       "0    1      1  2019             3509\n",
       "1    1      1  2020             3363\n",
       "2    1      2  2019             8013\n",
       "3    1      2  2020             8783\n",
       "4    1      3  2019            12983"
      ]
     },
     "execution_count": 110,
     "metadata": {},
     "output_type": "execute_result"
    }
   ],
   "source": [
    "# Se obetiene el número total de movimientos diarios\n",
    "media_diaria = df_full.groupby([\"day\", \"month\", \"year\"])[\"_id\"].count().reset_index()\n",
    "media_diaria = media_diaria.rename(columns={\"_id\":\"num_movimientos\"})\n",
    "media_diaria.head()"
   ]
  },
  {
   "cell_type": "code",
   "execution_count": 112,
   "metadata": {},
   "outputs": [
    {
     "data": {
      "text/plain": [
       "count      484.000000\n",
       "mean     10459.061983\n",
       "std       4631.258713\n",
       "min          1.000000\n",
       "25%       7761.000000\n",
       "50%      10443.000000\n",
       "75%      13273.750000\n",
       "max      31935.000000\n",
       "Name: num_movimientos, dtype: float64"
      ]
     },
     "execution_count": 112,
     "metadata": {},
     "output_type": "execute_result"
    }
   ],
   "source": [
    "# Se observa el comportamiento de la variable para tener una referencia de los movimientos que se realian diariamente\n",
    "media_diaria[\"num_movimientos\"].describe()"
   ]
  },
  {
   "cell_type": "code",
   "execution_count": null,
   "metadata": {},
   "outputs": [],
   "source": [
    "# La media de movimientos diarios totales de todos los usuarios de BiciMAD es de 10.500"
   ]
  }
 ],
 "metadata": {
  "kernelspec": {
   "display_name": "Python 3",
   "language": "python",
   "name": "python3"
  },
  "language_info": {
   "codemirror_mode": {
    "name": "ipython",
    "version": 3
   },
   "file_extension": ".py",
   "mimetype": "text/x-python",
   "name": "python",
   "nbconvert_exporter": "python",
   "pygments_lexer": "ipython3",
   "version": "3.7.4"
  }
 },
 "nbformat": 4,
 "nbformat_minor": 2
}
