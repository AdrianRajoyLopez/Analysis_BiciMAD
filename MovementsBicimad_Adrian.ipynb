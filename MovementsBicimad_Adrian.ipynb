{
 "cells": [
  {
   "cell_type": "code",
   "execution_count": 1,
   "metadata": {},
   "outputs": [],
   "source": [
    "# Librerías\n",
    "import json\n",
    "import numpy as np\n",
    "import pandas as pd\n",
    "import seaborn as sns\n",
    "import matplotlib.pyplot as plt\n",
    "from sklearn.preprocessing import LabelEncoder"
   ]
  },
  {
   "cell_type": "markdown",
   "metadata": {},
   "source": [
    "# CARGA Y LECTURA DE DATOS"
   ]
  },
  {
   "cell_type": "code",
   "execution_count": 2,
   "metadata": {},
   "outputs": [],
   "source": [
    "# Carga y lectura del json feb-2020\n",
    "df_UsoFeb = pd.read_json('BiciMAD_movements_2020_1_6/202002_movements.json', lines=True)"
   ]
  },
  {
   "cell_type": "code",
   "execution_count": 3,
   "metadata": {},
   "outputs": [
    {
     "data": {
      "text/plain": [
       "(341972, 11)"
      ]
     },
     "execution_count": 3,
     "metadata": {},
     "output_type": "execute_result"
    }
   ],
   "source": [
    "df_UsoFeb.shape"
   ]
  },
  {
   "cell_type": "code",
   "execution_count": 4,
   "metadata": {},
   "outputs": [
    {
     "data": {
      "text/plain": [
       "Index(['_id', 'user_day_code', 'idplug_base', 'user_type', 'idunplug_base',\n",
       "       'travel_time', 'idunplug_station', 'ageRange', 'idplug_station',\n",
       "       'unplug_hourTime', 'zip_code'],\n",
       "      dtype='object')"
      ]
     },
     "execution_count": 4,
     "metadata": {},
     "output_type": "execute_result"
    }
   ],
   "source": [
    "# See the json columns in feb-2020\n",
    "df_UsoFeb.columns"
   ]
  },
  {
   "cell_type": "code",
   "execution_count": 5,
   "metadata": {},
   "outputs": [],
   "source": [
    "# Carga y lectura del resto de json disponibles de 2020\n",
    "df_UsoEne= pd.read_json('BiciMAD_movements_2020_1_6/202001_movements.json', lines=True)\n",
    "df_UsoMar= pd.read_json('BiciMAD_movements_2020_1_6/202003_movements.json', lines=True)\n",
    "df_UsoAbr= pd.read_json('BiciMAD_movements_2020_1_6/202004_movements.json', lines=True)\n",
    "df_UsoMay= pd.read_json('BiciMAD_movements_2020_1_6/202005_movements.json', lines=True)\n",
    "df_UsoJun= pd.read_json('BiciMAD_movements_2020_1_6/202006_movements.json', lines=True)"
   ]
  },
  {
   "cell_type": "code",
   "execution_count": 6,
   "metadata": {},
   "outputs": [
    {
     "data": {
      "text/plain": [
       "Index(['_id', 'user_day_code', 'idplug_base', 'user_type', 'idunplug_base',\n",
       "       'travel_time', 'idunplug_station', 'ageRange', 'idplug_station',\n",
       "       'unplug_hourTime', 'zip_code'],\n",
       "      dtype='object')"
      ]
     },
     "execution_count": 6,
     "metadata": {},
     "output_type": "execute_result"
    }
   ],
   "source": [
    "# Columnas del json de jun-20\n",
    "df_UsoJun.columns"
   ]
  },
  {
   "cell_type": "code",
   "execution_count": 7,
   "metadata": {},
   "outputs": [
    {
     "data": {
      "text/plain": [
       "(272875, 11)"
      ]
     },
     "execution_count": 7,
     "metadata": {},
     "output_type": "execute_result"
    }
   ],
   "source": [
    "df_UsoEne.shape"
   ]
  },
  {
   "cell_type": "code",
   "execution_count": 8,
   "metadata": {},
   "outputs": [],
   "source": [
    "# Load and read json from july 2019 to december 2019\n",
    "df_UsoDic= pd.read_json('BiciMAD_movements_2019_7_12/201912_movements.json', lines=True)\n",
    "df_UsoNov= pd.read_json('BiciMAD_movements_2019_7_12/201911_movements.json', lines=True)\n",
    "df_UsoOct= pd.read_json('BiciMAD_movements_2019_7_12/201910_movements.json', lines=True)\n",
    "df_UsoSep= pd.read_json('BiciMAD_movements_2019_7_12/201909_movements.json', lines=True)\n",
    "df_UsoAgo= pd.read_json('BiciMAD_movements_2019_7_12/201908_movements.json', lines=True)\n",
    "df_UsoJul= pd.read_json('BiciMAD_movements_2019_7_12/201907_movements.json', lines=True)"
   ]
  },
  {
   "cell_type": "code",
   "execution_count": 9,
   "metadata": {},
   "outputs": [
    {
     "data": {
      "text/plain": [
       "Index(['_id', 'user_day_code', 'idplug_base', 'user_type', 'idunplug_base',\n",
       "       'travel_time', 'idunplug_station', 'ageRange', 'idplug_station',\n",
       "       'unplug_hourTime', 'zip_code'],\n",
       "      dtype='object')"
      ]
     },
     "execution_count": 9,
     "metadata": {},
     "output_type": "execute_result"
    }
   ],
   "source": [
    "df_UsoJul.columns"
   ]
  },
  {
   "cell_type": "code",
   "execution_count": 10,
   "metadata": {},
   "outputs": [],
   "source": [
    "# Load and read json from january 2019 to june 2019\n",
    "df_UsoEne19 = pd.read_csv('DATOS/201901_movements.csv', sep=';')\n",
    "df_UsoFeb19 = pd.read_csv('DATOS/201902_movements.csv', sep=';')\n",
    "df_UsoMar19 = pd.read_csv('DATOS/201903_movements.csv', sep=';')\n",
    "df_UsoAbr19 = pd.read_csv('DATOS/201904_movements.csv', sep=';')\n",
    "df_UsoMay19 = pd.read_csv('DATOS/201905_movements.csv', sep=';')\n",
    "df_UsoJun19 = pd.read_csv('DATOS/201906_movements.csv', sep=';')"
   ]
  },
  {
   "cell_type": "code",
   "execution_count": 11,
   "metadata": {},
   "outputs": [
    {
     "data": {
      "text/plain": [
       "Index(['_id.$oid', 'ageRange', 'idplug_base', 'idplug_station',\n",
       "       'idunplug_base', 'idunplug_station', 'travel_time',\n",
       "       'unplug_hourTime.$date', 'user_day_code', 'user_type', 'zip_code'],\n",
       "      dtype='object')"
      ]
     },
     "execution_count": 11,
     "metadata": {},
     "output_type": "execute_result"
    }
   ],
   "source": [
    "df_UsoJun19.columns\n",
    "# Algunas columnas tienen nombres diferentes, por tanto habrá que unificarlo para poder unir todos los json"
   ]
  },
  {
   "cell_type": "code",
   "execution_count": 12,
   "metadata": {},
   "outputs": [],
   "source": [
    "# Union de los json de ene-19 a jun-19\n",
    "df_old = pd.concat([df_UsoEne19, df_UsoFeb19, df_UsoMar19, df_UsoAbr19, df_UsoMay19, df_UsoJun19])"
   ]
  },
  {
   "cell_type": "code",
   "execution_count": 13,
   "metadata": {},
   "outputs": [
    {
     "data": {
      "text/html": [
       "<div>\n",
       "<style scoped>\n",
       "    .dataframe tbody tr th:only-of-type {\n",
       "        vertical-align: middle;\n",
       "    }\n",
       "\n",
       "    .dataframe tbody tr th {\n",
       "        vertical-align: top;\n",
       "    }\n",
       "\n",
       "    .dataframe thead th {\n",
       "        text-align: right;\n",
       "    }\n",
       "</style>\n",
       "<table border=\"1\" class=\"dataframe\">\n",
       "  <thead>\n",
       "    <tr style=\"text-align: right;\">\n",
       "      <th></th>\n",
       "      <th>_id</th>\n",
       "      <th>user_day_code</th>\n",
       "      <th>idplug_base</th>\n",
       "      <th>user_type</th>\n",
       "      <th>idunplug_base</th>\n",
       "      <th>travel_time</th>\n",
       "      <th>idunplug_station</th>\n",
       "      <th>ageRange</th>\n",
       "      <th>idplug_station</th>\n",
       "      <th>unplug_hourTime</th>\n",
       "      <th>zip_code</th>\n",
       "    </tr>\n",
       "  </thead>\n",
       "  <tbody>\n",
       "    <tr>\n",
       "      <td>0</td>\n",
       "      <td>5c4b07ea2f38432e007daab8</td>\n",
       "      <td>b3b5b61509ab89afbf4d1e589d229bebe6637c2de819f5...</td>\n",
       "      <td>14</td>\n",
       "      <td>1</td>\n",
       "      <td>23</td>\n",
       "      <td>162</td>\n",
       "      <td>82</td>\n",
       "      <td>0</td>\n",
       "      <td>83</td>\n",
       "      <td>2019-01-01T00:00:00Z</td>\n",
       "      <td>NaN</td>\n",
       "    </tr>\n",
       "    <tr>\n",
       "      <td>1</td>\n",
       "      <td>5c4b07ea2f38432e007daaba</td>\n",
       "      <td>a18550d468153bb8e1808d4f0a85955579951832772996...</td>\n",
       "      <td>10</td>\n",
       "      <td>1</td>\n",
       "      <td>1</td>\n",
       "      <td>415</td>\n",
       "      <td>133</td>\n",
       "      <td>5</td>\n",
       "      <td>36</td>\n",
       "      <td>2019-01-01T00:00:00Z</td>\n",
       "      <td>28005</td>\n",
       "    </tr>\n",
       "    <tr>\n",
       "      <td>2</td>\n",
       "      <td>5c4b07ea2f38432e007daabb</td>\n",
       "      <td>905737396c2fe343c84d62eaee3ab66e19632638c5bea7...</td>\n",
       "      <td>5</td>\n",
       "      <td>1</td>\n",
       "      <td>3</td>\n",
       "      <td>545</td>\n",
       "      <td>25</td>\n",
       "      <td>0</td>\n",
       "      <td>90</td>\n",
       "      <td>2019-01-01T00:00:00Z</td>\n",
       "      <td>NaN</td>\n",
       "    </tr>\n",
       "    <tr>\n",
       "      <td>3</td>\n",
       "      <td>5c4b07ea2f38432e007daabe</td>\n",
       "      <td>ed1c1a22c120e7d42cc522c33ab41db549791f3914b273...</td>\n",
       "      <td>4</td>\n",
       "      <td>1</td>\n",
       "      <td>12</td>\n",
       "      <td>448</td>\n",
       "      <td>51</td>\n",
       "      <td>4</td>\n",
       "      <td>44</td>\n",
       "      <td>2019-01-01T00:00:00Z</td>\n",
       "      <td>28005</td>\n",
       "    </tr>\n",
       "    <tr>\n",
       "      <td>4</td>\n",
       "      <td>5c4b07ea2f38432e007daac0</td>\n",
       "      <td>c7d4e8f50d4a318e4f9fb08d4b715dc9015be1f415358b...</td>\n",
       "      <td>17</td>\n",
       "      <td>1</td>\n",
       "      <td>4</td>\n",
       "      <td>639</td>\n",
       "      <td>44</td>\n",
       "      <td>0</td>\n",
       "      <td>125</td>\n",
       "      <td>2019-01-01T00:00:00Z</td>\n",
       "      <td>NaN</td>\n",
       "    </tr>\n",
       "  </tbody>\n",
       "</table>\n",
       "</div>"
      ],
      "text/plain": [
       "                        _id  \\\n",
       "0  5c4b07ea2f38432e007daab8   \n",
       "1  5c4b07ea2f38432e007daaba   \n",
       "2  5c4b07ea2f38432e007daabb   \n",
       "3  5c4b07ea2f38432e007daabe   \n",
       "4  5c4b07ea2f38432e007daac0   \n",
       "\n",
       "                                       user_day_code  idplug_base  user_type  \\\n",
       "0  b3b5b61509ab89afbf4d1e589d229bebe6637c2de819f5...           14          1   \n",
       "1  a18550d468153bb8e1808d4f0a85955579951832772996...           10          1   \n",
       "2  905737396c2fe343c84d62eaee3ab66e19632638c5bea7...            5          1   \n",
       "3  ed1c1a22c120e7d42cc522c33ab41db549791f3914b273...            4          1   \n",
       "4  c7d4e8f50d4a318e4f9fb08d4b715dc9015be1f415358b...           17          1   \n",
       "\n",
       "   idunplug_base  travel_time  idunplug_station  ageRange  idplug_station  \\\n",
       "0             23          162                82         0              83   \n",
       "1              1          415               133         5              36   \n",
       "2              3          545                25         0              90   \n",
       "3             12          448                51         4              44   \n",
       "4              4          639                44         0             125   \n",
       "\n",
       "        unplug_hourTime zip_code  \n",
       "0  2019-01-01T00:00:00Z      NaN  \n",
       "1  2019-01-01T00:00:00Z    28005  \n",
       "2  2019-01-01T00:00:00Z      NaN  \n",
       "3  2019-01-01T00:00:00Z    28005  \n",
       "4  2019-01-01T00:00:00Z      NaN  "
      ]
     },
     "execution_count": 13,
     "metadata": {},
     "output_type": "execute_result"
    }
   ],
   "source": [
    "# Se unifica el nombre de las columnas de ene-19 a jun-19\n",
    "df_old = df_old.rename(columns={\"_id.$oid\":\"_id\", \"unplug_hourTime.$date\":\"unplug_hourTime\"})\n",
    "cols = ['_id', 'user_day_code', 'idplug_base', 'user_type', 'idunplug_base', 'travel_time', \n",
    "        'idunplug_station', 'ageRange', 'idplug_station', 'unplug_hourTime', 'zip_code']\n",
    "df_old = df_old[cols]\n",
    "df_old.head()"
   ]
  },
  {
   "cell_type": "code",
   "execution_count": 14,
   "metadata": {},
   "outputs": [],
   "source": [
    "# Se sustituyen valores vacíos de \"zip_code\" por 0\n",
    "df_old[\"zip_code\"] = df_old[\"zip_code\"].fillna(0)"
   ]
  },
  {
   "cell_type": "markdown",
   "metadata": {},
   "source": [
    "# CREACIÓN Y EDA DEL DATAFRAME GENERAL: \n",
    "# Movimientos BiciMAD entre ene-19 y jun-20"
   ]
  },
  {
   "cell_type": "code",
   "execution_count": 15,
   "metadata": {},
   "outputs": [],
   "source": [
    "# Se unen todos los json desde ene-19 a jun-20\n",
    "df_raw = pd.concat([df_old, df_UsoJul, df_UsoAgo, df_UsoSep, df_UsoOct, df_UsoNov, df_UsoDic, df_UsoEne, df_UsoFeb, df_UsoMar,\n",
    "                   df_UsoAbr, df_UsoMay, df_UsoJun], \n",
    "                   axis=0, ignore_index=True)"
   ]
  },
  {
   "cell_type": "code",
   "execution_count": 16,
   "metadata": {},
   "outputs": [
    {
     "data": {
      "text/plain": [
       "(5063509, 11)"
      ]
     },
     "execution_count": 16,
     "metadata": {},
     "output_type": "execute_result"
    }
   ],
   "source": [
    "df_raw.shape"
   ]
  },
  {
   "cell_type": "code",
   "execution_count": 17,
   "metadata": {
    "scrolled": false
   },
   "outputs": [
    {
     "name": "stdout",
     "output_type": "stream",
     "text": [
      "<class 'pandas.core.frame.DataFrame'>\n",
      "RangeIndex: 5063509 entries, 0 to 5063508\n",
      "Data columns (total 11 columns):\n",
      "_id                 object\n",
      "user_day_code       object\n",
      "idplug_base         int64\n",
      "user_type           int64\n",
      "idunplug_base       int64\n",
      "travel_time         int64\n",
      "idunplug_station    int64\n",
      "ageRange            int64\n",
      "idplug_station      int64\n",
      "unplug_hourTime     object\n",
      "zip_code            object\n",
      "dtypes: int64(7), object(4)\n",
      "memory usage: 424.9+ MB\n"
     ]
    }
   ],
   "source": [
    "df_raw.info()"
   ]
  },
  {
   "cell_type": "code",
   "execution_count": 18,
   "metadata": {
    "scrolled": false
   },
   "outputs": [
    {
     "data": {
      "text/html": [
       "<div>\n",
       "<style scoped>\n",
       "    .dataframe tbody tr th:only-of-type {\n",
       "        vertical-align: middle;\n",
       "    }\n",
       "\n",
       "    .dataframe tbody tr th {\n",
       "        vertical-align: top;\n",
       "    }\n",
       "\n",
       "    .dataframe thead th {\n",
       "        text-align: right;\n",
       "    }\n",
       "</style>\n",
       "<table border=\"1\" class=\"dataframe\">\n",
       "  <thead>\n",
       "    <tr style=\"text-align: right;\">\n",
       "      <th></th>\n",
       "      <th>_id</th>\n",
       "      <th>user_day_code</th>\n",
       "      <th>idplug_base</th>\n",
       "      <th>user_type</th>\n",
       "      <th>idunplug_base</th>\n",
       "      <th>travel_time</th>\n",
       "      <th>idunplug_station</th>\n",
       "      <th>ageRange</th>\n",
       "      <th>idplug_station</th>\n",
       "      <th>unplug_hourTime</th>\n",
       "      <th>zip_code</th>\n",
       "    </tr>\n",
       "  </thead>\n",
       "  <tbody>\n",
       "    <tr>\n",
       "      <td>0</td>\n",
       "      <td>5c4b07ea2f38432e007daab8</td>\n",
       "      <td>b3b5b61509ab89afbf4d1e589d229bebe6637c2de819f5...</td>\n",
       "      <td>14</td>\n",
       "      <td>1</td>\n",
       "      <td>23</td>\n",
       "      <td>162</td>\n",
       "      <td>82</td>\n",
       "      <td>0</td>\n",
       "      <td>83</td>\n",
       "      <td>2019-01-01T00:00:00Z</td>\n",
       "      <td>0</td>\n",
       "    </tr>\n",
       "    <tr>\n",
       "      <td>1</td>\n",
       "      <td>5c4b07ea2f38432e007daaba</td>\n",
       "      <td>a18550d468153bb8e1808d4f0a85955579951832772996...</td>\n",
       "      <td>10</td>\n",
       "      <td>1</td>\n",
       "      <td>1</td>\n",
       "      <td>415</td>\n",
       "      <td>133</td>\n",
       "      <td>5</td>\n",
       "      <td>36</td>\n",
       "      <td>2019-01-01T00:00:00Z</td>\n",
       "      <td>28005</td>\n",
       "    </tr>\n",
       "    <tr>\n",
       "      <td>2</td>\n",
       "      <td>5c4b07ea2f38432e007daabb</td>\n",
       "      <td>905737396c2fe343c84d62eaee3ab66e19632638c5bea7...</td>\n",
       "      <td>5</td>\n",
       "      <td>1</td>\n",
       "      <td>3</td>\n",
       "      <td>545</td>\n",
       "      <td>25</td>\n",
       "      <td>0</td>\n",
       "      <td>90</td>\n",
       "      <td>2019-01-01T00:00:00Z</td>\n",
       "      <td>0</td>\n",
       "    </tr>\n",
       "    <tr>\n",
       "      <td>3</td>\n",
       "      <td>5c4b07ea2f38432e007daabe</td>\n",
       "      <td>ed1c1a22c120e7d42cc522c33ab41db549791f3914b273...</td>\n",
       "      <td>4</td>\n",
       "      <td>1</td>\n",
       "      <td>12</td>\n",
       "      <td>448</td>\n",
       "      <td>51</td>\n",
       "      <td>4</td>\n",
       "      <td>44</td>\n",
       "      <td>2019-01-01T00:00:00Z</td>\n",
       "      <td>28005</td>\n",
       "    </tr>\n",
       "    <tr>\n",
       "      <td>4</td>\n",
       "      <td>5c4b07ea2f38432e007daac0</td>\n",
       "      <td>c7d4e8f50d4a318e4f9fb08d4b715dc9015be1f415358b...</td>\n",
       "      <td>17</td>\n",
       "      <td>1</td>\n",
       "      <td>4</td>\n",
       "      <td>639</td>\n",
       "      <td>44</td>\n",
       "      <td>0</td>\n",
       "      <td>125</td>\n",
       "      <td>2019-01-01T00:00:00Z</td>\n",
       "      <td>0</td>\n",
       "    </tr>\n",
       "  </tbody>\n",
       "</table>\n",
       "</div>"
      ],
      "text/plain": [
       "                        _id  \\\n",
       "0  5c4b07ea2f38432e007daab8   \n",
       "1  5c4b07ea2f38432e007daaba   \n",
       "2  5c4b07ea2f38432e007daabb   \n",
       "3  5c4b07ea2f38432e007daabe   \n",
       "4  5c4b07ea2f38432e007daac0   \n",
       "\n",
       "                                       user_day_code  idplug_base  user_type  \\\n",
       "0  b3b5b61509ab89afbf4d1e589d229bebe6637c2de819f5...           14          1   \n",
       "1  a18550d468153bb8e1808d4f0a85955579951832772996...           10          1   \n",
       "2  905737396c2fe343c84d62eaee3ab66e19632638c5bea7...            5          1   \n",
       "3  ed1c1a22c120e7d42cc522c33ab41db549791f3914b273...            4          1   \n",
       "4  c7d4e8f50d4a318e4f9fb08d4b715dc9015be1f415358b...           17          1   \n",
       "\n",
       "   idunplug_base  travel_time  idunplug_station  ageRange  idplug_station  \\\n",
       "0             23          162                82         0              83   \n",
       "1              1          415               133         5              36   \n",
       "2              3          545                25         0              90   \n",
       "3             12          448                51         4              44   \n",
       "4              4          639                44         0             125   \n",
       "\n",
       "        unplug_hourTime zip_code  \n",
       "0  2019-01-01T00:00:00Z        0  \n",
       "1  2019-01-01T00:00:00Z    28005  \n",
       "2  2019-01-01T00:00:00Z        0  \n",
       "3  2019-01-01T00:00:00Z    28005  \n",
       "4  2019-01-01T00:00:00Z        0  "
      ]
     },
     "execution_count": 18,
     "metadata": {},
     "output_type": "execute_result"
    }
   ],
   "source": [
    "df_raw.head()"
   ]
  },
  {
   "cell_type": "code",
   "execution_count": 19,
   "metadata": {},
   "outputs": [
    {
     "name": "stdout",
     "output_type": "stream",
     "text": [
      "2019-01-01T00:00:00Z\n",
      "2020-06-15T21:00:00Z\n"
     ]
    }
   ],
   "source": [
    "# Veo el rango temporal del conjunto de datos\n",
    "print(df_raw.unplug_hourTime.min())\n",
    "print(df_raw.unplug_hourTime.max())"
   ]
  },
  {
   "cell_type": "code",
   "execution_count": 20,
   "metadata": {
    "scrolled": true
   },
   "outputs": [
    {
     "data": {
      "text/plain": [
       "(72, 11)"
      ]
     },
     "execution_count": 20,
     "metadata": {},
     "output_type": "execute_result"
    }
   ],
   "source": [
    "df_raw[df_raw.travel_time < 0].shape\n",
    "# Hay 72 registros de la variable travel_time con valores negativos"
   ]
  },
  {
   "cell_type": "code",
   "execution_count": 21,
   "metadata": {},
   "outputs": [
    {
     "data": {
      "text/plain": [
       "_id                 0\n",
       "user_day_code       0\n",
       "idplug_base         0\n",
       "user_type           0\n",
       "idunplug_base       0\n",
       "travel_time         0\n",
       "idunplug_station    0\n",
       "ageRange            0\n",
       "idplug_station      0\n",
       "unplug_hourTime     0\n",
       "zip_code            0\n",
       "dtype: int64"
      ]
     },
     "execution_count": 21,
     "metadata": {},
     "output_type": "execute_result"
    }
   ],
   "source": [
    "# Compruebo si hay valores nulos\n",
    "df_raw.isnull().sum()"
   ]
  },
  {
   "cell_type": "code",
   "execution_count": 22,
   "metadata": {},
   "outputs": [],
   "source": [
    "# Conversion de variables a string\n",
    "df_raw._id = df_raw._id.astype(str)\n",
    "df_raw.user_day_code = df_raw.user_day_code.astype(str)"
   ]
  },
  {
   "cell_type": "code",
   "execution_count": 23,
   "metadata": {},
   "outputs": [],
   "source": [
    "# Transformación con LabelEncoder\n",
    "transf = LabelEncoder()\n",
    "df_raw._id = transf.fit_transform(df_raw._id)\n",
    "df_raw.user_day_code = transf.fit_transform(df_raw.user_day_code)"
   ]
  },
  {
   "cell_type": "code",
   "execution_count": 24,
   "metadata": {},
   "outputs": [
    {
     "data": {
      "text/plain": [
       "0        2578584\n",
       "28005     261307\n",
       "28012     214184\n",
       "28007     199694\n",
       "28004     194399\n",
       "          ...   \n",
       "28130          1\n",
       "03005          1\n",
       "25810          1\n",
       "18015          1\n",
       "9400           1\n",
       "Name: zip_code, Length: 747, dtype: int64"
      ]
     },
     "execution_count": 24,
     "metadata": {},
     "output_type": "execute_result"
    }
   ],
   "source": [
    "# Transformación de los valores vacíos de zip_code a 0\n",
    "df_raw[\"zip_code\"] = df_raw[\"zip_code\"].replace([''], 0)\n",
    "df_raw[\"zip_code\"].value_counts()"
   ]
  },
  {
   "cell_type": "code",
   "execution_count": 25,
   "metadata": {},
   "outputs": [
    {
     "data": {
      "text/plain": [
       "(88439, 11)"
      ]
     },
     "execution_count": 25,
     "metadata": {},
     "output_type": "execute_result"
    }
   ],
   "source": [
    "# Número de registros con duración del movimiento inferior a 60 segundos\n",
    "df_raw[df_raw.travel_time <= 60].shape"
   ]
  },
  {
   "cell_type": "code",
   "execution_count": 26,
   "metadata": {},
   "outputs": [
    {
     "data": {
      "text/plain": [
       "(41043, 11)"
      ]
     },
     "execution_count": 26,
     "metadata": {},
     "output_type": "execute_result"
    }
   ],
   "source": [
    "# Número de registros con duración del movimiento superior a 7200 segundos\n",
    "df_raw[df_raw.travel_time >= 7200].shape"
   ]
  },
  {
   "cell_type": "code",
   "execution_count": 27,
   "metadata": {
    "scrolled": true
   },
   "outputs": [],
   "source": [
    "# Se estipula un mínimo y un máximo estándar de los viajes: 60 segundos como mínimo y 7200 segundos como máximo\n",
    "# También eliminamos los viajes de los usuarios de mantenimiento (user 3) que se analizaran\n",
    "time1 = df_raw[\"travel_time\"] >= 60\n",
    "time2 = df_raw[\"travel_time\"] <= 7200\n",
    "user = df_raw[\"user_type\"] != 3\n",
    "df_Uso1 = df_raw[time1 & time2 & user]"
   ]
  },
  {
   "cell_type": "code",
   "execution_count": 28,
   "metadata": {},
   "outputs": [
    {
     "data": {
      "text/html": [
       "<div>\n",
       "<style scoped>\n",
       "    .dataframe tbody tr th:only-of-type {\n",
       "        vertical-align: middle;\n",
       "    }\n",
       "\n",
       "    .dataframe tbody tr th {\n",
       "        vertical-align: top;\n",
       "    }\n",
       "\n",
       "    .dataframe thead th {\n",
       "        text-align: right;\n",
       "    }\n",
       "</style>\n",
       "<table border=\"1\" class=\"dataframe\">\n",
       "  <thead>\n",
       "    <tr style=\"text-align: right;\">\n",
       "      <th></th>\n",
       "      <th>_id</th>\n",
       "      <th>user_day_code</th>\n",
       "      <th>idplug_base</th>\n",
       "      <th>user_type</th>\n",
       "      <th>idunplug_base</th>\n",
       "      <th>travel_time</th>\n",
       "      <th>idunplug_station</th>\n",
       "      <th>ageRange</th>\n",
       "      <th>idplug_station</th>\n",
       "      <th>unplug_hourTime</th>\n",
       "      <th>zip_code</th>\n",
       "    </tr>\n",
       "  </thead>\n",
       "  <tbody>\n",
       "    <tr>\n",
       "      <td>925</td>\n",
       "      <td>985</td>\n",
       "      <td>555474</td>\n",
       "      <td>6</td>\n",
       "      <td>3</td>\n",
       "      <td>8</td>\n",
       "      <td>2119</td>\n",
       "      <td>129</td>\n",
       "      <td>0</td>\n",
       "      <td>112</td>\n",
       "      <td>2019-01-01T06:00:00Z</td>\n",
       "      <td>0</td>\n",
       "    </tr>\n",
       "    <tr>\n",
       "      <td>926</td>\n",
       "      <td>982</td>\n",
       "      <td>555474</td>\n",
       "      <td>4</td>\n",
       "      <td>3</td>\n",
       "      <td>6</td>\n",
       "      <td>2112</td>\n",
       "      <td>129</td>\n",
       "      <td>0</td>\n",
       "      <td>112</td>\n",
       "      <td>2019-01-01T06:00:00Z</td>\n",
       "      <td>0</td>\n",
       "    </tr>\n",
       "    <tr>\n",
       "      <td>927</td>\n",
       "      <td>987</td>\n",
       "      <td>555474</td>\n",
       "      <td>7</td>\n",
       "      <td>3</td>\n",
       "      <td>9</td>\n",
       "      <td>2173</td>\n",
       "      <td>129</td>\n",
       "      <td>0</td>\n",
       "      <td>112</td>\n",
       "      <td>2019-01-01T06:00:00Z</td>\n",
       "      <td>0</td>\n",
       "    </tr>\n",
       "    <tr>\n",
       "      <td>928</td>\n",
       "      <td>984</td>\n",
       "      <td>555474</td>\n",
       "      <td>5</td>\n",
       "      <td>3</td>\n",
       "      <td>7</td>\n",
       "      <td>2144</td>\n",
       "      <td>129</td>\n",
       "      <td>0</td>\n",
       "      <td>112</td>\n",
       "      <td>2019-01-01T06:00:00Z</td>\n",
       "      <td>0</td>\n",
       "    </tr>\n",
       "    <tr>\n",
       "      <td>929</td>\n",
       "      <td>988</td>\n",
       "      <td>555474</td>\n",
       "      <td>8</td>\n",
       "      <td>3</td>\n",
       "      <td>11</td>\n",
       "      <td>2155</td>\n",
       "      <td>129</td>\n",
       "      <td>0</td>\n",
       "      <td>112</td>\n",
       "      <td>2019-01-01T06:00:00Z</td>\n",
       "      <td>0</td>\n",
       "    </tr>\n",
       "  </tbody>\n",
       "</table>\n",
       "</div>"
      ],
      "text/plain": [
       "     _id  user_day_code  idplug_base  user_type  idunplug_base  travel_time  \\\n",
       "925  985         555474            6          3              8         2119   \n",
       "926  982         555474            4          3              6         2112   \n",
       "927  987         555474            7          3              9         2173   \n",
       "928  984         555474            5          3              7         2144   \n",
       "929  988         555474            8          3             11         2155   \n",
       "\n",
       "     idunplug_station  ageRange  idplug_station       unplug_hourTime zip_code  \n",
       "925               129         0             112  2019-01-01T06:00:00Z        0  \n",
       "926               129         0             112  2019-01-01T06:00:00Z        0  \n",
       "927               129         0             112  2019-01-01T06:00:00Z        0  \n",
       "928               129         0             112  2019-01-01T06:00:00Z        0  \n",
       "929               129         0             112  2019-01-01T06:00:00Z        0  "
      ]
     },
     "execution_count": 28,
     "metadata": {},
     "output_type": "execute_result"
    }
   ],
   "source": [
    "# Se crea un conjunto de datos solo con los viajes de los user 3\n",
    "Uso_mant = df_raw[df_raw[\"user_type\"] == 3]\n",
    "Uso_mant.head()"
   ]
  },
  {
   "cell_type": "code",
   "execution_count": 29,
   "metadata": {},
   "outputs": [
    {
     "data": {
      "text/plain": [
       "(349020, 11)"
      ]
     },
     "execution_count": 29,
     "metadata": {},
     "output_type": "execute_result"
    }
   ],
   "source": [
    "Uso_mant.shape"
   ]
  },
  {
   "cell_type": "code",
   "execution_count": 30,
   "metadata": {},
   "outputs": [
    {
     "data": {
      "text/plain": [
       "(349020, 11)"
      ]
     },
     "execution_count": 30,
     "metadata": {},
     "output_type": "execute_result"
    }
   ],
   "source": [
    "df_raw[df_raw.user_type == 3].shape"
   ]
  },
  {
   "cell_type": "code",
   "execution_count": 31,
   "metadata": {},
   "outputs": [
    {
     "data": {
      "text/plain": [
       "(4685180, 11)"
      ]
     },
     "execution_count": 31,
     "metadata": {},
     "output_type": "execute_result"
    }
   ],
   "source": [
    "df_Uso1.shape"
   ]
  },
  {
   "cell_type": "code",
   "execution_count": 32,
   "metadata": {
    "scrolled": true
   },
   "outputs": [
    {
     "data": {
      "text/html": [
       "<div>\n",
       "<style scoped>\n",
       "    .dataframe tbody tr th:only-of-type {\n",
       "        vertical-align: middle;\n",
       "    }\n",
       "\n",
       "    .dataframe tbody tr th {\n",
       "        vertical-align: top;\n",
       "    }\n",
       "\n",
       "    .dataframe thead th {\n",
       "        text-align: right;\n",
       "    }\n",
       "</style>\n",
       "<table border=\"1\" class=\"dataframe\">\n",
       "  <thead>\n",
       "    <tr style=\"text-align: right;\">\n",
       "      <th></th>\n",
       "      <th>_id</th>\n",
       "      <th>user_day_code</th>\n",
       "      <th>idplug_base</th>\n",
       "      <th>user_type</th>\n",
       "      <th>idunplug_base</th>\n",
       "      <th>travel_time</th>\n",
       "      <th>idunplug_station</th>\n",
       "      <th>ageRange</th>\n",
       "      <th>idplug_station</th>\n",
       "      <th>unplug_hourTime</th>\n",
       "      <th>zip_code</th>\n",
       "    </tr>\n",
       "  </thead>\n",
       "  <tbody>\n",
       "    <tr>\n",
       "      <td>0</td>\n",
       "      <td>0</td>\n",
       "      <td>1962435</td>\n",
       "      <td>14</td>\n",
       "      <td>1</td>\n",
       "      <td>23</td>\n",
       "      <td>162</td>\n",
       "      <td>82</td>\n",
       "      <td>0</td>\n",
       "      <td>83</td>\n",
       "      <td>2019-01-01T00:00:00Z</td>\n",
       "      <td>0</td>\n",
       "    </tr>\n",
       "    <tr>\n",
       "      <td>1</td>\n",
       "      <td>1</td>\n",
       "      <td>1763458</td>\n",
       "      <td>10</td>\n",
       "      <td>1</td>\n",
       "      <td>1</td>\n",
       "      <td>415</td>\n",
       "      <td>133</td>\n",
       "      <td>5</td>\n",
       "      <td>36</td>\n",
       "      <td>2019-01-01T00:00:00Z</td>\n",
       "      <td>28005</td>\n",
       "    </tr>\n",
       "    <tr>\n",
       "      <td>2</td>\n",
       "      <td>2</td>\n",
       "      <td>1575571</td>\n",
       "      <td>5</td>\n",
       "      <td>1</td>\n",
       "      <td>3</td>\n",
       "      <td>545</td>\n",
       "      <td>25</td>\n",
       "      <td>0</td>\n",
       "      <td>90</td>\n",
       "      <td>2019-01-01T00:00:00Z</td>\n",
       "      <td>0</td>\n",
       "    </tr>\n",
       "    <tr>\n",
       "      <td>3</td>\n",
       "      <td>3</td>\n",
       "      <td>2589037</td>\n",
       "      <td>4</td>\n",
       "      <td>1</td>\n",
       "      <td>12</td>\n",
       "      <td>448</td>\n",
       "      <td>51</td>\n",
       "      <td>4</td>\n",
       "      <td>44</td>\n",
       "      <td>2019-01-01T00:00:00Z</td>\n",
       "      <td>28005</td>\n",
       "    </tr>\n",
       "    <tr>\n",
       "      <td>4</td>\n",
       "      <td>4</td>\n",
       "      <td>2181468</td>\n",
       "      <td>17</td>\n",
       "      <td>1</td>\n",
       "      <td>4</td>\n",
       "      <td>639</td>\n",
       "      <td>44</td>\n",
       "      <td>0</td>\n",
       "      <td>125</td>\n",
       "      <td>2019-01-01T00:00:00Z</td>\n",
       "      <td>0</td>\n",
       "    </tr>\n",
       "  </tbody>\n",
       "</table>\n",
       "</div>"
      ],
      "text/plain": [
       "   _id  user_day_code  idplug_base  user_type  idunplug_base  travel_time  \\\n",
       "0    0        1962435           14          1             23          162   \n",
       "1    1        1763458           10          1              1          415   \n",
       "2    2        1575571            5          1              3          545   \n",
       "3    3        2589037            4          1             12          448   \n",
       "4    4        2181468           17          1              4          639   \n",
       "\n",
       "   idunplug_station  ageRange  idplug_station       unplug_hourTime zip_code  \n",
       "0                82         0              83  2019-01-01T00:00:00Z        0  \n",
       "1               133         5              36  2019-01-01T00:00:00Z    28005  \n",
       "2                25         0              90  2019-01-01T00:00:00Z        0  \n",
       "3                51         4              44  2019-01-01T00:00:00Z    28005  \n",
       "4                44         0             125  2019-01-01T00:00:00Z        0  "
      ]
     },
     "execution_count": 32,
     "metadata": {},
     "output_type": "execute_result"
    }
   ],
   "source": [
    "df_Uso1.head()"
   ]
  },
  {
   "cell_type": "code",
   "execution_count": 33,
   "metadata": {},
   "outputs": [],
   "source": [
    "df_Uso1 = df_Uso1[df_Uso1[\"user_type\"] != 0]"
   ]
  },
  {
   "cell_type": "code",
   "execution_count": 34,
   "metadata": {
    "scrolled": true
   },
   "outputs": [
    {
     "data": {
      "text/plain": [
       "1    4632943\n",
       "2      50955\n",
       "Name: user_type, dtype: int64"
      ]
     },
     "execution_count": 34,
     "metadata": {},
     "output_type": "execute_result"
    },
    {
     "data": {
      "image/png": "[encoded data removed]",
      "text/plain": [
       "<Figure size 432x288 with 1 Axes>"
      ]
     },
     "metadata": {
      "needs_background": "light"
     },
     "output_type": "display_data"
    }
   ],
   "source": [
    "sns.countplot(x=df_Uso1.user_type)\n",
    "df_Uso1.user_type.value_counts()"
   ]
  },
  {
   "cell_type": "code",
   "execution_count": 35,
   "metadata": {},
   "outputs": [
    {
     "data": {
      "text/plain": [
       "685906     7200\n",
       "1338051    7200\n",
       "1924277    7200\n",
       "4951194    7200\n",
       "1343382    7200\n",
       "           ... \n",
       "3220190      60\n",
       "1895899      60\n",
       "324347       60\n",
       "3848721      60\n",
       "2539867      60\n",
       "Name: travel_time, Length: 4683898, dtype: int64"
      ]
     },
     "execution_count": 35,
     "metadata": {},
     "output_type": "execute_result"
    }
   ],
   "source": [
    "df_Uso1.travel_time.sort_values(ascending=False)"
   ]
  },
  {
   "cell_type": "code",
   "execution_count": 36,
   "metadata": {
    "scrolled": false
   },
   "outputs": [
    {
     "data": {
      "text/plain": [
       "<matplotlib.axes._subplots.AxesSubplot at 0x1ce90d354c8>"
      ]
     },
     "execution_count": 36,
     "metadata": {},
     "output_type": "execute_result"
    },
    {
     "data": {
      "image/png": "[encoded data removed]",
      "text/plain": [
       "<Figure size 432x288 with 1 Axes>"
      ]
     },
     "metadata": {
      "needs_background": "light"
     },
     "output_type": "display_data"
    }
   ],
   "source": [
    "sns.boxplot(x=\"user_type\", y= \"travel_time\", data=df_Uso1)"
   ]
  },
  {
   "cell_type": "code",
   "execution_count": 37,
   "metadata": {
    "scrolled": true
   },
   "outputs": [],
   "source": [
    "# Creación de la \"time\" a partir de la variable \"unplug_hourTime\"\n",
    "df_Uso1[\"time\"] = pd.to_datetime(df_Uso1[\"unplug_hourTime\"])"
   ]
  },
  {
   "cell_type": "code",
   "execution_count": 38,
   "metadata": {
    "scrolled": true
   },
   "outputs": [],
   "source": [
    "# Creación de nuevas variables relacionadas con la fecha: hour, day, week-day...\n",
    "df_Uso1.loc[:, \"hour\"] = df_Uso1.loc[:, \"time\"].dt.hour\n",
    "df_Uso1.loc[:, \"day\"] = df_Uso1.loc[:, \"time\"].dt.day\n",
    "df_Uso1.loc[:, \"wday\"] = df_Uso1.loc[:, \"time\"].dt.weekday\n",
    "df_Uso1.loc[:, \"month\"] = df_Uso1.loc[:, \"time\"].dt.month\n",
    "df_Uso1.loc[:, \"year\"] = df_Uso1.loc[:, \"time\"].dt.year"
   ]
  },
  {
   "cell_type": "code",
   "execution_count": 39,
   "metadata": {},
   "outputs": [],
   "source": [
    "# Para realizar gráficos, se genera una variable date más corta\n",
    "df_Uso1[\"date\"] = df_Uso1[\"day\"].map(str) + '-' + df_Uso1[\"month\"].map(str) + '-' + df_Uso1[\"year\"].map(str)"
   ]
  },
  {
   "cell_type": "code",
   "execution_count": 40,
   "metadata": {
    "scrolled": true
   },
   "outputs": [
    {
     "data": {
      "text/html": [
       "<div>\n",
       "<style scoped>\n",
       "    .dataframe tbody tr th:only-of-type {\n",
       "        vertical-align: middle;\n",
       "    }\n",
       "\n",
       "    .dataframe tbody tr th {\n",
       "        vertical-align: top;\n",
       "    }\n",
       "\n",
       "    .dataframe thead th {\n",
       "        text-align: right;\n",
       "    }\n",
       "</style>\n",
       "<table border=\"1\" class=\"dataframe\">\n",
       "  <thead>\n",
       "    <tr style=\"text-align: right;\">\n",
       "      <th></th>\n",
       "      <th>_id</th>\n",
       "      <th>user_day_code</th>\n",
       "      <th>idplug_base</th>\n",
       "      <th>user_type</th>\n",
       "      <th>idunplug_base</th>\n",
       "      <th>travel_time</th>\n",
       "      <th>idunplug_station</th>\n",
       "      <th>ageRange</th>\n",
       "      <th>idplug_station</th>\n",
       "      <th>unplug_hourTime</th>\n",
       "      <th>zip_code</th>\n",
       "      <th>time</th>\n",
       "      <th>hour</th>\n",
       "      <th>day</th>\n",
       "      <th>wday</th>\n",
       "      <th>month</th>\n",
       "      <th>year</th>\n",
       "      <th>date</th>\n",
       "    </tr>\n",
       "  </thead>\n",
       "  <tbody>\n",
       "    <tr>\n",
       "      <td>0</td>\n",
       "      <td>0</td>\n",
       "      <td>1962435</td>\n",
       "      <td>14</td>\n",
       "      <td>1</td>\n",
       "      <td>23</td>\n",
       "      <td>162</td>\n",
       "      <td>82</td>\n",
       "      <td>0</td>\n",
       "      <td>83</td>\n",
       "      <td>2019-01-01T00:00:00Z</td>\n",
       "      <td>0</td>\n",
       "      <td>2019-01-01 00:00:00+00:00</td>\n",
       "      <td>0</td>\n",
       "      <td>1</td>\n",
       "      <td>1</td>\n",
       "      <td>1</td>\n",
       "      <td>2019</td>\n",
       "      <td>1-1-2019</td>\n",
       "    </tr>\n",
       "    <tr>\n",
       "      <td>1</td>\n",
       "      <td>1</td>\n",
       "      <td>1763458</td>\n",
       "      <td>10</td>\n",
       "      <td>1</td>\n",
       "      <td>1</td>\n",
       "      <td>415</td>\n",
       "      <td>133</td>\n",
       "      <td>5</td>\n",
       "      <td>36</td>\n",
       "      <td>2019-01-01T00:00:00Z</td>\n",
       "      <td>28005</td>\n",
       "      <td>2019-01-01 00:00:00+00:00</td>\n",
       "      <td>0</td>\n",
       "      <td>1</td>\n",
       "      <td>1</td>\n",
       "      <td>1</td>\n",
       "      <td>2019</td>\n",
       "      <td>1-1-2019</td>\n",
       "    </tr>\n",
       "    <tr>\n",
       "      <td>2</td>\n",
       "      <td>2</td>\n",
       "      <td>1575571</td>\n",
       "      <td>5</td>\n",
       "      <td>1</td>\n",
       "      <td>3</td>\n",
       "      <td>545</td>\n",
       "      <td>25</td>\n",
       "      <td>0</td>\n",
       "      <td>90</td>\n",
       "      <td>2019-01-01T00:00:00Z</td>\n",
       "      <td>0</td>\n",
       "      <td>2019-01-01 00:00:00+00:00</td>\n",
       "      <td>0</td>\n",
       "      <td>1</td>\n",
       "      <td>1</td>\n",
       "      <td>1</td>\n",
       "      <td>2019</td>\n",
       "      <td>1-1-2019</td>\n",
       "    </tr>\n",
       "    <tr>\n",
       "      <td>3</td>\n",
       "      <td>3</td>\n",
       "      <td>2589037</td>\n",
       "      <td>4</td>\n",
       "      <td>1</td>\n",
       "      <td>12</td>\n",
       "      <td>448</td>\n",
       "      <td>51</td>\n",
       "      <td>4</td>\n",
       "      <td>44</td>\n",
       "      <td>2019-01-01T00:00:00Z</td>\n",
       "      <td>28005</td>\n",
       "      <td>2019-01-01 00:00:00+00:00</td>\n",
       "      <td>0</td>\n",
       "      <td>1</td>\n",
       "      <td>1</td>\n",
       "      <td>1</td>\n",
       "      <td>2019</td>\n",
       "      <td>1-1-2019</td>\n",
       "    </tr>\n",
       "    <tr>\n",
       "      <td>4</td>\n",
       "      <td>4</td>\n",
       "      <td>2181468</td>\n",
       "      <td>17</td>\n",
       "      <td>1</td>\n",
       "      <td>4</td>\n",
       "      <td>639</td>\n",
       "      <td>44</td>\n",
       "      <td>0</td>\n",
       "      <td>125</td>\n",
       "      <td>2019-01-01T00:00:00Z</td>\n",
       "      <td>0</td>\n",
       "      <td>2019-01-01 00:00:00+00:00</td>\n",
       "      <td>0</td>\n",
       "      <td>1</td>\n",
       "      <td>1</td>\n",
       "      <td>1</td>\n",
       "      <td>2019</td>\n",
       "      <td>1-1-2019</td>\n",
       "    </tr>\n",
       "  </tbody>\n",
       "</table>\n",
       "</div>"
      ],
      "text/plain": [
       "   _id  user_day_code  idplug_base  user_type  idunplug_base  travel_time  \\\n",
       "0    0        1962435           14          1             23          162   \n",
       "1    1        1763458           10          1              1          415   \n",
       "2    2        1575571            5          1              3          545   \n",
       "3    3        2589037            4          1             12          448   \n",
       "4    4        2181468           17          1              4          639   \n",
       "\n",
       "   idunplug_station  ageRange  idplug_station       unplug_hourTime zip_code  \\\n",
       "0                82         0              83  2019-01-01T00:00:00Z        0   \n",
       "1               133         5              36  2019-01-01T00:00:00Z    28005   \n",
       "2                25         0              90  2019-01-01T00:00:00Z        0   \n",
       "3                51         4              44  2019-01-01T00:00:00Z    28005   \n",
       "4                44         0             125  2019-01-01T00:00:00Z        0   \n",
       "\n",
       "                       time  hour  day  wday  month  year      date  \n",
       "0 2019-01-01 00:00:00+00:00     0    1     1      1  2019  1-1-2019  \n",
       "1 2019-01-01 00:00:00+00:00     0    1     1      1  2019  1-1-2019  \n",
       "2 2019-01-01 00:00:00+00:00     0    1     1      1  2019  1-1-2019  \n",
       "3 2019-01-01 00:00:00+00:00     0    1     1      1  2019  1-1-2019  \n",
       "4 2019-01-01 00:00:00+00:00     0    1     1      1  2019  1-1-2019  "
      ]
     },
     "execution_count": 40,
     "metadata": {},
     "output_type": "execute_result"
    }
   ],
   "source": [
    "df_Uso1.head()"
   ]
  },
  {
   "cell_type": "code",
   "execution_count": 41,
   "metadata": {
    "scrolled": true
   },
   "outputs": [
    {
     "data": {
      "text/plain": [
       "_id                               int32\n",
       "user_day_code                     int32\n",
       "idplug_base                       int64\n",
       "user_type                         int64\n",
       "idunplug_base                     int64\n",
       "travel_time                       int64\n",
       "idunplug_station                  int64\n",
       "ageRange                          int64\n",
       "idplug_station                    int64\n",
       "unplug_hourTime                  object\n",
       "zip_code                         object\n",
       "time                datetime64[ns, UTC]\n",
       "hour                              int64\n",
       "day                               int64\n",
       "wday                              int64\n",
       "month                             int64\n",
       "year                              int64\n",
       "date                             object\n",
       "dtype: object"
      ]
     },
     "execution_count": 41,
     "metadata": {},
     "output_type": "execute_result"
    }
   ],
   "source": [
    "# Comprobamos los resultados de las transformaciones\n",
    "df_Uso1.dtypes"
   ]
  },
  {
   "cell_type": "code",
   "execution_count": 42,
   "metadata": {},
   "outputs": [],
   "source": [
    "# Creo dos conjuntos distintos de antes de la crisis de la COVID-19 y cuando comienza\n",
    "df_beforeCOVID = df_Uso1[(df_Uso1.time <  \"2020-03-15 23:00:00+00:00\")]\n",
    "df_afterCOVID = df_Uso1[(df_Uso1.time >  \"2020-03-16 00:00:00+00:00\")]"
   ]
  },
  {
   "cell_type": "code",
   "execution_count": 43,
   "metadata": {},
   "outputs": [
    {
     "name": "stdout",
     "output_type": "stream",
     "text": [
      "2019-01-01 00:00:00+00:00\n",
      "2020-03-15 22:00:00+00:00\n"
     ]
    }
   ],
   "source": [
    "# Comprobación del rango de fechas analizado\n",
    "print(df_beforeCOVID.time.min())\n",
    "print(df_beforeCOVID.time.max())"
   ]
  },
  {
   "cell_type": "code",
   "execution_count": 44,
   "metadata": {},
   "outputs": [
    {
     "name": "stdout",
     "output_type": "stream",
     "text": [
      "2020-03-16 04:00:00+00:00\n",
      "2020-06-15 21:00:00+00:00\n"
     ]
    }
   ],
   "source": [
    "# Comprobación del rango de fechas analizado\n",
    "print(df_afterCOVID.time.min())\n",
    "print(df_afterCOVID.time.max())"
   ]
  },
  {
   "cell_type": "code",
   "execution_count": 45,
   "metadata": {},
   "outputs": [
    {
     "data": {
      "text/plain": [
       "[15, 2008]"
      ]
     },
     "execution_count": 45,
     "metadata": {},
     "output_type": "execute_result"
    }
   ],
   "source": [
    "# Hay estaciones que se han quitado o no salen en algunos meses... \n",
    "estaciones_old = df_UsoEne19.idunplug_station.unique()\n",
    "estaciones_new = df_UsoJun.idunplug_station.unique()\n",
    "estaciones_eliminadas = [estacion for estacion in estaciones_old if estacion not in estaciones_new]\n",
    "estaciones_eliminadas"
   ]
  },
  {
   "cell_type": "code",
   "execution_count": 46,
   "metadata": {
    "scrolled": true
   },
   "outputs": [
    {
     "data": {
      "text/html": [
       "<div>\n",
       "<style scoped>\n",
       "    .dataframe tbody tr th:only-of-type {\n",
       "        vertical-align: middle;\n",
       "    }\n",
       "\n",
       "    .dataframe tbody tr th {\n",
       "        vertical-align: top;\n",
       "    }\n",
       "\n",
       "    .dataframe thead th {\n",
       "        text-align: right;\n",
       "    }\n",
       "</style>\n",
       "<table border=\"1\" class=\"dataframe\">\n",
       "  <thead>\n",
       "    <tr style=\"text-align: right;\">\n",
       "      <th></th>\n",
       "      <th>idunplug_station</th>\n",
       "      <th>idplug_station</th>\n",
       "      <th>_id</th>\n",
       "    </tr>\n",
       "  </thead>\n",
       "  <tbody>\n",
       "    <tr>\n",
       "      <td>1854</td>\n",
       "      <td>9</td>\n",
       "      <td>149</td>\n",
       "      <td>3347</td>\n",
       "    </tr>\n",
       "    <tr>\n",
       "      <td>1075</td>\n",
       "      <td>6</td>\n",
       "      <td>6</td>\n",
       "      <td>2723</td>\n",
       "    </tr>\n",
       "    <tr>\n",
       "      <td>12874</td>\n",
       "      <td>64</td>\n",
       "      <td>64</td>\n",
       "      <td>2490</td>\n",
       "    </tr>\n",
       "    <tr>\n",
       "      <td>27669</td>\n",
       "      <td>135</td>\n",
       "      <td>135</td>\n",
       "      <td>2398</td>\n",
       "    </tr>\n",
       "    <tr>\n",
       "      <td>27026</td>\n",
       "      <td>132</td>\n",
       "      <td>132</td>\n",
       "      <td>2294</td>\n",
       "    </tr>\n",
       "    <tr>\n",
       "      <td>...</td>\n",
       "      <td>...</td>\n",
       "      <td>...</td>\n",
       "      <td>...</td>\n",
       "    </tr>\n",
       "    <tr>\n",
       "      <td>43662</td>\n",
       "      <td>210</td>\n",
       "      <td>178</td>\n",
       "      <td>1</td>\n",
       "    </tr>\n",
       "    <tr>\n",
       "      <td>5525</td>\n",
       "      <td>29</td>\n",
       "      <td>192</td>\n",
       "      <td>1</td>\n",
       "    </tr>\n",
       "    <tr>\n",
       "      <td>31350</td>\n",
       "      <td>152</td>\n",
       "      <td>188</td>\n",
       "      <td>1</td>\n",
       "    </tr>\n",
       "    <tr>\n",
       "      <td>44514</td>\n",
       "      <td>214</td>\n",
       "      <td>178</td>\n",
       "      <td>1</td>\n",
       "    </tr>\n",
       "    <tr>\n",
       "      <td>44583</td>\n",
       "      <td>215</td>\n",
       "      <td>32</td>\n",
       "      <td>1</td>\n",
       "    </tr>\n",
       "  </tbody>\n",
       "</table>\n",
       "<p>45616 rows × 3 columns</p>\n",
       "</div>"
      ],
      "text/plain": [
       "       idunplug_station  idplug_station   _id\n",
       "1854                  9             149  3347\n",
       "1075                  6               6  2723\n",
       "12874                64              64  2490\n",
       "27669               135             135  2398\n",
       "27026               132             132  2294\n",
       "...                 ...             ...   ...\n",
       "43662               210             178     1\n",
       "5525                 29             192     1\n",
       "31350               152             188     1\n",
       "44514               214             178     1\n",
       "44583               215              32     1\n",
       "\n",
       "[45616 rows x 3 columns]"
      ]
     },
     "execution_count": 46,
     "metadata": {},
     "output_type": "execute_result"
    }
   ],
   "source": [
    "# Creación de un dataframe para analizar las rutas entre estación origen y estación destino. Se analizarán el número de\n",
    "# movimientos (o repeticiones) y la duración media.\n",
    "comb = df_Uso1.groupby(['idunplug_station', 'idplug_station'])[\"_id\"].count().reset_index()\n",
    "comb.sort_values(by='_id', ascending=False)"
   ]
  },
  {
   "cell_type": "code",
   "execution_count": 47,
   "metadata": {},
   "outputs": [
    {
     "data": {
      "text/html": [
       "<div>\n",
       "<style scoped>\n",
       "    .dataframe tbody tr th:only-of-type {\n",
       "        vertical-align: middle;\n",
       "    }\n",
       "\n",
       "    .dataframe tbody tr th {\n",
       "        vertical-align: top;\n",
       "    }\n",
       "\n",
       "    .dataframe thead th {\n",
       "        text-align: right;\n",
       "    }\n",
       "</style>\n",
       "<table border=\"1\" class=\"dataframe\">\n",
       "  <thead>\n",
       "    <tr style=\"text-align: right;\">\n",
       "      <th></th>\n",
       "      <th>idunplug_station</th>\n",
       "      <th>idplug_station</th>\n",
       "      <th>travel_time</th>\n",
       "    </tr>\n",
       "  </thead>\n",
       "  <tbody>\n",
       "    <tr>\n",
       "      <td>39978</td>\n",
       "      <td>193</td>\n",
       "      <td>111</td>\n",
       "      <td>7077.000000</td>\n",
       "    </tr>\n",
       "    <tr>\n",
       "      <td>41391</td>\n",
       "      <td>200</td>\n",
       "      <td>28</td>\n",
       "      <td>6856.000000</td>\n",
       "    </tr>\n",
       "    <tr>\n",
       "      <td>2113</td>\n",
       "      <td>10</td>\n",
       "      <td>194</td>\n",
       "      <td>6840.000000</td>\n",
       "    </tr>\n",
       "    <tr>\n",
       "      <td>37168</td>\n",
       "      <td>180</td>\n",
       "      <td>32</td>\n",
       "      <td>6724.000000</td>\n",
       "    </tr>\n",
       "    <tr>\n",
       "      <td>24310</td>\n",
       "      <td>119</td>\n",
       "      <td>188</td>\n",
       "      <td>6694.000000</td>\n",
       "    </tr>\n",
       "    <tr>\n",
       "      <td>...</td>\n",
       "      <td>...</td>\n",
       "      <td>...</td>\n",
       "      <td>...</td>\n",
       "    </tr>\n",
       "    <tr>\n",
       "      <td>2244</td>\n",
       "      <td>11</td>\n",
       "      <td>111</td>\n",
       "      <td>237.590909</td>\n",
       "    </tr>\n",
       "    <tr>\n",
       "      <td>20163</td>\n",
       "      <td>100</td>\n",
       "      <td>97</td>\n",
       "      <td>236.494949</td>\n",
       "    </tr>\n",
       "    <tr>\n",
       "      <td>19534</td>\n",
       "      <td>97</td>\n",
       "      <td>109</td>\n",
       "      <td>233.666667</td>\n",
       "    </tr>\n",
       "    <tr>\n",
       "      <td>22514</td>\n",
       "      <td>111</td>\n",
       "      <td>98</td>\n",
       "      <td>206.653846</td>\n",
       "    </tr>\n",
       "    <tr>\n",
       "      <td>5338</td>\n",
       "      <td>28</td>\n",
       "      <td>218</td>\n",
       "      <td>160.600000</td>\n",
       "    </tr>\n",
       "  </tbody>\n",
       "</table>\n",
       "<p>45616 rows × 3 columns</p>\n",
       "</div>"
      ],
      "text/plain": [
       "       idunplug_station  idplug_station  travel_time\n",
       "39978               193             111  7077.000000\n",
       "41391               200              28  6856.000000\n",
       "2113                 10             194  6840.000000\n",
       "37168               180              32  6724.000000\n",
       "24310               119             188  6694.000000\n",
       "...                 ...             ...          ...\n",
       "2244                 11             111   237.590909\n",
       "20163               100              97   236.494949\n",
       "19534                97             109   233.666667\n",
       "22514               111              98   206.653846\n",
       "5338                 28             218   160.600000\n",
       "\n",
       "[45616 rows x 3 columns]"
      ]
     },
     "execution_count": 47,
     "metadata": {},
     "output_type": "execute_result"
    }
   ],
   "source": [
    "# Saco el travel_time medio de las combinaciones anteriores\n",
    "time = df_Uso1.groupby(['idunplug_station', 'idplug_station'])[\"travel_time\"].mean().reset_index()\n",
    "time.sort_values(by='travel_time', ascending=False)"
   ]
  },
  {
   "cell_type": "code",
   "execution_count": 48,
   "metadata": {},
   "outputs": [
    {
     "data": {
      "text/html": [
       "<div>\n",
       "<style scoped>\n",
       "    .dataframe tbody tr th:only-of-type {\n",
       "        vertical-align: middle;\n",
       "    }\n",
       "\n",
       "    .dataframe tbody tr th {\n",
       "        vertical-align: top;\n",
       "    }\n",
       "\n",
       "    .dataframe thead th {\n",
       "        text-align: right;\n",
       "    }\n",
       "</style>\n",
       "<table border=\"1\" class=\"dataframe\">\n",
       "  <thead>\n",
       "    <tr style=\"text-align: right;\">\n",
       "      <th></th>\n",
       "      <th>idunplug_station</th>\n",
       "      <th>idplug_station</th>\n",
       "      <th>_id</th>\n",
       "      <th>travel_time</th>\n",
       "    </tr>\n",
       "  </thead>\n",
       "  <tbody>\n",
       "    <tr>\n",
       "      <td>1854</td>\n",
       "      <td>9</td>\n",
       "      <td>149</td>\n",
       "      <td>3347</td>\n",
       "      <td>651.011652</td>\n",
       "    </tr>\n",
       "    <tr>\n",
       "      <td>1075</td>\n",
       "      <td>6</td>\n",
       "      <td>6</td>\n",
       "      <td>2723</td>\n",
       "      <td>2366.760925</td>\n",
       "    </tr>\n",
       "    <tr>\n",
       "      <td>12874</td>\n",
       "      <td>64</td>\n",
       "      <td>64</td>\n",
       "      <td>2490</td>\n",
       "      <td>2953.949398</td>\n",
       "    </tr>\n",
       "    <tr>\n",
       "      <td>27669</td>\n",
       "      <td>135</td>\n",
       "      <td>135</td>\n",
       "      <td>2398</td>\n",
       "      <td>2948.929108</td>\n",
       "    </tr>\n",
       "    <tr>\n",
       "      <td>27026</td>\n",
       "      <td>132</td>\n",
       "      <td>132</td>\n",
       "      <td>2294</td>\n",
       "      <td>3230.078466</td>\n",
       "    </tr>\n",
       "    <tr>\n",
       "      <td>...</td>\n",
       "      <td>...</td>\n",
       "      <td>...</td>\n",
       "      <td>...</td>\n",
       "      <td>...</td>\n",
       "    </tr>\n",
       "    <tr>\n",
       "      <td>43662</td>\n",
       "      <td>210</td>\n",
       "      <td>178</td>\n",
       "      <td>1</td>\n",
       "      <td>1534.000000</td>\n",
       "    </tr>\n",
       "    <tr>\n",
       "      <td>5525</td>\n",
       "      <td>29</td>\n",
       "      <td>192</td>\n",
       "      <td>1</td>\n",
       "      <td>991.000000</td>\n",
       "    </tr>\n",
       "    <tr>\n",
       "      <td>31350</td>\n",
       "      <td>152</td>\n",
       "      <td>188</td>\n",
       "      <td>1</td>\n",
       "      <td>1605.000000</td>\n",
       "    </tr>\n",
       "    <tr>\n",
       "      <td>44514</td>\n",
       "      <td>214</td>\n",
       "      <td>178</td>\n",
       "      <td>1</td>\n",
       "      <td>1692.000000</td>\n",
       "    </tr>\n",
       "    <tr>\n",
       "      <td>44583</td>\n",
       "      <td>215</td>\n",
       "      <td>32</td>\n",
       "      <td>1</td>\n",
       "      <td>2550.000000</td>\n",
       "    </tr>\n",
       "  </tbody>\n",
       "</table>\n",
       "<p>45616 rows × 4 columns</p>\n",
       "</div>"
      ],
      "text/plain": [
       "       idunplug_station  idplug_station   _id  travel_time\n",
       "1854                  9             149  3347   651.011652\n",
       "1075                  6               6  2723  2366.760925\n",
       "12874                64              64  2490  2953.949398\n",
       "27669               135             135  2398  2948.929108\n",
       "27026               132             132  2294  3230.078466\n",
       "...                 ...             ...   ...          ...\n",
       "43662               210             178     1  1534.000000\n",
       "5525                 29             192     1   991.000000\n",
       "31350               152             188     1  1605.000000\n",
       "44514               214             178     1  1692.000000\n",
       "44583               215              32     1  2550.000000\n",
       "\n",
       "[45616 rows x 4 columns]"
      ]
     },
     "execution_count": 48,
     "metadata": {},
     "output_type": "execute_result"
    }
   ],
   "source": [
    "# Combino ambas tablas\n",
    "df = pd.merge(comb, time, on=[\"idunplug_station\", \"idplug_station\"], how= 'left')\n",
    "df.sort_values(by='_id', ascending=False)"
   ]
  },
  {
   "cell_type": "code",
   "execution_count": 49,
   "metadata": {},
   "outputs": [],
   "source": [
    "df = df.rename(columns={\"_id\":\"num_movimientos\"})"
   ]
  },
  {
   "cell_type": "code",
   "execution_count": 50,
   "metadata": {
    "scrolled": false
   },
   "outputs": [
    {
     "data": {
      "text/plain": [
       "<seaborn.axisgrid.FacetGrid at 0x1cf4b9ade08>"
      ]
     },
     "execution_count": 50,
     "metadata": {},
     "output_type": "execute_result"
    },
    {
     "data": {
      "image/png": "[encoded data removed]",
      "text/plain": [
       "<Figure size 864x432 with 1 Axes>"
      ]
     },
     "metadata": {
      "needs_background": "light"
     },
     "output_type": "display_data"
    }
   ],
   "source": [
    "# Gráfico de las combinaciones por número de viajes y tiempo medio del TOTAL de viajes entre Julio 2019 y Junio(15) 2020\n",
    "sns.relplot(data=df, x=\"num_movimientos\", y=\"travel_time\", kind=\"scatter\", height=6, aspect=2)\n",
    "# Se observa que, en general, en las combinaciones con mayor número de viajes, el tiempo medio es menor. De esta manera,\n",
    "# podemos diferenciar dos tipo de viajes: unos más \"rutinarios\" con mayor número de movimientos (\"_id\"), y otro más turísticos \n",
    "# o \"de paseo\" con menor número de movimientos."
   ]
  },
  {
   "cell_type": "code",
   "execution_count": 51,
   "metadata": {
    "scrolled": true
   },
   "outputs": [
    {
     "data": {
      "text/html": [
       "<div>\n",
       "<style scoped>\n",
       "    .dataframe tbody tr th:only-of-type {\n",
       "        vertical-align: middle;\n",
       "    }\n",
       "\n",
       "    .dataframe tbody tr th {\n",
       "        vertical-align: top;\n",
       "    }\n",
       "\n",
       "    .dataframe thead th {\n",
       "        text-align: right;\n",
       "    }\n",
       "</style>\n",
       "<table border=\"1\" class=\"dataframe\">\n",
       "  <thead>\n",
       "    <tr style=\"text-align: right;\">\n",
       "      <th></th>\n",
       "      <th>idunplug_station</th>\n",
       "      <th>idplug_station</th>\n",
       "      <th>time</th>\n",
       "      <th>_id</th>\n",
       "    </tr>\n",
       "  </thead>\n",
       "  <tbody>\n",
       "    <tr>\n",
       "      <td>2846720</td>\n",
       "      <td>132</td>\n",
       "      <td>132</td>\n",
       "      <td>2019-06-02 19:00:00+00:00</td>\n",
       "      <td>18</td>\n",
       "    </tr>\n",
       "    <tr>\n",
       "      <td>2987128</td>\n",
       "      <td>138</td>\n",
       "      <td>138</td>\n",
       "      <td>2020-05-16 18:00:00+00:00</td>\n",
       "      <td>15</td>\n",
       "    </tr>\n",
       "    <tr>\n",
       "      <td>3875575</td>\n",
       "      <td>175</td>\n",
       "      <td>175</td>\n",
       "      <td>2020-05-19 18:00:00+00:00</td>\n",
       "      <td>15</td>\n",
       "    </tr>\n",
       "    <tr>\n",
       "      <td>4143503</td>\n",
       "      <td>205</td>\n",
       "      <td>205</td>\n",
       "      <td>2020-05-10 18:00:00+00:00</td>\n",
       "      <td>14</td>\n",
       "    </tr>\n",
       "    <tr>\n",
       "      <td>3427445</td>\n",
       "      <td>160</td>\n",
       "      <td>160</td>\n",
       "      <td>2020-05-24 18:00:00+00:00</td>\n",
       "      <td>13</td>\n",
       "    </tr>\n",
       "  </tbody>\n",
       "</table>\n",
       "</div>"
      ],
      "text/plain": [
       "         idunplug_station  idplug_station                      time  _id\n",
       "2846720               132             132 2019-06-02 19:00:00+00:00   18\n",
       "2987128               138             138 2020-05-16 18:00:00+00:00   15\n",
       "3875575               175             175 2020-05-19 18:00:00+00:00   15\n",
       "4143503               205             205 2020-05-10 18:00:00+00:00   14\n",
       "3427445               160             160 2020-05-24 18:00:00+00:00   13"
      ]
     },
     "execution_count": 51,
     "metadata": {},
     "output_type": "execute_result"
    }
   ],
   "source": [
    "# Saco el travel_time medio de las combinaciones anteriores\n",
    "line = df_Uso1.groupby([\"idunplug_station\", \"idplug_station\", \"time\"])[\"_id\"].count().reset_index()\n",
    "line.sort_values(by=\"_id\", ascending=False).head()"
   ]
  },
  {
   "cell_type": "code",
   "execution_count": 52,
   "metadata": {},
   "outputs": [],
   "source": [
    "# Creo un conjunto con los datos recogidos antes del inicio de la crisis sanitaria \"df_before\"\n",
    "comb_before = df_beforeCOVID.groupby(['idunplug_station', 'idplug_station'])[\"_id\"].count().reset_index()\n",
    "time_before = df_beforeCOVID.groupby(['idunplug_station', 'idplug_station'])[\"travel_time\"].mean().reset_index()\n",
    "df_before = pd.merge(comb_before, time_before, on=[\"idunplug_station\", \"idplug_station\"], how= 'left')"
   ]
  },
  {
   "cell_type": "code",
   "execution_count": 53,
   "metadata": {},
   "outputs": [
    {
     "name": "stdout",
     "output_type": "stream",
     "text": [
      "1045.234141952184\n",
      "93.7994076169846\n"
     ]
    }
   ],
   "source": [
    "# Tiempo medio y numero medio de viajes ANTES de la crisis\n",
    "print(df_before.travel_time.mean())\n",
    "print(df_before._id.mean())"
   ]
  },
  {
   "cell_type": "code",
   "execution_count": 54,
   "metadata": {},
   "outputs": [],
   "source": [
    "df_before = df_before.rename(columns={\"_id\":\"num_movimientos\"})"
   ]
  },
  {
   "cell_type": "code",
   "execution_count": 55,
   "metadata": {
    "scrolled": false
   },
   "outputs": [
    {
     "data": {
      "text/plain": [
       "<seaborn.axisgrid.FacetGrid at 0x1cf4b967848>"
      ]
     },
     "execution_count": 55,
     "metadata": {},
     "output_type": "execute_result"
    },
    {
     "data": {
      "image/png": "[encoded data removed]",
      "text/plain": [
       "<Figure size 864x432 with 1 Axes>"
      ]
     },
     "metadata": {
      "needs_background": "light"
     },
     "output_type": "display_data"
    }
   ],
   "source": [
    "# Gráfico de las combinaciones por número de viajes y tiempo medio de ANTES DE LA CRISIS\n",
    "sns.relplot(data=df_before, x=\"num_movimientos\", y=\"travel_time\", kind=\"scatter\", color=\"green\", height=6, aspect=2)"
   ]
  },
  {
   "cell_type": "code",
   "execution_count": 56,
   "metadata": {},
   "outputs": [],
   "source": [
    "# Creo un conjunto con los datos recogidos tras el inicio de la crisis sanitaria \"df_after\"\n",
    "comb_after = df_afterCOVID.groupby(['idunplug_station', 'idplug_station'])[\"_id\"].count().reset_index()\n",
    "time_after = df_afterCOVID.groupby(['idunplug_station', 'idplug_station'])[\"travel_time\"].mean().reset_index()\n",
    "df_after = pd.merge(comb_after, time_after, on=[\"idunplug_station\", \"idplug_station\"], how= 'left')"
   ]
  },
  {
   "cell_type": "code",
   "execution_count": 57,
   "metadata": {},
   "outputs": [
    {
     "name": "stdout",
     "output_type": "stream",
     "text": [
      "1269.1396138658324\n",
      "10.533551828903615\n"
     ]
    }
   ],
   "source": [
    "# Tiempo medio y numero medio de viajes DESPUÉS de la crisis\n",
    "print(df_after.travel_time.mean())\n",
    "print(df_after._id.mean())\n",
    "# Con la crisis sanitaria el número medio de viajes por combinación se reduce significativamente y el tiempo medio del trayecto\n",
    "# se incrementa."
   ]
  },
  {
   "cell_type": "code",
   "execution_count": 58,
   "metadata": {},
   "outputs": [],
   "source": [
    "df_after = df_after.rename(columns={\"_id\":\"num_movimientos\"})"
   ]
  },
  {
   "cell_type": "code",
   "execution_count": 59,
   "metadata": {},
   "outputs": [
    {
     "data": {
      "image/png": "[encoded data removed]",
      "text/plain": [
       "<Figure size 864x432 with 1 Axes>"
      ]
     },
     "metadata": {
      "needs_background": "light"
     },
     "output_type": "display_data"
    }
   ],
   "source": [
    "# Gráfico de las combinaciones por número de viajes y tiempo medio de DESPUÉS DEL COMIENZO DE LA CRISIS\n",
    "sns.relplot(data=df_after, x=\"num_movimientos\", y=\"travel_time\", kind=\"scatter\", color=\"red\", height=6, aspect=2)\n",
    "plt.show()"
   ]
  },
  {
   "cell_type": "code",
   "execution_count": 60,
   "metadata": {
    "scrolled": true
   },
   "outputs": [
    {
     "name": "stderr",
     "output_type": "stream",
     "text": [
      "C:\\Users\\adria\\Anaconda3\\lib\\site-packages\\pandas\\plotting\\_matplotlib\\converter.py:103: FutureWarning: Using an implicitly registered datetime converter for a matplotlib plotting method. The converter was registered by pandas on import. Future versions of pandas will require you to explicitly register matplotlib converters.\n",
      "\n",
      "To register the converters:\n",
      "\t>>> from pandas.plotting import register_matplotlib_converters\n",
      "\t>>> register_matplotlib_converters()\n",
      "  warnings.warn(msg, FutureWarning)\n"
     ]
    },
    {
     "data": {
      "image/png": "[encoded data removed]",
      "text/plain": [
       "<Figure size 432x288 with 1 Axes>"
      ]
     },
     "metadata": {
      "needs_background": "light"
     },
     "output_type": "display_data"
    }
   ],
   "source": [
    "# Evolución del número de viajes (total usuario)\n",
    "df_Uso1.time.hist(bins=20)\n",
    "plt.show()"
   ]
  },
  {
   "cell_type": "code",
   "execution_count": 61,
   "metadata": {},
   "outputs": [
    {
     "data": {
      "text/plain": [
       "1    4632943\n",
       "2      50955\n",
       "Name: user_type, dtype: int64"
      ]
     },
     "execution_count": 61,
     "metadata": {},
     "output_type": "execute_result"
    }
   ],
   "source": [
    "# Volumen de movimientos realizado por los usuarios generales (user1) y los usuarios puntuales (user2)\n",
    "df_Uso1.user_type.value_counts()"
   ]
  },
  {
   "cell_type": "code",
   "execution_count": 62,
   "metadata": {},
   "outputs": [
    {
     "data": {
      "image/png": "[encoded data removed]",
      "text/plain": [
       "<Figure size 432x288 with 1 Axes>"
      ]
     },
     "metadata": {
      "needs_background": "light"
     },
     "output_type": "display_data"
    }
   ],
   "source": [
    "# Evolución del número de viajes de usuario OCASIONALES\n",
    "df_Uso1[df_Uso1[\"user_type\"]==2][\"time\"].hist(color='orange', bins=20)\n",
    "plt.show()\n",
    "# Bastantes viajes de usuarios puntuales en la primera quincena de Junio 2020"
   ]
  },
  {
   "cell_type": "code",
   "execution_count": 63,
   "metadata": {},
   "outputs": [
    {
     "data": {
      "text/plain": [
       "<matplotlib.axes._subplots.AxesSubplot at 0x1cf4b85de88>"
      ]
     },
     "execution_count": 63,
     "metadata": {},
     "output_type": "execute_result"
    },
    {
     "data": {
      "image/png": "[encoded data removed]",
      "text/plain": [
       "<Figure size 432x288 with 1 Axes>"
      ]
     },
     "metadata": {
      "needs_background": "light"
     },
     "output_type": "display_data"
    }
   ],
   "source": [
    "sns.countplot(df_Uso1.month, color = 'red')"
   ]
  },
  {
   "cell_type": "code",
   "execution_count": 64,
   "metadata": {
    "scrolled": true
   },
   "outputs": [
    {
     "data": {
      "text/plain": [
       "<matplotlib.axes._subplots.AxesSubplot at 0x1cf4b85dfc8>"
      ]
     },
     "execution_count": 64,
     "metadata": {},
     "output_type": "execute_result"
    },
    {
     "data": {
      "image/png": "[encoded data removed]",
      "text/plain": [
       "<Figure size 432x288 with 1 Axes>"
      ]
     },
     "metadata": {
      "needs_background": "light"
     },
     "output_type": "display_data"
    }
   ],
   "source": [
    "# Day of the week\n",
    "# 0 Monday\n",
    "# 1 Tuesday\n",
    "# 2 Wednesday\n",
    "# 3 Thursday\n",
    "# 4 Friday\n",
    "# 5 Saturday\n",
    "# 6 Sunday\n",
    "sns.countplot(df_Uso1.wday, color = 'purple')"
   ]
  },
  {
   "cell_type": "code",
   "execution_count": 65,
   "metadata": {
    "scrolled": true
   },
   "outputs": [
    {
     "data": {
      "text/plain": [
       "<matplotlib.axes._subplots.AxesSubplot at 0x1cf4b7df708>"
      ]
     },
     "execution_count": 65,
     "metadata": {},
     "output_type": "execute_result"
    },
    {
     "data": {
      "image/png": "[encoded data removed]",
      "text/plain": [
       "<Figure size 432x288 with 1 Axes>"
      ]
     },
     "metadata": {
      "needs_background": "light"
     },
     "output_type": "display_data"
    }
   ],
   "source": [
    "sns.countplot(df_Uso1.day, color = 'blue')"
   ]
  },
  {
   "cell_type": "code",
   "execution_count": 66,
   "metadata": {},
   "outputs": [
    {
     "data": {
      "text/plain": [
       "<matplotlib.axes._subplots.AxesSubplot at 0x1cf4b7eef88>"
      ]
     },
     "execution_count": 66,
     "metadata": {},
     "output_type": "execute_result"
    },
    {
     "data": {
      "image/png": "[encoded data removed]",
      "text/plain": [
       "<Figure size 432x288 with 1 Axes>"
      ]
     },
     "metadata": {
      "needs_background": "light"
     },
     "output_type": "display_data"
    }
   ],
   "source": [
    "sns.countplot(df_Uso1.hour, color = 'green')"
   ]
  },
  {
   "cell_type": "code",
   "execution_count": 67,
   "metadata": {
    "scrolled": true
   },
   "outputs": [
    {
     "data": {
      "text/plain": [
       "<matplotlib.axes._subplots.AxesSubplot at 0x1cf4b6fe7c8>"
      ]
     },
     "execution_count": 67,
     "metadata": {},
     "output_type": "execute_result"
    },
    {
     "data": {
      "image/png": "[encoded data removed]",
      "text/plain": [
       "<Figure size 432x288 with 1 Axes>"
      ]
     },
     "metadata": {
      "needs_background": "light"
     },
     "output_type": "display_data"
    }
   ],
   "source": [
    "sns.distplot(df_Uso1.travel_time)"
   ]
  },
  {
   "cell_type": "code",
   "execution_count": 68,
   "metadata": {},
   "outputs": [],
   "source": [
    "# Voy a crear la tabla para las predicciones\n",
    "df = df_Uso1[ [\"_id\",  \"time\", \"idunplug_station\"]]"
   ]
  },
  {
   "cell_type": "code",
   "execution_count": 69,
   "metadata": {},
   "outputs": [],
   "source": [
    "# La agrupo por hora y estacion (con el \"idunplug_station\")\n",
    "data = df.groupby(['time', 'idunplug_station']).count().reset_index()"
   ]
  },
  {
   "cell_type": "code",
   "execution_count": 70,
   "metadata": {},
   "outputs": [
    {
     "data": {
      "text/html": [
       "<div>\n",
       "<style scoped>\n",
       "    .dataframe tbody tr th:only-of-type {\n",
       "        vertical-align: middle;\n",
       "    }\n",
       "\n",
       "    .dataframe tbody tr th {\n",
       "        vertical-align: top;\n",
       "    }\n",
       "\n",
       "    .dataframe thead th {\n",
       "        text-align: right;\n",
       "    }\n",
       "</style>\n",
       "<table border=\"1\" class=\"dataframe\">\n",
       "  <thead>\n",
       "    <tr style=\"text-align: right;\">\n",
       "      <th></th>\n",
       "      <th>time</th>\n",
       "      <th>idunplug_station</th>\n",
       "      <th>_id</th>\n",
       "    </tr>\n",
       "  </thead>\n",
       "  <tbody>\n",
       "    <tr>\n",
       "      <td>0</td>\n",
       "      <td>2019-01-01 00:00:00+00:00</td>\n",
       "      <td>3</td>\n",
       "      <td>1</td>\n",
       "    </tr>\n",
       "    <tr>\n",
       "      <td>1</td>\n",
       "      <td>2019-01-01 00:00:00+00:00</td>\n",
       "      <td>4</td>\n",
       "      <td>2</td>\n",
       "    </tr>\n",
       "    <tr>\n",
       "      <td>2</td>\n",
       "      <td>2019-01-01 00:00:00+00:00</td>\n",
       "      <td>9</td>\n",
       "      <td>2</td>\n",
       "    </tr>\n",
       "    <tr>\n",
       "      <td>3</td>\n",
       "      <td>2019-01-01 00:00:00+00:00</td>\n",
       "      <td>13</td>\n",
       "      <td>1</td>\n",
       "    </tr>\n",
       "    <tr>\n",
       "      <td>4</td>\n",
       "      <td>2019-01-01 00:00:00+00:00</td>\n",
       "      <td>17</td>\n",
       "      <td>2</td>\n",
       "    </tr>\n",
       "    <tr>\n",
       "      <td>...</td>\n",
       "      <td>...</td>\n",
       "      <td>...</td>\n",
       "      <td>...</td>\n",
       "    </tr>\n",
       "    <tr>\n",
       "      <td>1382621</td>\n",
       "      <td>2020-06-15 21:00:00+00:00</td>\n",
       "      <td>206</td>\n",
       "      <td>3</td>\n",
       "    </tr>\n",
       "    <tr>\n",
       "      <td>1382622</td>\n",
       "      <td>2020-06-15 21:00:00+00:00</td>\n",
       "      <td>207</td>\n",
       "      <td>1</td>\n",
       "    </tr>\n",
       "    <tr>\n",
       "      <td>1382623</td>\n",
       "      <td>2020-06-15 21:00:00+00:00</td>\n",
       "      <td>211</td>\n",
       "      <td>1</td>\n",
       "    </tr>\n",
       "    <tr>\n",
       "      <td>1382624</td>\n",
       "      <td>2020-06-15 21:00:00+00:00</td>\n",
       "      <td>213</td>\n",
       "      <td>3</td>\n",
       "    </tr>\n",
       "    <tr>\n",
       "      <td>1382625</td>\n",
       "      <td>2020-06-15 21:00:00+00:00</td>\n",
       "      <td>216</td>\n",
       "      <td>1</td>\n",
       "    </tr>\n",
       "  </tbody>\n",
       "</table>\n",
       "<p>1382626 rows × 3 columns</p>\n",
       "</div>"
      ],
      "text/plain": [
       "                             time  idunplug_station  _id\n",
       "0       2019-01-01 00:00:00+00:00                 3    1\n",
       "1       2019-01-01 00:00:00+00:00                 4    2\n",
       "2       2019-01-01 00:00:00+00:00                 9    2\n",
       "3       2019-01-01 00:00:00+00:00                13    1\n",
       "4       2019-01-01 00:00:00+00:00                17    2\n",
       "...                           ...               ...  ...\n",
       "1382621 2020-06-15 21:00:00+00:00               206    3\n",
       "1382622 2020-06-15 21:00:00+00:00               207    1\n",
       "1382623 2020-06-15 21:00:00+00:00               211    1\n",
       "1382624 2020-06-15 21:00:00+00:00               213    3\n",
       "1382625 2020-06-15 21:00:00+00:00               216    1\n",
       "\n",
       "[1382626 rows x 3 columns]"
      ]
     },
     "execution_count": 70,
     "metadata": {},
     "output_type": "execute_result"
    }
   ],
   "source": [
    "data"
   ]
  },
  {
   "cell_type": "markdown",
   "metadata": {},
   "source": [
    "# EXPLORACIÓN DE MODELOS PREDICTIVOS DE DEMANDA"
   ]
  },
  {
   "cell_type": "code",
   "execution_count": 71,
   "metadata": {},
   "outputs": [],
   "source": [
    "# Se va a explorar la creación de modelos predictivos de la demanda, es decir, de modelos que predicen el número de\n",
    "# movimientos que se realizarán en el futuro a partir de la serie existente"
   ]
  },
  {
   "cell_type": "markdown",
   "metadata": {},
   "source": [
    "# Modelo 1"
   ]
  },
  {
   "cell_type": "code",
   "execution_count": 72,
   "metadata": {
    "scrolled": true
   },
   "outputs": [
    {
     "name": "stderr",
     "output_type": "stream",
     "text": [
      "C:\\Users\\adria\\Anaconda3\\lib\\site-packages\\numpy\\core\\fromnumeric.py:1752: FutureWarning: Converting timezone-aware DatetimeArray to timezone-naive ndarray with 'datetime64[ns]' dtype. In the future, this will return an ndarray with 'object' dtype where each element is a 'pandas.Timestamp' with the correct 'tz'.\n",
      "\tTo accept the future behavior, pass 'dtype=object'.\n",
      "\tTo keep the old behavior, pass 'dtype=\"datetime64[ns]\"'.\n",
      "  return asanyarray(a).ravel(order=order)\n"
     ]
    }
   ],
   "source": [
    "# Transformación de la variable time con LabelEncoder para el modelo\n",
    "transf = LabelEncoder()\n",
    "data.time = transf.fit_transform(data.time)"
   ]
  },
  {
   "cell_type": "code",
   "execution_count": 73,
   "metadata": {
    "scrolled": true
   },
   "outputs": [
    {
     "data": {
      "text/html": [
       "<div>\n",
       "<style scoped>\n",
       "    .dataframe tbody tr th:only-of-type {\n",
       "        vertical-align: middle;\n",
       "    }\n",
       "\n",
       "    .dataframe tbody tr th {\n",
       "        vertical-align: top;\n",
       "    }\n",
       "\n",
       "    .dataframe thead th {\n",
       "        text-align: right;\n",
       "    }\n",
       "</style>\n",
       "<table border=\"1\" class=\"dataframe\">\n",
       "  <thead>\n",
       "    <tr style=\"text-align: right;\">\n",
       "      <th></th>\n",
       "      <th>time</th>\n",
       "      <th>idunplug_station</th>\n",
       "      <th>_id</th>\n",
       "    </tr>\n",
       "  </thead>\n",
       "  <tbody>\n",
       "    <tr>\n",
       "      <td>0</td>\n",
       "      <td>0</td>\n",
       "      <td>3</td>\n",
       "      <td>1</td>\n",
       "    </tr>\n",
       "    <tr>\n",
       "      <td>1</td>\n",
       "      <td>0</td>\n",
       "      <td>4</td>\n",
       "      <td>2</td>\n",
       "    </tr>\n",
       "    <tr>\n",
       "      <td>2</td>\n",
       "      <td>0</td>\n",
       "      <td>9</td>\n",
       "      <td>2</td>\n",
       "    </tr>\n",
       "    <tr>\n",
       "      <td>3</td>\n",
       "      <td>0</td>\n",
       "      <td>13</td>\n",
       "      <td>1</td>\n",
       "    </tr>\n",
       "    <tr>\n",
       "      <td>4</td>\n",
       "      <td>0</td>\n",
       "      <td>17</td>\n",
       "      <td>2</td>\n",
       "    </tr>\n",
       "  </tbody>\n",
       "</table>\n",
       "</div>"
      ],
      "text/plain": [
       "   time  idunplug_station  _id\n",
       "0     0                 3    1\n",
       "1     0                 4    2\n",
       "2     0                 9    2\n",
       "3     0                13    1\n",
       "4     0                17    2"
      ]
     },
     "execution_count": 73,
     "metadata": {},
     "output_type": "execute_result"
    }
   ],
   "source": [
    "data.head()"
   ]
  },
  {
   "cell_type": "code",
   "execution_count": 74,
   "metadata": {},
   "outputs": [
    {
     "data": {
      "text/plain": [
       "(1382626, 3)"
      ]
     },
     "execution_count": 74,
     "metadata": {},
     "output_type": "execute_result"
    }
   ],
   "source": [
    "data.shape"
   ]
  },
  {
   "cell_type": "code",
   "execution_count": 75,
   "metadata": {},
   "outputs": [],
   "source": [
    "# Libreías\n",
    "from sklearn.pipeline import Pipeline\n",
    "from sklearn.model_selection import train_test_split\n",
    "from sklearn.linear_model import LinearRegression\n",
    "from sklearn.preprocessing import StandardScaler\n",
    "from xgboost import XGBClassifier\n",
    "from sklearn.ensemble import GradientBoostingRegressor\n",
    "from sklearn.feature_selection import SelectFromModel\n",
    "from sklearn.metrics import r2_score\n",
    "from sklearn.metrics import classification_report"
   ]
  },
  {
   "cell_type": "code",
   "execution_count": 76,
   "metadata": {},
   "outputs": [],
   "source": [
    "# La variable a predecir será el número de movimientos que en este caso se llama \"_id\", que corresponde con la cuenta\n",
    "# de movimientos únicos registrados en el período correspondiente, ya sea por día, mes, etc.\n",
    "X = data.drop(columns='_id').values\n",
    "y = data._id.values"
   ]
  },
  {
   "cell_type": "code",
   "execution_count": 77,
   "metadata": {},
   "outputs": [],
   "source": [
    "# Train test split\n",
    "X_train, X_test, y_train, y_test = train_test_split(X, y , test_size=0.4, random_state=21)"
   ]
  },
  {
   "cell_type": "code",
   "execution_count": 78,
   "metadata": {},
   "outputs": [],
   "source": [
    "# Se utiliza la estandarización de los datos (StandarScaler) y el regresor GradientBoostingRegressor\n",
    "steps = [('scaler', StandardScaler()),\n",
    "        ('xgb', GradientBoostingRegressor(n_estimators=100))]\n",
    "pipeline = Pipeline(steps)\n",
    "model = pipeline.fit(X_train, y_train)\n",
    "y_pred = model.predict(X_test)"
   ]
  },
  {
   "cell_type": "code",
   "execution_count": 79,
   "metadata": {},
   "outputs": [
    {
     "data": {
      "text/plain": [
       "0.12968201098703835"
      ]
     },
     "execution_count": 79,
     "metadata": {},
     "output_type": "execute_result"
    }
   ],
   "source": [
    "u = ((y_test - y_pred)**2).sum() \n",
    "v = ((y_test - y_test.mean()) ** 2).sum()\n",
    "R2 = (1 - u/v)\n",
    "R2\n",
    "# Sale un resultado bastante pobre"
   ]
  },
  {
   "cell_type": "code",
   "execution_count": 80,
   "metadata": {},
   "outputs": [
    {
     "data": {
      "text/plain": [
       "0.12968201098703835"
      ]
     },
     "execution_count": 80,
     "metadata": {},
     "output_type": "execute_result"
    }
   ],
   "source": [
    "# Con la métrica de scikit learn r2_score (simplemente para comprobar que da el mismo resultado)\n",
    "r2_score(y_test, y_pred)"
   ]
  },
  {
   "cell_type": "markdown",
   "metadata": {},
   "source": [
    "# Modelo 2"
   ]
  },
  {
   "cell_type": "code",
   "execution_count": 81,
   "metadata": {},
   "outputs": [],
   "source": [
    "# A continuación se explora con otro modelo para predecir el número de movimientos en el futuro por estación de origen,\n",
    "# es decir, el número de salidas que se producirán por cada estación de origen.\n",
    "# Además, se incorporarán variables externas que influyen de manera importante en la demanda del servicio, como son las\n",
    "# temperaturas mínima y máxima de cada día"
   ]
  },
  {
   "cell_type": "code",
   "execution_count": 128,
   "metadata": {},
   "outputs": [
    {
     "name": "stderr",
     "output_type": "stream",
     "text": [
      "C:\\Users\\adria\\Anaconda3\\lib\\site-packages\\ipykernel_launcher.py:3: SettingWithCopyWarning: \n",
      "A value is trying to be set on a copy of a slice from a DataFrame.\n",
      "Try using .loc[row_indexer,col_indexer] = value instead\n",
      "\n",
      "See the caveats in the documentation: http://pandas.pydata.org/pandas-docs/stable/user_guide/indexing.html#returning-a-view-versus-a-copy\n",
      "  This is separate from the ipykernel package so we can avoid doing imports until\n"
     ]
    },
    {
     "data": {
      "text/html": [
       "<div>\n",
       "<style scoped>\n",
       "    .dataframe tbody tr th:only-of-type {\n",
       "        vertical-align: middle;\n",
       "    }\n",
       "\n",
       "    .dataframe tbody tr th {\n",
       "        vertical-align: top;\n",
       "    }\n",
       "\n",
       "    .dataframe thead th {\n",
       "        text-align: right;\n",
       "    }\n",
       "</style>\n",
       "<table border=\"1\" class=\"dataframe\">\n",
       "  <thead>\n",
       "    <tr style=\"text-align: right;\">\n",
       "      <th></th>\n",
       "      <th>_id</th>\n",
       "      <th>time</th>\n",
       "      <th>day</th>\n",
       "      <th>month</th>\n",
       "      <th>year</th>\n",
       "      <th>idunplug_station</th>\n",
       "    </tr>\n",
       "  </thead>\n",
       "  <tbody>\n",
       "    <tr>\n",
       "      <td>0</td>\n",
       "      <td>0</td>\n",
       "      <td>2019-01-01 00:00:00+00:00</td>\n",
       "      <td>1</td>\n",
       "      <td>1</td>\n",
       "      <td>2019</td>\n",
       "      <td>82</td>\n",
       "    </tr>\n",
       "    <tr>\n",
       "      <td>1</td>\n",
       "      <td>1</td>\n",
       "      <td>2019-01-01 00:00:00+00:00</td>\n",
       "      <td>1</td>\n",
       "      <td>1</td>\n",
       "      <td>2019</td>\n",
       "      <td>133</td>\n",
       "    </tr>\n",
       "    <tr>\n",
       "      <td>2</td>\n",
       "      <td>2</td>\n",
       "      <td>2019-01-01 00:00:00+00:00</td>\n",
       "      <td>1</td>\n",
       "      <td>1</td>\n",
       "      <td>2019</td>\n",
       "      <td>25</td>\n",
       "    </tr>\n",
       "    <tr>\n",
       "      <td>3</td>\n",
       "      <td>3</td>\n",
       "      <td>2019-01-01 00:00:00+00:00</td>\n",
       "      <td>1</td>\n",
       "      <td>1</td>\n",
       "      <td>2019</td>\n",
       "      <td>51</td>\n",
       "    </tr>\n",
       "    <tr>\n",
       "      <td>4</td>\n",
       "      <td>4</td>\n",
       "      <td>2019-01-01 00:00:00+00:00</td>\n",
       "      <td>1</td>\n",
       "      <td>1</td>\n",
       "      <td>2019</td>\n",
       "      <td>44</td>\n",
       "    </tr>\n",
       "  </tbody>\n",
       "</table>\n",
       "</div>"
      ],
      "text/plain": [
       "   _id                      time  day  month  year  idunplug_station\n",
       "0    0 2019-01-01 00:00:00+00:00    1      1  2019                82\n",
       "1    1 2019-01-01 00:00:00+00:00    1      1  2019               133\n",
       "2    2 2019-01-01 00:00:00+00:00    1      1  2019                25\n",
       "3    3 2019-01-01 00:00:00+00:00    1      1  2019                51\n",
       "4    4 2019-01-01 00:00:00+00:00    1      1  2019                44"
      ]
     },
     "execution_count": 128,
     "metadata": {},
     "output_type": "execute_result"
    }
   ],
   "source": [
    "# Voy a crear la tabla para las predicciones\n",
    "df2 = df_Uso1[[\"_id\", \"time\", \"day\", \"month\", \"year\", \"idunplug_station\"]]\n",
    "df2[\"time\"] = pd.to_datetime(df2[\"time\"])\n",
    "df2.head()"
   ]
  },
  {
   "cell_type": "code",
   "execution_count": 123,
   "metadata": {},
   "outputs": [
    {
     "name": "stderr",
     "output_type": "stream",
     "text": [
      "C:\\Users\\adria\\Anaconda3\\lib\\site-packages\\ipykernel_launcher.py:1: SettingWithCopyWarning: \n",
      "A value is trying to be set on a copy of a slice from a DataFrame.\n",
      "Try using .loc[row_indexer,col_indexer] = value instead\n",
      "\n",
      "See the caveats in the documentation: http://pandas.pydata.org/pandas-docs/stable/user_guide/indexing.html#returning-a-view-versus-a-copy\n",
      "  \"\"\"Entry point for launching an IPython kernel.\n"
     ]
    },
    {
     "data": {
      "text/html": [
       "<div>\n",
       "<style scoped>\n",
       "    .dataframe tbody tr th:only-of-type {\n",
       "        vertical-align: middle;\n",
       "    }\n",
       "\n",
       "    .dataframe tbody tr th {\n",
       "        vertical-align: top;\n",
       "    }\n",
       "\n",
       "    .dataframe thead th {\n",
       "        text-align: right;\n",
       "    }\n",
       "</style>\n",
       "<table border=\"1\" class=\"dataframe\">\n",
       "  <thead>\n",
       "    <tr style=\"text-align: right;\">\n",
       "      <th></th>\n",
       "      <th>_id</th>\n",
       "      <th>time</th>\n",
       "      <th>day</th>\n",
       "      <th>month</th>\n",
       "      <th>year</th>\n",
       "      <th>idunplug_station</th>\n",
       "      <th>date</th>\n",
       "    </tr>\n",
       "  </thead>\n",
       "  <tbody>\n",
       "    <tr>\n",
       "      <td>0</td>\n",
       "      <td>0</td>\n",
       "      <td>2019-01-01 00:00:00+00:00</td>\n",
       "      <td>1</td>\n",
       "      <td>1</td>\n",
       "      <td>2019</td>\n",
       "      <td>82</td>\n",
       "      <td>1-1-2019</td>\n",
       "    </tr>\n",
       "    <tr>\n",
       "      <td>1</td>\n",
       "      <td>1</td>\n",
       "      <td>2019-01-01 00:00:00+00:00</td>\n",
       "      <td>1</td>\n",
       "      <td>1</td>\n",
       "      <td>2019</td>\n",
       "      <td>133</td>\n",
       "      <td>1-1-2019</td>\n",
       "    </tr>\n",
       "    <tr>\n",
       "      <td>2</td>\n",
       "      <td>2</td>\n",
       "      <td>2019-01-01 00:00:00+00:00</td>\n",
       "      <td>1</td>\n",
       "      <td>1</td>\n",
       "      <td>2019</td>\n",
       "      <td>25</td>\n",
       "      <td>1-1-2019</td>\n",
       "    </tr>\n",
       "    <tr>\n",
       "      <td>3</td>\n",
       "      <td>3</td>\n",
       "      <td>2019-01-01 00:00:00+00:00</td>\n",
       "      <td>1</td>\n",
       "      <td>1</td>\n",
       "      <td>2019</td>\n",
       "      <td>51</td>\n",
       "      <td>1-1-2019</td>\n",
       "    </tr>\n",
       "    <tr>\n",
       "      <td>4</td>\n",
       "      <td>4</td>\n",
       "      <td>2019-01-01 00:00:00+00:00</td>\n",
       "      <td>1</td>\n",
       "      <td>1</td>\n",
       "      <td>2019</td>\n",
       "      <td>44</td>\n",
       "      <td>1-1-2019</td>\n",
       "    </tr>\n",
       "  </tbody>\n",
       "</table>\n",
       "</div>"
      ],
      "text/plain": [
       "   _id                      time  day  month  year  idunplug_station      date\n",
       "0    0 2019-01-01 00:00:00+00:00    1      1  2019                82  1-1-2019\n",
       "1    1 2019-01-01 00:00:00+00:00    1      1  2019               133  1-1-2019\n",
       "2    2 2019-01-01 00:00:00+00:00    1      1  2019                25  1-1-2019\n",
       "3    3 2019-01-01 00:00:00+00:00    1      1  2019                51  1-1-2019\n",
       "4    4 2019-01-01 00:00:00+00:00    1      1  2019                44  1-1-2019"
      ]
     },
     "execution_count": 123,
     "metadata": {},
     "output_type": "execute_result"
    }
   ],
   "source": [
    "df2[\"date\"] = df2[\"day\"].map(str) + '-' + df2[\"month\"].map(str) + '-' + df2[\"year\"].map(str)\n",
    "df2.head()"
   ]
  },
  {
   "cell_type": "code",
   "execution_count": 124,
   "metadata": {},
   "outputs": [
    {
     "data": {
      "text/html": [
       "<div>\n",
       "<style scoped>\n",
       "    .dataframe tbody tr th:only-of-type {\n",
       "        vertical-align: middle;\n",
       "    }\n",
       "\n",
       "    .dataframe tbody tr th {\n",
       "        vertical-align: top;\n",
       "    }\n",
       "\n",
       "    .dataframe thead th {\n",
       "        text-align: right;\n",
       "    }\n",
       "</style>\n",
       "<table border=\"1\" class=\"dataframe\">\n",
       "  <thead>\n",
       "    <tr style=\"text-align: right;\">\n",
       "      <th></th>\n",
       "      <th>date</th>\n",
       "      <th>idunplug_station</th>\n",
       "      <th>_id</th>\n",
       "      <th>time</th>\n",
       "      <th>day</th>\n",
       "      <th>month</th>\n",
       "      <th>year</th>\n",
       "    </tr>\n",
       "  </thead>\n",
       "  <tbody>\n",
       "    <tr>\n",
       "      <td>0</td>\n",
       "      <td>1-1-2019</td>\n",
       "      <td>1</td>\n",
       "      <td>21</td>\n",
       "      <td>21</td>\n",
       "      <td>21</td>\n",
       "      <td>21</td>\n",
       "      <td>21</td>\n",
       "    </tr>\n",
       "    <tr>\n",
       "      <td>1</td>\n",
       "      <td>1-1-2019</td>\n",
       "      <td>2</td>\n",
       "      <td>6</td>\n",
       "      <td>6</td>\n",
       "      <td>6</td>\n",
       "      <td>6</td>\n",
       "      <td>6</td>\n",
       "    </tr>\n",
       "    <tr>\n",
       "      <td>2</td>\n",
       "      <td>1-1-2019</td>\n",
       "      <td>3</td>\n",
       "      <td>23</td>\n",
       "      <td>23</td>\n",
       "      <td>23</td>\n",
       "      <td>23</td>\n",
       "      <td>23</td>\n",
       "    </tr>\n",
       "    <tr>\n",
       "      <td>3</td>\n",
       "      <td>1-1-2019</td>\n",
       "      <td>4</td>\n",
       "      <td>14</td>\n",
       "      <td>14</td>\n",
       "      <td>14</td>\n",
       "      <td>14</td>\n",
       "      <td>14</td>\n",
       "    </tr>\n",
       "    <tr>\n",
       "      <td>4</td>\n",
       "      <td>1-1-2019</td>\n",
       "      <td>5</td>\n",
       "      <td>18</td>\n",
       "      <td>18</td>\n",
       "      <td>18</td>\n",
       "      <td>18</td>\n",
       "      <td>18</td>\n",
       "    </tr>\n",
       "  </tbody>\n",
       "</table>\n",
       "</div>"
      ],
      "text/plain": [
       "       date  idunplug_station  _id  time  day  month  year\n",
       "0  1-1-2019                 1   21    21   21     21    21\n",
       "1  1-1-2019                 2    6     6    6      6     6\n",
       "2  1-1-2019                 3   23    23   23     23    23\n",
       "3  1-1-2019                 4   14    14   14     14    14\n",
       "4  1-1-2019                 5   18    18   18     18    18"
      ]
     },
     "execution_count": 124,
     "metadata": {},
     "output_type": "execute_result"
    }
   ],
   "source": [
    "# La agrupo por dia y estacion (con el \"idunplug_station\")\n",
    "data2 = df2.groupby([\"date\", \"idunplug_station\"]).count().reset_index()\n",
    "data2.head()"
   ]
  },
  {
   "cell_type": "code",
   "execution_count": 125,
   "metadata": {
    "scrolled": false
   },
   "outputs": [
    {
     "data": {
      "text/html": [
       "<div>\n",
       "<style scoped>\n",
       "    .dataframe tbody tr th:only-of-type {\n",
       "        vertical-align: middle;\n",
       "    }\n",
       "\n",
       "    .dataframe tbody tr th {\n",
       "        vertical-align: top;\n",
       "    }\n",
       "\n",
       "    .dataframe thead th {\n",
       "        text-align: right;\n",
       "    }\n",
       "</style>\n",
       "<table border=\"1\" class=\"dataframe\">\n",
       "  <thead>\n",
       "    <tr style=\"text-align: right;\">\n",
       "      <th></th>\n",
       "      <th>date</th>\n",
       "      <th>idunplug_station</th>\n",
       "      <th>_id</th>\n",
       "    </tr>\n",
       "  </thead>\n",
       "  <tbody>\n",
       "    <tr>\n",
       "      <td>0</td>\n",
       "      <td>1-1-2019</td>\n",
       "      <td>1</td>\n",
       "      <td>21</td>\n",
       "    </tr>\n",
       "    <tr>\n",
       "      <td>1</td>\n",
       "      <td>1-1-2019</td>\n",
       "      <td>2</td>\n",
       "      <td>6</td>\n",
       "    </tr>\n",
       "    <tr>\n",
       "      <td>2</td>\n",
       "      <td>1-1-2019</td>\n",
       "      <td>3</td>\n",
       "      <td>23</td>\n",
       "    </tr>\n",
       "    <tr>\n",
       "      <td>3</td>\n",
       "      <td>1-1-2019</td>\n",
       "      <td>4</td>\n",
       "      <td>14</td>\n",
       "    </tr>\n",
       "    <tr>\n",
       "      <td>4</td>\n",
       "      <td>1-1-2019</td>\n",
       "      <td>5</td>\n",
       "      <td>18</td>\n",
       "    </tr>\n",
       "  </tbody>\n",
       "</table>\n",
       "</div>"
      ],
      "text/plain": [
       "       date  idunplug_station  _id\n",
       "0  1-1-2019                 1   21\n",
       "1  1-1-2019                 2    6\n",
       "2  1-1-2019                 3   23\n",
       "3  1-1-2019                 4   14\n",
       "4  1-1-2019                 5   18"
      ]
     },
     "execution_count": 125,
     "metadata": {},
     "output_type": "execute_result"
    }
   ],
   "source": [
    "data_inicial = data2[[\"date\", \"idunplug_station\", \"_id\"]]\n",
    "data_inicial.head()"
   ]
  },
  {
   "cell_type": "code",
   "execution_count": 126,
   "metadata": {
    "scrolled": true
   },
   "outputs": [
    {
     "data": {
      "text/html": [
       "<div>\n",
       "<style scoped>\n",
       "    .dataframe tbody tr th:only-of-type {\n",
       "        vertical-align: middle;\n",
       "    }\n",
       "\n",
       "    .dataframe tbody tr th {\n",
       "        vertical-align: top;\n",
       "    }\n",
       "\n",
       "    .dataframe thead th {\n",
       "        text-align: right;\n",
       "    }\n",
       "</style>\n",
       "<table border=\"1\" class=\"dataframe\">\n",
       "  <thead>\n",
       "    <tr style=\"text-align: right;\">\n",
       "      <th></th>\n",
       "      <th>time</th>\n",
       "      <th>T. Maxima</th>\n",
       "      <th>T.Minima</th>\n",
       "    </tr>\n",
       "  </thead>\n",
       "  <tbody>\n",
       "    <tr>\n",
       "      <td>0</td>\n",
       "      <td>2019-01-01 00:00:00+00:00</td>\n",
       "      <td>11.7</td>\n",
       "      <td>1.4</td>\n",
       "    </tr>\n",
       "    <tr>\n",
       "      <td>1</td>\n",
       "      <td>2019-01-02 00:00:00+00:00</td>\n",
       "      <td>11.7</td>\n",
       "      <td>0.4</td>\n",
       "    </tr>\n",
       "    <tr>\n",
       "      <td>2</td>\n",
       "      <td>2019-01-03 00:00:00+00:00</td>\n",
       "      <td>11.8</td>\n",
       "      <td>2.8</td>\n",
       "    </tr>\n",
       "    <tr>\n",
       "      <td>3</td>\n",
       "      <td>2019-01-04 00:00:00+00:00</td>\n",
       "      <td>11.4</td>\n",
       "      <td>0.4</td>\n",
       "    </tr>\n",
       "    <tr>\n",
       "      <td>4</td>\n",
       "      <td>2019-01-05 00:00:00+00:00</td>\n",
       "      <td>10.8</td>\n",
       "      <td>-0.1</td>\n",
       "    </tr>\n",
       "  </tbody>\n",
       "</table>\n",
       "</div>"
      ],
      "text/plain": [
       "                       time  T. Maxima  T.Minima\n",
       "0 2019-01-01 00:00:00+00:00       11.7       1.4\n",
       "1 2019-01-02 00:00:00+00:00       11.7       0.4\n",
       "2 2019-01-03 00:00:00+00:00       11.8       2.8\n",
       "3 2019-01-04 00:00:00+00:00       11.4       0.4\n",
       "4 2019-01-05 00:00:00+00:00       10.8      -0.1"
      ]
     },
     "execution_count": 126,
     "metadata": {},
     "output_type": "execute_result"
    }
   ],
   "source": [
    "# Importo los datos de temperatura\n",
    "clima = pd.read_csv('C:/Users/adria/Documents/TFM/Adrian/Temp_media_dia_datosclima.es.csv', sep=';')\n",
    "clima['time'] = pd.to_datetime(clima['time'], format=\"%Y/%m/%d\", utc=True)\n",
    "clima.head()"
   ]
  },
  {
   "cell_type": "code",
   "execution_count": 87,
   "metadata": {},
   "outputs": [
    {
     "name": "stdout",
     "output_type": "stream",
     "text": [
      "2019-01-01 00:00:00+00:00\n",
      "2020-06-15 00:00:00+00:00\n"
     ]
    }
   ],
   "source": [
    "# Compruebo que el rango temporal es igual al de Bicimad\n",
    "print(clima.time.min())\n",
    "print(clima.time.max())"
   ]
  },
  {
   "cell_type": "code",
   "execution_count": 88,
   "metadata": {},
   "outputs": [
    {
     "data": {
      "text/html": [
       "<div>\n",
       "<style scoped>\n",
       "    .dataframe tbody tr th:only-of-type {\n",
       "        vertical-align: middle;\n",
       "    }\n",
       "\n",
       "    .dataframe tbody tr th {\n",
       "        vertical-align: top;\n",
       "    }\n",
       "\n",
       "    .dataframe thead th {\n",
       "        text-align: right;\n",
       "    }\n",
       "</style>\n",
       "<table border=\"1\" class=\"dataframe\">\n",
       "  <thead>\n",
       "    <tr style=\"text-align: right;\">\n",
       "      <th></th>\n",
       "      <th>time</th>\n",
       "      <th>T. Maxima</th>\n",
       "      <th>T.Minima</th>\n",
       "      <th>day</th>\n",
       "      <th>month</th>\n",
       "      <th>year</th>\n",
       "      <th>date</th>\n",
       "    </tr>\n",
       "  </thead>\n",
       "  <tbody>\n",
       "    <tr>\n",
       "      <td>0</td>\n",
       "      <td>2019-01-01 00:00:00+00:00</td>\n",
       "      <td>11.7</td>\n",
       "      <td>1.4</td>\n",
       "      <td>1</td>\n",
       "      <td>1</td>\n",
       "      <td>2019</td>\n",
       "      <td>1-1-2019</td>\n",
       "    </tr>\n",
       "    <tr>\n",
       "      <td>1</td>\n",
       "      <td>2019-01-02 00:00:00+00:00</td>\n",
       "      <td>11.7</td>\n",
       "      <td>0.4</td>\n",
       "      <td>2</td>\n",
       "      <td>1</td>\n",
       "      <td>2019</td>\n",
       "      <td>2-1-2019</td>\n",
       "    </tr>\n",
       "    <tr>\n",
       "      <td>2</td>\n",
       "      <td>2019-01-03 00:00:00+00:00</td>\n",
       "      <td>11.8</td>\n",
       "      <td>2.8</td>\n",
       "      <td>3</td>\n",
       "      <td>1</td>\n",
       "      <td>2019</td>\n",
       "      <td>3-1-2019</td>\n",
       "    </tr>\n",
       "    <tr>\n",
       "      <td>3</td>\n",
       "      <td>2019-01-04 00:00:00+00:00</td>\n",
       "      <td>11.4</td>\n",
       "      <td>0.4</td>\n",
       "      <td>4</td>\n",
       "      <td>1</td>\n",
       "      <td>2019</td>\n",
       "      <td>4-1-2019</td>\n",
       "    </tr>\n",
       "    <tr>\n",
       "      <td>4</td>\n",
       "      <td>2019-01-05 00:00:00+00:00</td>\n",
       "      <td>10.8</td>\n",
       "      <td>-0.1</td>\n",
       "      <td>5</td>\n",
       "      <td>1</td>\n",
       "      <td>2019</td>\n",
       "      <td>5-1-2019</td>\n",
       "    </tr>\n",
       "    <tr>\n",
       "      <td>...</td>\n",
       "      <td>...</td>\n",
       "      <td>...</td>\n",
       "      <td>...</td>\n",
       "      <td>...</td>\n",
       "      <td>...</td>\n",
       "      <td>...</td>\n",
       "      <td>...</td>\n",
       "    </tr>\n",
       "    <tr>\n",
       "      <td>527</td>\n",
       "      <td>2020-06-11 00:00:00+00:00</td>\n",
       "      <td>24.0</td>\n",
       "      <td>14.2</td>\n",
       "      <td>11</td>\n",
       "      <td>6</td>\n",
       "      <td>2020</td>\n",
       "      <td>11-6-2020</td>\n",
       "    </tr>\n",
       "    <tr>\n",
       "      <td>528</td>\n",
       "      <td>2020-06-12 00:00:00+00:00</td>\n",
       "      <td>20.9</td>\n",
       "      <td>10.0</td>\n",
       "      <td>12</td>\n",
       "      <td>6</td>\n",
       "      <td>2020</td>\n",
       "      <td>12-6-2020</td>\n",
       "    </tr>\n",
       "    <tr>\n",
       "      <td>529</td>\n",
       "      <td>2020-06-13 00:00:00+00:00</td>\n",
       "      <td>23.4</td>\n",
       "      <td>10.3</td>\n",
       "      <td>13</td>\n",
       "      <td>6</td>\n",
       "      <td>2020</td>\n",
       "      <td>13-6-2020</td>\n",
       "    </tr>\n",
       "    <tr>\n",
       "      <td>530</td>\n",
       "      <td>2020-06-14 00:00:00+00:00</td>\n",
       "      <td>25.5</td>\n",
       "      <td>12.9</td>\n",
       "      <td>14</td>\n",
       "      <td>6</td>\n",
       "      <td>2020</td>\n",
       "      <td>14-6-2020</td>\n",
       "    </tr>\n",
       "    <tr>\n",
       "      <td>531</td>\n",
       "      <td>2020-06-15 00:00:00+00:00</td>\n",
       "      <td>27.0</td>\n",
       "      <td>14.1</td>\n",
       "      <td>15</td>\n",
       "      <td>6</td>\n",
       "      <td>2020</td>\n",
       "      <td>15-6-2020</td>\n",
       "    </tr>\n",
       "  </tbody>\n",
       "</table>\n",
       "<p>532 rows × 7 columns</p>\n",
       "</div>"
      ],
      "text/plain": [
       "                         time  T. Maxima  T.Minima  day  month  year  \\\n",
       "0   2019-01-01 00:00:00+00:00       11.7       1.4    1      1  2019   \n",
       "1   2019-01-02 00:00:00+00:00       11.7       0.4    2      1  2019   \n",
       "2   2019-01-03 00:00:00+00:00       11.8       2.8    3      1  2019   \n",
       "3   2019-01-04 00:00:00+00:00       11.4       0.4    4      1  2019   \n",
       "4   2019-01-05 00:00:00+00:00       10.8      -0.1    5      1  2019   \n",
       "..                        ...        ...       ...  ...    ...   ...   \n",
       "527 2020-06-11 00:00:00+00:00       24.0      14.2   11      6  2020   \n",
       "528 2020-06-12 00:00:00+00:00       20.9      10.0   12      6  2020   \n",
       "529 2020-06-13 00:00:00+00:00       23.4      10.3   13      6  2020   \n",
       "530 2020-06-14 00:00:00+00:00       25.5      12.9   14      6  2020   \n",
       "531 2020-06-15 00:00:00+00:00       27.0      14.1   15      6  2020   \n",
       "\n",
       "          date  \n",
       "0     1-1-2019  \n",
       "1     2-1-2019  \n",
       "2     3-1-2019  \n",
       "3     4-1-2019  \n",
       "4     5-1-2019  \n",
       "..         ...  \n",
       "527  11-6-2020  \n",
       "528  12-6-2020  \n",
       "529  13-6-2020  \n",
       "530  14-6-2020  \n",
       "531  15-6-2020  \n",
       "\n",
       "[532 rows x 7 columns]"
      ]
     },
     "execution_count": 88,
     "metadata": {},
     "output_type": "execute_result"
    }
   ],
   "source": [
    "clima.loc[:, 'day'] = clima.loc[:, 'time'].dt.day\n",
    "clima.loc[:, 'month'] = clima.loc[:, 'time'].dt.month\n",
    "clima.loc[:, 'year'] = clima.loc[:, 'time'].dt.year\n",
    "clima.loc[:, 'date'] = clima.loc[:, 'day'].map(str) + '-' + clima.loc[:, 'month'].map(str) + '-' + clima.loc[:, 'year'].map(str)\n",
    "clima"
   ]
  },
  {
   "cell_type": "code",
   "execution_count": 89,
   "metadata": {},
   "outputs": [],
   "source": [
    "data_full = pd.merge(data_inicial, clima, on='date', how= 'left')\n",
    "data_full.shape\n",
    "data_full.to_csv('C:/Users/adria/Documents/TFM/data_full.csv', index= False, encoding= 'iso8859_15', sep= ';')"
   ]
  },
  {
   "cell_type": "code",
   "execution_count": 90,
   "metadata": {
    "scrolled": true
   },
   "outputs": [
    {
     "data": {
      "text/html": [
       "<div>\n",
       "<style scoped>\n",
       "    .dataframe tbody tr th:only-of-type {\n",
       "        vertical-align: middle;\n",
       "    }\n",
       "\n",
       "    .dataframe tbody tr th {\n",
       "        vertical-align: top;\n",
       "    }\n",
       "\n",
       "    .dataframe thead th {\n",
       "        text-align: right;\n",
       "    }\n",
       "</style>\n",
       "<table border=\"1\" class=\"dataframe\">\n",
       "  <thead>\n",
       "    <tr style=\"text-align: right;\">\n",
       "      <th></th>\n",
       "      <th>date</th>\n",
       "      <th>idunplug_station</th>\n",
       "      <th>T. Maxima</th>\n",
       "      <th>T.Minima</th>\n",
       "      <th>_id</th>\n",
       "    </tr>\n",
       "  </thead>\n",
       "  <tbody>\n",
       "    <tr>\n",
       "      <td>0</td>\n",
       "      <td>1-1-2019</td>\n",
       "      <td>1</td>\n",
       "      <td>11.7</td>\n",
       "      <td>1.4</td>\n",
       "      <td>21</td>\n",
       "    </tr>\n",
       "    <tr>\n",
       "      <td>1</td>\n",
       "      <td>1-1-2019</td>\n",
       "      <td>2</td>\n",
       "      <td>11.7</td>\n",
       "      <td>1.4</td>\n",
       "      <td>6</td>\n",
       "    </tr>\n",
       "    <tr>\n",
       "      <td>2</td>\n",
       "      <td>1-1-2019</td>\n",
       "      <td>3</td>\n",
       "      <td>11.7</td>\n",
       "      <td>1.4</td>\n",
       "      <td>23</td>\n",
       "    </tr>\n",
       "    <tr>\n",
       "      <td>3</td>\n",
       "      <td>1-1-2019</td>\n",
       "      <td>4</td>\n",
       "      <td>11.7</td>\n",
       "      <td>1.4</td>\n",
       "      <td>14</td>\n",
       "    </tr>\n",
       "    <tr>\n",
       "      <td>4</td>\n",
       "      <td>1-1-2019</td>\n",
       "      <td>5</td>\n",
       "      <td>11.7</td>\n",
       "      <td>1.4</td>\n",
       "      <td>18</td>\n",
       "    </tr>\n",
       "    <tr>\n",
       "      <td>...</td>\n",
       "      <td>...</td>\n",
       "      <td>...</td>\n",
       "      <td>...</td>\n",
       "      <td>...</td>\n",
       "      <td>...</td>\n",
       "    </tr>\n",
       "    <tr>\n",
       "      <td>90122</td>\n",
       "      <td>9-9-2019</td>\n",
       "      <td>212</td>\n",
       "      <td>29.8</td>\n",
       "      <td>16.5</td>\n",
       "      <td>69</td>\n",
       "    </tr>\n",
       "    <tr>\n",
       "      <td>90123</td>\n",
       "      <td>9-9-2019</td>\n",
       "      <td>213</td>\n",
       "      <td>29.8</td>\n",
       "      <td>16.5</td>\n",
       "      <td>62</td>\n",
       "    </tr>\n",
       "    <tr>\n",
       "      <td>90124</td>\n",
       "      <td>9-9-2019</td>\n",
       "      <td>215</td>\n",
       "      <td>29.8</td>\n",
       "      <td>16.5</td>\n",
       "      <td>41</td>\n",
       "    </tr>\n",
       "    <tr>\n",
       "      <td>90125</td>\n",
       "      <td>9-9-2019</td>\n",
       "      <td>218</td>\n",
       "      <td>29.8</td>\n",
       "      <td>16.5</td>\n",
       "      <td>38</td>\n",
       "    </tr>\n",
       "    <tr>\n",
       "      <td>90126</td>\n",
       "      <td>9-9-2019</td>\n",
       "      <td>219</td>\n",
       "      <td>29.8</td>\n",
       "      <td>16.5</td>\n",
       "      <td>39</td>\n",
       "    </tr>\n",
       "  </tbody>\n",
       "</table>\n",
       "<p>90127 rows × 5 columns</p>\n",
       "</div>"
      ],
      "text/plain": [
       "           date  idunplug_station  T. Maxima  T.Minima  _id\n",
       "0      1-1-2019                 1       11.7       1.4   21\n",
       "1      1-1-2019                 2       11.7       1.4    6\n",
       "2      1-1-2019                 3       11.7       1.4   23\n",
       "3      1-1-2019                 4       11.7       1.4   14\n",
       "4      1-1-2019                 5       11.7       1.4   18\n",
       "...         ...               ...        ...       ...  ...\n",
       "90122  9-9-2019               212       29.8      16.5   69\n",
       "90123  9-9-2019               213       29.8      16.5   62\n",
       "90124  9-9-2019               215       29.8      16.5   41\n",
       "90125  9-9-2019               218       29.8      16.5   38\n",
       "90126  9-9-2019               219       29.8      16.5   39\n",
       "\n",
       "[90127 rows x 5 columns]"
      ]
     },
     "execution_count": 90,
     "metadata": {},
     "output_type": "execute_result"
    }
   ],
   "source": [
    "data_modelo = data_full[[\"date\", \"idunplug_station\", \"T. Maxima\", \"T.Minima\", \"_id\"]]\n",
    "data_modelo"
   ]
  },
  {
   "cell_type": "code",
   "execution_count": 91,
   "metadata": {},
   "outputs": [
    {
     "data": {
      "text/html": [
       "<div>\n",
       "<style scoped>\n",
       "    .dataframe tbody tr th:only-of-type {\n",
       "        vertical-align: middle;\n",
       "    }\n",
       "\n",
       "    .dataframe tbody tr th {\n",
       "        vertical-align: top;\n",
       "    }\n",
       "\n",
       "    .dataframe thead th {\n",
       "        text-align: right;\n",
       "    }\n",
       "</style>\n",
       "<table border=\"1\" class=\"dataframe\">\n",
       "  <thead>\n",
       "    <tr style=\"text-align: right;\">\n",
       "      <th></th>\n",
       "      <th>date</th>\n",
       "      <th>idunplug_station</th>\n",
       "      <th>T. Maxima</th>\n",
       "      <th>T.Minima</th>\n",
       "      <th>_id</th>\n",
       "    </tr>\n",
       "  </thead>\n",
       "  <tbody>\n",
       "    <tr>\n",
       "      <td>0</td>\n",
       "      <td>2019-01-01</td>\n",
       "      <td>165</td>\n",
       "      <td>165</td>\n",
       "      <td>165</td>\n",
       "      <td>165</td>\n",
       "    </tr>\n",
       "    <tr>\n",
       "      <td>1</td>\n",
       "      <td>2020-01-01</td>\n",
       "      <td>206</td>\n",
       "      <td>206</td>\n",
       "      <td>206</td>\n",
       "      <td>206</td>\n",
       "    </tr>\n",
       "    <tr>\n",
       "      <td>2</td>\n",
       "      <td>2019-01-10</td>\n",
       "      <td>205</td>\n",
       "      <td>205</td>\n",
       "      <td>205</td>\n",
       "      <td>205</td>\n",
       "    </tr>\n",
       "    <tr>\n",
       "      <td>3</td>\n",
       "      <td>2019-01-11</td>\n",
       "      <td>209</td>\n",
       "      <td>209</td>\n",
       "      <td>209</td>\n",
       "      <td>209</td>\n",
       "    </tr>\n",
       "    <tr>\n",
       "      <td>4</td>\n",
       "      <td>2019-01-12</td>\n",
       "      <td>205</td>\n",
       "      <td>205</td>\n",
       "      <td>205</td>\n",
       "      <td>205</td>\n",
       "    </tr>\n",
       "    <tr>\n",
       "      <td>...</td>\n",
       "      <td>...</td>\n",
       "      <td>...</td>\n",
       "      <td>...</td>\n",
       "      <td>...</td>\n",
       "      <td>...</td>\n",
       "    </tr>\n",
       "    <tr>\n",
       "      <td>469</td>\n",
       "      <td>2019-09-06</td>\n",
       "      <td>171</td>\n",
       "      <td>171</td>\n",
       "      <td>171</td>\n",
       "      <td>171</td>\n",
       "    </tr>\n",
       "    <tr>\n",
       "      <td>470</td>\n",
       "      <td>2020-09-06</td>\n",
       "      <td>211</td>\n",
       "      <td>211</td>\n",
       "      <td>211</td>\n",
       "      <td>211</td>\n",
       "    </tr>\n",
       "    <tr>\n",
       "      <td>471</td>\n",
       "      <td>2019-09-07</td>\n",
       "      <td>184</td>\n",
       "      <td>184</td>\n",
       "      <td>184</td>\n",
       "      <td>184</td>\n",
       "    </tr>\n",
       "    <tr>\n",
       "      <td>472</td>\n",
       "      <td>2019-09-08</td>\n",
       "      <td>190</td>\n",
       "      <td>190</td>\n",
       "      <td>190</td>\n",
       "      <td>190</td>\n",
       "    </tr>\n",
       "    <tr>\n",
       "      <td>473</td>\n",
       "      <td>2019-09-09</td>\n",
       "      <td>197</td>\n",
       "      <td>197</td>\n",
       "      <td>197</td>\n",
       "      <td>197</td>\n",
       "    </tr>\n",
       "  </tbody>\n",
       "</table>\n",
       "<p>474 rows × 5 columns</p>\n",
       "</div>"
      ],
      "text/plain": [
       "          date  idunplug_station  T. Maxima  T.Minima  _id\n",
       "0   2019-01-01               165        165       165  165\n",
       "1   2020-01-01               206        206       206  206\n",
       "2   2019-01-10               205        205       205  205\n",
       "3   2019-01-11               209        209       209  209\n",
       "4   2019-01-12               205        205       205  205\n",
       "..         ...               ...        ...       ...  ...\n",
       "469 2019-09-06               171        171       171  171\n",
       "470 2020-09-06               211        211       211  211\n",
       "471 2019-09-07               184        184       184  184\n",
       "472 2019-09-08               190        190       190  190\n",
       "473 2019-09-09               197        197       197  197\n",
       "\n",
       "[474 rows x 5 columns]"
      ]
     },
     "execution_count": 91,
     "metadata": {},
     "output_type": "execute_result"
    }
   ],
   "source": [
    "fig = data_modelo.groupby(data_modelo.date).count().reset_index()\n",
    "fig.loc[:, 'date'] =pd.to_datetime(fig.date, infer_datetime_format=True, format=\"%Y/%m/%d\")\n",
    "fig"
   ]
  },
  {
   "cell_type": "code",
   "execution_count": 92,
   "metadata": {
    "scrolled": true
   },
   "outputs": [
    {
     "name": "stderr",
     "output_type": "stream",
     "text": [
      "C:\\Users\\adria\\Anaconda3\\lib\\site-packages\\ipykernel_launcher.py:2: SettingWithCopyWarning: \n",
      "A value is trying to be set on a copy of a slice from a DataFrame.\n",
      "Try using .loc[row_indexer,col_indexer] = value instead\n",
      "\n",
      "See the caveats in the documentation: http://pandas.pydata.org/pandas-docs/stable/user_guide/indexing.html#returning-a-view-versus-a-copy\n",
      "  \n"
     ]
    },
    {
     "data": {
      "text/html": [
       "<div>\n",
       "<style scoped>\n",
       "    .dataframe tbody tr th:only-of-type {\n",
       "        vertical-align: middle;\n",
       "    }\n",
       "\n",
       "    .dataframe tbody tr th {\n",
       "        vertical-align: top;\n",
       "    }\n",
       "\n",
       "    .dataframe thead th {\n",
       "        text-align: right;\n",
       "    }\n",
       "</style>\n",
       "<table border=\"1\" class=\"dataframe\">\n",
       "  <thead>\n",
       "    <tr style=\"text-align: right;\">\n",
       "      <th></th>\n",
       "      <th>date</th>\n",
       "      <th>idunplug_station</th>\n",
       "      <th>T. Maxima</th>\n",
       "      <th>T.Minima</th>\n",
       "      <th>_id</th>\n",
       "    </tr>\n",
       "  </thead>\n",
       "  <tbody>\n",
       "    <tr>\n",
       "      <td>0</td>\n",
       "      <td>0</td>\n",
       "      <td>1</td>\n",
       "      <td>11.7</td>\n",
       "      <td>1.4</td>\n",
       "      <td>21</td>\n",
       "    </tr>\n",
       "    <tr>\n",
       "      <td>1</td>\n",
       "      <td>0</td>\n",
       "      <td>2</td>\n",
       "      <td>11.7</td>\n",
       "      <td>1.4</td>\n",
       "      <td>6</td>\n",
       "    </tr>\n",
       "    <tr>\n",
       "      <td>2</td>\n",
       "      <td>0</td>\n",
       "      <td>3</td>\n",
       "      <td>11.7</td>\n",
       "      <td>1.4</td>\n",
       "      <td>23</td>\n",
       "    </tr>\n",
       "    <tr>\n",
       "      <td>3</td>\n",
       "      <td>0</td>\n",
       "      <td>4</td>\n",
       "      <td>11.7</td>\n",
       "      <td>1.4</td>\n",
       "      <td>14</td>\n",
       "    </tr>\n",
       "    <tr>\n",
       "      <td>4</td>\n",
       "      <td>0</td>\n",
       "      <td>5</td>\n",
       "      <td>11.7</td>\n",
       "      <td>1.4</td>\n",
       "      <td>18</td>\n",
       "    </tr>\n",
       "    <tr>\n",
       "      <td>...</td>\n",
       "      <td>...</td>\n",
       "      <td>...</td>\n",
       "      <td>...</td>\n",
       "      <td>...</td>\n",
       "      <td>...</td>\n",
       "    </tr>\n",
       "    <tr>\n",
       "      <td>90122</td>\n",
       "      <td>473</td>\n",
       "      <td>212</td>\n",
       "      <td>29.8</td>\n",
       "      <td>16.5</td>\n",
       "      <td>69</td>\n",
       "    </tr>\n",
       "    <tr>\n",
       "      <td>90123</td>\n",
       "      <td>473</td>\n",
       "      <td>213</td>\n",
       "      <td>29.8</td>\n",
       "      <td>16.5</td>\n",
       "      <td>62</td>\n",
       "    </tr>\n",
       "    <tr>\n",
       "      <td>90124</td>\n",
       "      <td>473</td>\n",
       "      <td>215</td>\n",
       "      <td>29.8</td>\n",
       "      <td>16.5</td>\n",
       "      <td>41</td>\n",
       "    </tr>\n",
       "    <tr>\n",
       "      <td>90125</td>\n",
       "      <td>473</td>\n",
       "      <td>218</td>\n",
       "      <td>29.8</td>\n",
       "      <td>16.5</td>\n",
       "      <td>38</td>\n",
       "    </tr>\n",
       "    <tr>\n",
       "      <td>90126</td>\n",
       "      <td>473</td>\n",
       "      <td>219</td>\n",
       "      <td>29.8</td>\n",
       "      <td>16.5</td>\n",
       "      <td>39</td>\n",
       "    </tr>\n",
       "  </tbody>\n",
       "</table>\n",
       "<p>90127 rows × 5 columns</p>\n",
       "</div>"
      ],
      "text/plain": [
       "       date  idunplug_station  T. Maxima  T.Minima  _id\n",
       "0         0                 1       11.7       1.4   21\n",
       "1         0                 2       11.7       1.4    6\n",
       "2         0                 3       11.7       1.4   23\n",
       "3         0                 4       11.7       1.4   14\n",
       "4         0                 5       11.7       1.4   18\n",
       "...     ...               ...        ...       ...  ...\n",
       "90122   473               212       29.8      16.5   69\n",
       "90123   473               213       29.8      16.5   62\n",
       "90124   473               215       29.8      16.5   41\n",
       "90125   473               218       29.8      16.5   38\n",
       "90126   473               219       29.8      16.5   39\n",
       "\n",
       "[90127 rows x 5 columns]"
      ]
     },
     "execution_count": 92,
     "metadata": {},
     "output_type": "execute_result"
    }
   ],
   "source": [
    "transf = LabelEncoder()\n",
    "data_modelo[\"date\"] = transf.fit_transform(data_modelo[\"date\"])\n",
    "data_modelo"
   ]
  },
  {
   "cell_type": "code",
   "execution_count": 93,
   "metadata": {
    "scrolled": true
   },
   "outputs": [
    {
     "data": {
      "text/plain": [
       "date                0\n",
       "idunplug_station    0\n",
       "T. Maxima           0\n",
       "T.Minima            0\n",
       "_id                 0\n",
       "dtype: int64"
      ]
     },
     "execution_count": 93,
     "metadata": {},
     "output_type": "execute_result"
    }
   ],
   "source": [
    "data_modelo.isna().sum()"
   ]
  },
  {
   "cell_type": "code",
   "execution_count": 94,
   "metadata": {},
   "outputs": [],
   "source": [
    "X = data_modelo.drop(columns='_id').values\n",
    "y = data_modelo._id.values"
   ]
  },
  {
   "cell_type": "code",
   "execution_count": 95,
   "metadata": {},
   "outputs": [
    {
     "data": {
      "text/plain": [
       "(90127, 4)"
      ]
     },
     "execution_count": 95,
     "metadata": {},
     "output_type": "execute_result"
    }
   ],
   "source": [
    "X.shape"
   ]
  },
  {
   "cell_type": "code",
   "execution_count": 96,
   "metadata": {},
   "outputs": [
    {
     "data": {
      "text/plain": [
       "(90127,)"
      ]
     },
     "execution_count": 96,
     "metadata": {},
     "output_type": "execute_result"
    }
   ],
   "source": [
    "y.shape"
   ]
  },
  {
   "cell_type": "code",
   "execution_count": 97,
   "metadata": {},
   "outputs": [],
   "source": [
    "X_train, X_test, y_train, y_test = train_test_split(X, y , test_size=0.3, random_state=21)"
   ]
  },
  {
   "cell_type": "code",
   "execution_count": 98,
   "metadata": {},
   "outputs": [],
   "source": [
    "steps = [('scaler', StandardScaler()),\n",
    "        ('xgb', GradientBoostingRegressor(n_estimators=100))]\n",
    "pipeline = Pipeline(steps)\n",
    "model3 = pipeline.fit(X_train, y_train)\n",
    "y_pred3 = model3.predict(X_test)"
   ]
  },
  {
   "cell_type": "code",
   "execution_count": 99,
   "metadata": {},
   "outputs": [
    {
     "data": {
      "text/plain": [
       "0.40991893864758944"
      ]
     },
     "execution_count": 99,
     "metadata": {},
     "output_type": "execute_result"
    }
   ],
   "source": [
    "# Cáculo manual del R2 score\n",
    "u = ((y_test - y_pred3)**2).sum() \n",
    "v = ((y_test - y_test.mean()) ** 2).sum()\n",
    "R2 = (1 - u/v)\n",
    "R2"
   ]
  },
  {
   "cell_type": "code",
   "execution_count": 100,
   "metadata": {},
   "outputs": [],
   "source": [
    "# Se obtiene un R2 de 0.41 lo que supone una mejora importante con respecto al modelo probado anteriormente. No osbtante,\n",
    "# hay que seguir explorando posibles mejoras"
   ]
  },
  {
   "cell_type": "markdown",
   "metadata": {},
   "source": [
    "# Modelo 3"
   ]
  },
  {
   "cell_type": "code",
   "execution_count": 101,
   "metadata": {
    "scrolled": true
   },
   "outputs": [
    {
     "data": {
      "text/html": [
       "<div>\n",
       "<style scoped>\n",
       "    .dataframe tbody tr th:only-of-type {\n",
       "        vertical-align: middle;\n",
       "    }\n",
       "\n",
       "    .dataframe tbody tr th {\n",
       "        vertical-align: top;\n",
       "    }\n",
       "\n",
       "    .dataframe thead th {\n",
       "        text-align: right;\n",
       "    }\n",
       "</style>\n",
       "<table border=\"1\" class=\"dataframe\">\n",
       "  <thead>\n",
       "    <tr style=\"text-align: right;\">\n",
       "      <th></th>\n",
       "      <th>idunplug_station</th>\n",
       "      <th>date</th>\n",
       "      <th>_id</th>\n",
       "    </tr>\n",
       "  </thead>\n",
       "  <tbody>\n",
       "    <tr>\n",
       "      <td>0</td>\n",
       "      <td>1</td>\n",
       "      <td>1-1-2019</td>\n",
       "      <td>21</td>\n",
       "    </tr>\n",
       "    <tr>\n",
       "      <td>1</td>\n",
       "      <td>1</td>\n",
       "      <td>1-1-2020</td>\n",
       "      <td>1</td>\n",
       "    </tr>\n",
       "    <tr>\n",
       "      <td>2</td>\n",
       "      <td>1</td>\n",
       "      <td>1-10-2019</td>\n",
       "      <td>144</td>\n",
       "    </tr>\n",
       "    <tr>\n",
       "      <td>3</td>\n",
       "      <td>1</td>\n",
       "      <td>1-11-2019</td>\n",
       "      <td>87</td>\n",
       "    </tr>\n",
       "    <tr>\n",
       "      <td>4</td>\n",
       "      <td>1</td>\n",
       "      <td>1-2-2019</td>\n",
       "      <td>81</td>\n",
       "    </tr>\n",
       "    <tr>\n",
       "      <td>...</td>\n",
       "      <td>...</td>\n",
       "      <td>...</td>\n",
       "      <td>...</td>\n",
       "    </tr>\n",
       "    <tr>\n",
       "      <td>90122</td>\n",
       "      <td>2008</td>\n",
       "      <td>21-5-2019</td>\n",
       "      <td>2</td>\n",
       "    </tr>\n",
       "    <tr>\n",
       "      <td>90123</td>\n",
       "      <td>2008</td>\n",
       "      <td>23-4-2019</td>\n",
       "      <td>3</td>\n",
       "    </tr>\n",
       "    <tr>\n",
       "      <td>90124</td>\n",
       "      <td>2008</td>\n",
       "      <td>26-3-2019</td>\n",
       "      <td>2</td>\n",
       "    </tr>\n",
       "    <tr>\n",
       "      <td>90125</td>\n",
       "      <td>2008</td>\n",
       "      <td>5-6-2019</td>\n",
       "      <td>1</td>\n",
       "    </tr>\n",
       "    <tr>\n",
       "      <td>90126</td>\n",
       "      <td>2008</td>\n",
       "      <td>6-6-2019</td>\n",
       "      <td>3</td>\n",
       "    </tr>\n",
       "  </tbody>\n",
       "</table>\n",
       "<p>90127 rows × 3 columns</p>\n",
       "</div>"
      ],
      "text/plain": [
       "       idunplug_station       date  _id\n",
       "0                     1   1-1-2019   21\n",
       "1                     1   1-1-2020    1\n",
       "2                     1  1-10-2019  144\n",
       "3                     1  1-11-2019   87\n",
       "4                     1   1-2-2019   81\n",
       "...                 ...        ...  ...\n",
       "90122              2008  21-5-2019    2\n",
       "90123              2008  23-4-2019    3\n",
       "90124              2008  26-3-2019    2\n",
       "90125              2008   5-6-2019    1\n",
       "90126              2008   6-6-2019    3\n",
       "\n",
       "[90127 rows x 3 columns]"
      ]
     },
     "execution_count": 101,
     "metadata": {},
     "output_type": "execute_result"
    }
   ],
   "source": [
    "# Lo mismo pero con datos anteriores a la crisis sanitaria\n",
    "agg_before = df_Uso1.groupby([\"idunplug_station\", \"date\"])[\"_id\"].count().reset_index()\n",
    "agg_before"
   ]
  },
  {
   "cell_type": "code",
   "execution_count": 102,
   "metadata": {},
   "outputs": [
    {
     "data": {
      "text/html": [
       "<div>\n",
       "<style scoped>\n",
       "    .dataframe tbody tr th:only-of-type {\n",
       "        vertical-align: middle;\n",
       "    }\n",
       "\n",
       "    .dataframe tbody tr th {\n",
       "        vertical-align: top;\n",
       "    }\n",
       "\n",
       "    .dataframe thead th {\n",
       "        text-align: right;\n",
       "    }\n",
       "</style>\n",
       "<table border=\"1\" class=\"dataframe\">\n",
       "  <thead>\n",
       "    <tr style=\"text-align: right;\">\n",
       "      <th></th>\n",
       "      <th>idunplug_station</th>\n",
       "      <th>date</th>\n",
       "      <th>_id</th>\n",
       "      <th>time</th>\n",
       "      <th>T. Maxima</th>\n",
       "      <th>T.Minima</th>\n",
       "      <th>day</th>\n",
       "      <th>month</th>\n",
       "      <th>year</th>\n",
       "    </tr>\n",
       "  </thead>\n",
       "  <tbody>\n",
       "    <tr>\n",
       "      <td>0</td>\n",
       "      <td>1</td>\n",
       "      <td>1-1-2019</td>\n",
       "      <td>21</td>\n",
       "      <td>2019-01-01 00:00:00+00:00</td>\n",
       "      <td>11.7</td>\n",
       "      <td>1.4</td>\n",
       "      <td>1</td>\n",
       "      <td>1</td>\n",
       "      <td>2019</td>\n",
       "    </tr>\n",
       "    <tr>\n",
       "      <td>1</td>\n",
       "      <td>1</td>\n",
       "      <td>1-1-2020</td>\n",
       "      <td>1</td>\n",
       "      <td>2020-01-01 00:00:00+00:00</td>\n",
       "      <td>11.2</td>\n",
       "      <td>1.9</td>\n",
       "      <td>1</td>\n",
       "      <td>1</td>\n",
       "      <td>2020</td>\n",
       "    </tr>\n",
       "    <tr>\n",
       "      <td>2</td>\n",
       "      <td>1</td>\n",
       "      <td>1-10-2019</td>\n",
       "      <td>144</td>\n",
       "      <td>2019-10-01 00:00:00+00:00</td>\n",
       "      <td>26.5</td>\n",
       "      <td>14.0</td>\n",
       "      <td>1</td>\n",
       "      <td>10</td>\n",
       "      <td>2019</td>\n",
       "    </tr>\n",
       "    <tr>\n",
       "      <td>3</td>\n",
       "      <td>1</td>\n",
       "      <td>1-11-2019</td>\n",
       "      <td>87</td>\n",
       "      <td>2019-11-01 00:00:00+00:00</td>\n",
       "      <td>19.3</td>\n",
       "      <td>14.3</td>\n",
       "      <td>1</td>\n",
       "      <td>11</td>\n",
       "      <td>2019</td>\n",
       "    </tr>\n",
       "    <tr>\n",
       "      <td>4</td>\n",
       "      <td>1</td>\n",
       "      <td>1-2-2019</td>\n",
       "      <td>81</td>\n",
       "      <td>2019-02-01 00:00:00+00:00</td>\n",
       "      <td>9.4</td>\n",
       "      <td>3.5</td>\n",
       "      <td>1</td>\n",
       "      <td>2</td>\n",
       "      <td>2019</td>\n",
       "    </tr>\n",
       "    <tr>\n",
       "      <td>...</td>\n",
       "      <td>...</td>\n",
       "      <td>...</td>\n",
       "      <td>...</td>\n",
       "      <td>...</td>\n",
       "      <td>...</td>\n",
       "      <td>...</td>\n",
       "      <td>...</td>\n",
       "      <td>...</td>\n",
       "      <td>...</td>\n",
       "    </tr>\n",
       "    <tr>\n",
       "      <td>90122</td>\n",
       "      <td>2008</td>\n",
       "      <td>21-5-2019</td>\n",
       "      <td>2</td>\n",
       "      <td>2019-05-21 00:00:00+00:00</td>\n",
       "      <td>25.8</td>\n",
       "      <td>13.5</td>\n",
       "      <td>21</td>\n",
       "      <td>5</td>\n",
       "      <td>2019</td>\n",
       "    </tr>\n",
       "    <tr>\n",
       "      <td>90123</td>\n",
       "      <td>2008</td>\n",
       "      <td>23-4-2019</td>\n",
       "      <td>3</td>\n",
       "      <td>2019-04-23 00:00:00+00:00</td>\n",
       "      <td>14.2</td>\n",
       "      <td>5.7</td>\n",
       "      <td>23</td>\n",
       "      <td>4</td>\n",
       "      <td>2019</td>\n",
       "    </tr>\n",
       "    <tr>\n",
       "      <td>90124</td>\n",
       "      <td>2008</td>\n",
       "      <td>26-3-2019</td>\n",
       "      <td>2</td>\n",
       "      <td>2019-03-26 00:00:00+00:00</td>\n",
       "      <td>21.0</td>\n",
       "      <td>6.0</td>\n",
       "      <td>26</td>\n",
       "      <td>3</td>\n",
       "      <td>2019</td>\n",
       "    </tr>\n",
       "    <tr>\n",
       "      <td>90125</td>\n",
       "      <td>2008</td>\n",
       "      <td>5-6-2019</td>\n",
       "      <td>1</td>\n",
       "      <td>2019-06-05 00:00:00+00:00</td>\n",
       "      <td>22.1</td>\n",
       "      <td>12.7</td>\n",
       "      <td>5</td>\n",
       "      <td>6</td>\n",
       "      <td>2019</td>\n",
       "    </tr>\n",
       "    <tr>\n",
       "      <td>90126</td>\n",
       "      <td>2008</td>\n",
       "      <td>6-6-2019</td>\n",
       "      <td>3</td>\n",
       "      <td>2019-06-06 00:00:00+00:00</td>\n",
       "      <td>24.0</td>\n",
       "      <td>11.0</td>\n",
       "      <td>6</td>\n",
       "      <td>6</td>\n",
       "      <td>2019</td>\n",
       "    </tr>\n",
       "  </tbody>\n",
       "</table>\n",
       "<p>90127 rows × 9 columns</p>\n",
       "</div>"
      ],
      "text/plain": [
       "       idunplug_station       date  _id                      time  T. Maxima  \\\n",
       "0                     1   1-1-2019   21 2019-01-01 00:00:00+00:00       11.7   \n",
       "1                     1   1-1-2020    1 2020-01-01 00:00:00+00:00       11.2   \n",
       "2                     1  1-10-2019  144 2019-10-01 00:00:00+00:00       26.5   \n",
       "3                     1  1-11-2019   87 2019-11-01 00:00:00+00:00       19.3   \n",
       "4                     1   1-2-2019   81 2019-02-01 00:00:00+00:00        9.4   \n",
       "...                 ...        ...  ...                       ...        ...   \n",
       "90122              2008  21-5-2019    2 2019-05-21 00:00:00+00:00       25.8   \n",
       "90123              2008  23-4-2019    3 2019-04-23 00:00:00+00:00       14.2   \n",
       "90124              2008  26-3-2019    2 2019-03-26 00:00:00+00:00       21.0   \n",
       "90125              2008   5-6-2019    1 2019-06-05 00:00:00+00:00       22.1   \n",
       "90126              2008   6-6-2019    3 2019-06-06 00:00:00+00:00       24.0   \n",
       "\n",
       "       T.Minima  day  month  year  \n",
       "0           1.4    1      1  2019  \n",
       "1           1.9    1      1  2020  \n",
       "2          14.0    1     10  2019  \n",
       "3          14.3    1     11  2019  \n",
       "4           3.5    1      2  2019  \n",
       "...         ...  ...    ...   ...  \n",
       "90122      13.5   21      5  2019  \n",
       "90123       5.7   23      4  2019  \n",
       "90124       6.0   26      3  2019  \n",
       "90125      12.7    5      6  2019  \n",
       "90126      11.0    6      6  2019  \n",
       "\n",
       "[90127 rows x 9 columns]"
      ]
     },
     "execution_count": 102,
     "metadata": {},
     "output_type": "execute_result"
    }
   ],
   "source": [
    "data_before = pd.merge(agg_before, clima, on='date', how= 'left')\n",
    "data_before"
   ]
  },
  {
   "cell_type": "code",
   "execution_count": 103,
   "metadata": {},
   "outputs": [
    {
     "data": {
      "text/html": [
       "<div>\n",
       "<style scoped>\n",
       "    .dataframe tbody tr th:only-of-type {\n",
       "        vertical-align: middle;\n",
       "    }\n",
       "\n",
       "    .dataframe tbody tr th {\n",
       "        vertical-align: top;\n",
       "    }\n",
       "\n",
       "    .dataframe thead th {\n",
       "        text-align: right;\n",
       "    }\n",
       "</style>\n",
       "<table border=\"1\" class=\"dataframe\">\n",
       "  <thead>\n",
       "    <tr style=\"text-align: right;\">\n",
       "      <th></th>\n",
       "      <th>date</th>\n",
       "      <th>idunplug_station</th>\n",
       "      <th>T. Maxima</th>\n",
       "      <th>T.Minima</th>\n",
       "      <th>_id</th>\n",
       "    </tr>\n",
       "  </thead>\n",
       "  <tbody>\n",
       "    <tr>\n",
       "      <td>0</td>\n",
       "      <td>1-1-2019</td>\n",
       "      <td>1</td>\n",
       "      <td>11.7</td>\n",
       "      <td>1.4</td>\n",
       "      <td>21</td>\n",
       "    </tr>\n",
       "    <tr>\n",
       "      <td>1</td>\n",
       "      <td>1-1-2020</td>\n",
       "      <td>1</td>\n",
       "      <td>11.2</td>\n",
       "      <td>1.9</td>\n",
       "      <td>1</td>\n",
       "    </tr>\n",
       "    <tr>\n",
       "      <td>2</td>\n",
       "      <td>1-10-2019</td>\n",
       "      <td>1</td>\n",
       "      <td>26.5</td>\n",
       "      <td>14.0</td>\n",
       "      <td>144</td>\n",
       "    </tr>\n",
       "    <tr>\n",
       "      <td>3</td>\n",
       "      <td>1-11-2019</td>\n",
       "      <td>1</td>\n",
       "      <td>19.3</td>\n",
       "      <td>14.3</td>\n",
       "      <td>87</td>\n",
       "    </tr>\n",
       "    <tr>\n",
       "      <td>4</td>\n",
       "      <td>1-2-2019</td>\n",
       "      <td>1</td>\n",
       "      <td>9.4</td>\n",
       "      <td>3.5</td>\n",
       "      <td>81</td>\n",
       "    </tr>\n",
       "  </tbody>\n",
       "</table>\n",
       "</div>"
      ],
      "text/plain": [
       "        date  idunplug_station  T. Maxima  T.Minima  _id\n",
       "0   1-1-2019                 1       11.7       1.4   21\n",
       "1   1-1-2020                 1       11.2       1.9    1\n",
       "2  1-10-2019                 1       26.5      14.0  144\n",
       "3  1-11-2019                 1       19.3      14.3   87\n",
       "4   1-2-2019                 1        9.4       3.5   81"
      ]
     },
     "execution_count": 103,
     "metadata": {},
     "output_type": "execute_result"
    }
   ],
   "source": [
    "data_bef_modelo = data_before[[\"date\", \"idunplug_station\", \"T. Maxima\", \"T.Minima\", \"_id\"]]\n",
    "data_bef_modelo.head()"
   ]
  },
  {
   "cell_type": "code",
   "execution_count": 104,
   "metadata": {},
   "outputs": [
    {
     "name": "stderr",
     "output_type": "stream",
     "text": [
      "C:\\Users\\adria\\Anaconda3\\lib\\site-packages\\ipykernel_launcher.py:2: SettingWithCopyWarning: \n",
      "A value is trying to be set on a copy of a slice from a DataFrame.\n",
      "Try using .loc[row_indexer,col_indexer] = value instead\n",
      "\n",
      "See the caveats in the documentation: http://pandas.pydata.org/pandas-docs/stable/user_guide/indexing.html#returning-a-view-versus-a-copy\n",
      "  \n"
     ]
    },
    {
     "data": {
      "text/html": [
       "<div>\n",
       "<style scoped>\n",
       "    .dataframe tbody tr th:only-of-type {\n",
       "        vertical-align: middle;\n",
       "    }\n",
       "\n",
       "    .dataframe tbody tr th {\n",
       "        vertical-align: top;\n",
       "    }\n",
       "\n",
       "    .dataframe thead th {\n",
       "        text-align: right;\n",
       "    }\n",
       "</style>\n",
       "<table border=\"1\" class=\"dataframe\">\n",
       "  <thead>\n",
       "    <tr style=\"text-align: right;\">\n",
       "      <th></th>\n",
       "      <th>date</th>\n",
       "      <th>idunplug_station</th>\n",
       "      <th>T. Maxima</th>\n",
       "      <th>T.Minima</th>\n",
       "      <th>_id</th>\n",
       "    </tr>\n",
       "  </thead>\n",
       "  <tbody>\n",
       "    <tr>\n",
       "      <td>0</td>\n",
       "      <td>0</td>\n",
       "      <td>1</td>\n",
       "      <td>11.7</td>\n",
       "      <td>1.4</td>\n",
       "      <td>21</td>\n",
       "    </tr>\n",
       "    <tr>\n",
       "      <td>1</td>\n",
       "      <td>1</td>\n",
       "      <td>1</td>\n",
       "      <td>11.2</td>\n",
       "      <td>1.9</td>\n",
       "      <td>1</td>\n",
       "    </tr>\n",
       "    <tr>\n",
       "      <td>2</td>\n",
       "      <td>2</td>\n",
       "      <td>1</td>\n",
       "      <td>26.5</td>\n",
       "      <td>14.0</td>\n",
       "      <td>144</td>\n",
       "    </tr>\n",
       "    <tr>\n",
       "      <td>3</td>\n",
       "      <td>3</td>\n",
       "      <td>1</td>\n",
       "      <td>19.3</td>\n",
       "      <td>14.3</td>\n",
       "      <td>87</td>\n",
       "    </tr>\n",
       "    <tr>\n",
       "      <td>4</td>\n",
       "      <td>5</td>\n",
       "      <td>1</td>\n",
       "      <td>9.4</td>\n",
       "      <td>3.5</td>\n",
       "      <td>81</td>\n",
       "    </tr>\n",
       "  </tbody>\n",
       "</table>\n",
       "</div>"
      ],
      "text/plain": [
       "   date  idunplug_station  T. Maxima  T.Minima  _id\n",
       "0     0                 1       11.7       1.4   21\n",
       "1     1                 1       11.2       1.9    1\n",
       "2     2                 1       26.5      14.0  144\n",
       "3     3                 1       19.3      14.3   87\n",
       "4     5                 1        9.4       3.5   81"
      ]
     },
     "execution_count": 104,
     "metadata": {},
     "output_type": "execute_result"
    }
   ],
   "source": [
    "transf = LabelEncoder()\n",
    "data_bef_modelo[\"date\"] = transf.fit_transform(data_bef_modelo[\"date\"])\n",
    "data_bef_modelo.head()"
   ]
  },
  {
   "cell_type": "code",
   "execution_count": 105,
   "metadata": {},
   "outputs": [
    {
     "data": {
      "text/plain": [
       "(90127, 5)"
      ]
     },
     "execution_count": 105,
     "metadata": {},
     "output_type": "execute_result"
    }
   ],
   "source": [
    "data_bef_modelo.shape"
   ]
  },
  {
   "cell_type": "code",
   "execution_count": 106,
   "metadata": {},
   "outputs": [],
   "source": [
    "X = data_bef_modelo.drop(columns='_id').values\n",
    "y = data_bef_modelo._id.values"
   ]
  },
  {
   "cell_type": "code",
   "execution_count": 107,
   "metadata": {},
   "outputs": [],
   "source": [
    "X_train, X_test, y_train, y_test = train_test_split(X, y , test_size=0.3, random_state=21)"
   ]
  },
  {
   "cell_type": "code",
   "execution_count": 108,
   "metadata": {
    "scrolled": true
   },
   "outputs": [],
   "source": [
    "steps = [('scaler', StandardScaler()),\n",
    "        ('xgb', GradientBoostingRegressor(n_estimators=100))]\n",
    "pipeline = Pipeline(steps)\n",
    "model4 = pipeline.fit(X_train, y_train)\n",
    "y_pred4 = model4.predict(X_test)"
   ]
  },
  {
   "cell_type": "code",
   "execution_count": 109,
   "metadata": {},
   "outputs": [
    {
     "data": {
      "text/plain": [
       "0.41623039694450237"
      ]
     },
     "execution_count": 109,
     "metadata": {},
     "output_type": "execute_result"
    }
   ],
   "source": [
    "r2_score(y_test, y_pred4, multioutput='variance_weighted')\n",
    "# Apenas se incrementa a 0.42"
   ]
  },
  {
   "cell_type": "markdown",
   "metadata": {},
   "source": [
    "# Modelo 4"
   ]
  },
  {
   "cell_type": "code",
   "execution_count": 110,
   "metadata": {
    "scrolled": true
   },
   "outputs": [
    {
     "data": {
      "text/html": [
       "<div>\n",
       "<style scoped>\n",
       "    .dataframe tbody tr th:only-of-type {\n",
       "        vertical-align: middle;\n",
       "    }\n",
       "\n",
       "    .dataframe tbody tr th {\n",
       "        vertical-align: top;\n",
       "    }\n",
       "\n",
       "    .dataframe thead th {\n",
       "        text-align: right;\n",
       "    }\n",
       "</style>\n",
       "<table border=\"1\" class=\"dataframe\">\n",
       "  <thead>\n",
       "    <tr style=\"text-align: right;\">\n",
       "      <th></th>\n",
       "      <th>id</th>\n",
       "      <th>latitude</th>\n",
       "      <th>longitude</th>\n",
       "    </tr>\n",
       "  </thead>\n",
       "  <tbody>\n",
       "    <tr>\n",
       "      <td>0</td>\n",
       "      <td>1</td>\n",
       "      <td>40.417191</td>\n",
       "      <td>-3.701814</td>\n",
       "    </tr>\n",
       "    <tr>\n",
       "      <td>1</td>\n",
       "      <td>2</td>\n",
       "      <td>40.417266</td>\n",
       "      <td>-3.701618</td>\n",
       "    </tr>\n",
       "    <tr>\n",
       "      <td>2</td>\n",
       "      <td>3</td>\n",
       "      <td>40.420589</td>\n",
       "      <td>-3.705841</td>\n",
       "    </tr>\n",
       "    <tr>\n",
       "      <td>3</td>\n",
       "      <td>4</td>\n",
       "      <td>40.430294</td>\n",
       "      <td>-3.706917</td>\n",
       "    </tr>\n",
       "    <tr>\n",
       "      <td>4</td>\n",
       "      <td>5</td>\n",
       "      <td>40.428552</td>\n",
       "      <td>-3.702587</td>\n",
       "    </tr>\n",
       "    <tr>\n",
       "      <td>...</td>\n",
       "      <td>...</td>\n",
       "      <td>...</td>\n",
       "      <td>...</td>\n",
       "    </tr>\n",
       "    <tr>\n",
       "      <td>210</td>\n",
       "      <td>216</td>\n",
       "      <td>40.466361</td>\n",
       "      <td>-3.688639</td>\n",
       "    </tr>\n",
       "    <tr>\n",
       "      <td>211</td>\n",
       "      <td>217</td>\n",
       "      <td>40.465678</td>\n",
       "      <td>-3.688772</td>\n",
       "    </tr>\n",
       "    <tr>\n",
       "      <td>212</td>\n",
       "      <td>218</td>\n",
       "      <td>40.419674</td>\n",
       "      <td>-3.702673</td>\n",
       "    </tr>\n",
       "    <tr>\n",
       "      <td>213</td>\n",
       "      <td>219</td>\n",
       "      <td>40.420590</td>\n",
       "      <td>-3.702390</td>\n",
       "    </tr>\n",
       "    <tr>\n",
       "      <td>214</td>\n",
       "      <td>220</td>\n",
       "      <td>40.398247</td>\n",
       "      <td>-3.716591</td>\n",
       "    </tr>\n",
       "  </tbody>\n",
       "</table>\n",
       "<p>215 rows × 3 columns</p>\n",
       "</div>"
      ],
      "text/plain": [
       "      id   latitude  longitude\n",
       "0      1  40.417191  -3.701814\n",
       "1      2  40.417266  -3.701618\n",
       "2      3  40.420589  -3.705841\n",
       "3      4  40.430294  -3.706917\n",
       "4      5  40.428552  -3.702587\n",
       "..   ...        ...        ...\n",
       "210  216  40.466361  -3.688639\n",
       "211  217  40.465678  -3.688772\n",
       "212  218  40.419674  -3.702673\n",
       "213  219  40.420590  -3.702390\n",
       "214  220  40.398247  -3.716591\n",
       "\n",
       "[215 rows x 3 columns]"
      ]
     },
     "execution_count": 110,
     "metadata": {},
     "output_type": "execute_result"
    }
   ],
   "source": [
    "# Se va a probar otro modelo en el que incorporamos las variables lat y long de cada estación de BiciMAD\n",
    "estaciones_agg = pd.read_csv('estaciones_agg.csv', sep=';', encoding= 'iso8859_15')\n",
    "estaciones_agg"
   ]
  },
  {
   "cell_type": "code",
   "execution_count": 111,
   "metadata": {},
   "outputs": [
    {
     "data": {
      "text/plain": [
       "[15, 220]"
      ]
     },
     "execution_count": 111,
     "metadata": {},
     "output_type": "execute_result"
    }
   ],
   "source": [
    "estaciones = estaciones_agg.id.unique()\n",
    "estaciones_new = df_UsoJun.idunplug_station.unique()\n",
    "estaciones_comp = [estacion for estacion in estaciones if estacion not in estaciones_new]\n",
    "estaciones_comp"
   ]
  },
  {
   "cell_type": "code",
   "execution_count": 112,
   "metadata": {},
   "outputs": [
    {
     "data": {
      "text/html": [
       "<div>\n",
       "<style scoped>\n",
       "    .dataframe tbody tr th:only-of-type {\n",
       "        vertical-align: middle;\n",
       "    }\n",
       "\n",
       "    .dataframe tbody tr th {\n",
       "        vertical-align: top;\n",
       "    }\n",
       "\n",
       "    .dataframe thead th {\n",
       "        text-align: right;\n",
       "    }\n",
       "</style>\n",
       "<table border=\"1\" class=\"dataframe\">\n",
       "  <thead>\n",
       "    <tr style=\"text-align: right;\">\n",
       "      <th></th>\n",
       "      <th>date</th>\n",
       "      <th>id</th>\n",
       "      <th>T. Maxima</th>\n",
       "      <th>T.Minima</th>\n",
       "      <th>Movimientos</th>\n",
       "    </tr>\n",
       "  </thead>\n",
       "  <tbody>\n",
       "    <tr>\n",
       "      <td>0</td>\n",
       "      <td>0</td>\n",
       "      <td>1</td>\n",
       "      <td>11.7</td>\n",
       "      <td>1.4</td>\n",
       "      <td>21</td>\n",
       "    </tr>\n",
       "    <tr>\n",
       "      <td>1</td>\n",
       "      <td>1</td>\n",
       "      <td>1</td>\n",
       "      <td>11.2</td>\n",
       "      <td>1.9</td>\n",
       "      <td>1</td>\n",
       "    </tr>\n",
       "    <tr>\n",
       "      <td>2</td>\n",
       "      <td>2</td>\n",
       "      <td>1</td>\n",
       "      <td>26.5</td>\n",
       "      <td>14.0</td>\n",
       "      <td>144</td>\n",
       "    </tr>\n",
       "    <tr>\n",
       "      <td>3</td>\n",
       "      <td>3</td>\n",
       "      <td>1</td>\n",
       "      <td>19.3</td>\n",
       "      <td>14.3</td>\n",
       "      <td>87</td>\n",
       "    </tr>\n",
       "    <tr>\n",
       "      <td>4</td>\n",
       "      <td>5</td>\n",
       "      <td>1</td>\n",
       "      <td>9.4</td>\n",
       "      <td>3.5</td>\n",
       "      <td>81</td>\n",
       "    </tr>\n",
       "    <tr>\n",
       "      <td>...</td>\n",
       "      <td>...</td>\n",
       "      <td>...</td>\n",
       "      <td>...</td>\n",
       "      <td>...</td>\n",
       "      <td>...</td>\n",
       "    </tr>\n",
       "    <tr>\n",
       "      <td>90122</td>\n",
       "      <td>213</td>\n",
       "      <td>2008</td>\n",
       "      <td>25.8</td>\n",
       "      <td>13.5</td>\n",
       "      <td>2</td>\n",
       "    </tr>\n",
       "    <tr>\n",
       "      <td>90123</td>\n",
       "      <td>241</td>\n",
       "      <td>2008</td>\n",
       "      <td>14.2</td>\n",
       "      <td>5.7</td>\n",
       "      <td>3</td>\n",
       "    </tr>\n",
       "    <tr>\n",
       "      <td>90124</td>\n",
       "      <td>285</td>\n",
       "      <td>2008</td>\n",
       "      <td>21.0</td>\n",
       "      <td>6.0</td>\n",
       "      <td>2</td>\n",
       "    </tr>\n",
       "    <tr>\n",
       "      <td>90125</td>\n",
       "      <td>401</td>\n",
       "      <td>2008</td>\n",
       "      <td>22.1</td>\n",
       "      <td>12.7</td>\n",
       "      <td>1</td>\n",
       "    </tr>\n",
       "    <tr>\n",
       "      <td>90126</td>\n",
       "      <td>418</td>\n",
       "      <td>2008</td>\n",
       "      <td>24.0</td>\n",
       "      <td>11.0</td>\n",
       "      <td>3</td>\n",
       "    </tr>\n",
       "  </tbody>\n",
       "</table>\n",
       "<p>90127 rows × 5 columns</p>\n",
       "</div>"
      ],
      "text/plain": [
       "       date    id  T. Maxima  T.Minima  Movimientos\n",
       "0         0     1       11.7       1.4           21\n",
       "1         1     1       11.2       1.9            1\n",
       "2         2     1       26.5      14.0          144\n",
       "3         3     1       19.3      14.3           87\n",
       "4         5     1        9.4       3.5           81\n",
       "...     ...   ...        ...       ...          ...\n",
       "90122   213  2008       25.8      13.5            2\n",
       "90123   241  2008       14.2       5.7            3\n",
       "90124   285  2008       21.0       6.0            2\n",
       "90125   401  2008       22.1      12.7            1\n",
       "90126   418  2008       24.0      11.0            3\n",
       "\n",
       "[90127 rows x 5 columns]"
      ]
     },
     "execution_count": 112,
     "metadata": {},
     "output_type": "execute_result"
    }
   ],
   "source": [
    "data_bef_modelo = data_bef_modelo.rename(columns={\"_id\":\"Movimientos\", \"idunplug_station\":\"id\"})\n",
    "data_bef_modelo"
   ]
  },
  {
   "cell_type": "code",
   "execution_count": 113,
   "metadata": {},
   "outputs": [
    {
     "data": {
      "text/html": [
       "<div>\n",
       "<style scoped>\n",
       "    .dataframe tbody tr th:only-of-type {\n",
       "        vertical-align: middle;\n",
       "    }\n",
       "\n",
       "    .dataframe tbody tr th {\n",
       "        vertical-align: top;\n",
       "    }\n",
       "\n",
       "    .dataframe thead th {\n",
       "        text-align: right;\n",
       "    }\n",
       "</style>\n",
       "<table border=\"1\" class=\"dataframe\">\n",
       "  <thead>\n",
       "    <tr style=\"text-align: right;\">\n",
       "      <th></th>\n",
       "      <th>date</th>\n",
       "      <th>id</th>\n",
       "      <th>T. Maxima</th>\n",
       "      <th>T.Minima</th>\n",
       "      <th>Movimientos</th>\n",
       "      <th>latitude</th>\n",
       "      <th>longitude</th>\n",
       "    </tr>\n",
       "  </thead>\n",
       "  <tbody>\n",
       "    <tr>\n",
       "      <td>0</td>\n",
       "      <td>0</td>\n",
       "      <td>1</td>\n",
       "      <td>11.7</td>\n",
       "      <td>1.4</td>\n",
       "      <td>21</td>\n",
       "      <td>40.417191</td>\n",
       "      <td>-3.701814</td>\n",
       "    </tr>\n",
       "    <tr>\n",
       "      <td>1</td>\n",
       "      <td>1</td>\n",
       "      <td>1</td>\n",
       "      <td>11.2</td>\n",
       "      <td>1.9</td>\n",
       "      <td>1</td>\n",
       "      <td>40.417191</td>\n",
       "      <td>-3.701814</td>\n",
       "    </tr>\n",
       "    <tr>\n",
       "      <td>2</td>\n",
       "      <td>2</td>\n",
       "      <td>1</td>\n",
       "      <td>26.5</td>\n",
       "      <td>14.0</td>\n",
       "      <td>144</td>\n",
       "      <td>40.417191</td>\n",
       "      <td>-3.701814</td>\n",
       "    </tr>\n",
       "    <tr>\n",
       "      <td>3</td>\n",
       "      <td>3</td>\n",
       "      <td>1</td>\n",
       "      <td>19.3</td>\n",
       "      <td>14.3</td>\n",
       "      <td>87</td>\n",
       "      <td>40.417191</td>\n",
       "      <td>-3.701814</td>\n",
       "    </tr>\n",
       "    <tr>\n",
       "      <td>4</td>\n",
       "      <td>5</td>\n",
       "      <td>1</td>\n",
       "      <td>9.4</td>\n",
       "      <td>3.5</td>\n",
       "      <td>81</td>\n",
       "      <td>40.417191</td>\n",
       "      <td>-3.701814</td>\n",
       "    </tr>\n",
       "    <tr>\n",
       "      <td>...</td>\n",
       "      <td>...</td>\n",
       "      <td>...</td>\n",
       "      <td>...</td>\n",
       "      <td>...</td>\n",
       "      <td>...</td>\n",
       "      <td>...</td>\n",
       "      <td>...</td>\n",
       "    </tr>\n",
       "    <tr>\n",
       "      <td>90122</td>\n",
       "      <td>213</td>\n",
       "      <td>2008</td>\n",
       "      <td>25.8</td>\n",
       "      <td>13.5</td>\n",
       "      <td>2</td>\n",
       "      <td>NaN</td>\n",
       "      <td>NaN</td>\n",
       "    </tr>\n",
       "    <tr>\n",
       "      <td>90123</td>\n",
       "      <td>241</td>\n",
       "      <td>2008</td>\n",
       "      <td>14.2</td>\n",
       "      <td>5.7</td>\n",
       "      <td>3</td>\n",
       "      <td>NaN</td>\n",
       "      <td>NaN</td>\n",
       "    </tr>\n",
       "    <tr>\n",
       "      <td>90124</td>\n",
       "      <td>285</td>\n",
       "      <td>2008</td>\n",
       "      <td>21.0</td>\n",
       "      <td>6.0</td>\n",
       "      <td>2</td>\n",
       "      <td>NaN</td>\n",
       "      <td>NaN</td>\n",
       "    </tr>\n",
       "    <tr>\n",
       "      <td>90125</td>\n",
       "      <td>401</td>\n",
       "      <td>2008</td>\n",
       "      <td>22.1</td>\n",
       "      <td>12.7</td>\n",
       "      <td>1</td>\n",
       "      <td>NaN</td>\n",
       "      <td>NaN</td>\n",
       "    </tr>\n",
       "    <tr>\n",
       "      <td>90126</td>\n",
       "      <td>418</td>\n",
       "      <td>2008</td>\n",
       "      <td>24.0</td>\n",
       "      <td>11.0</td>\n",
       "      <td>3</td>\n",
       "      <td>NaN</td>\n",
       "      <td>NaN</td>\n",
       "    </tr>\n",
       "  </tbody>\n",
       "</table>\n",
       "<p>90127 rows × 7 columns</p>\n",
       "</div>"
      ],
      "text/plain": [
       "       date    id  T. Maxima  T.Minima  Movimientos   latitude  longitude\n",
       "0         0     1       11.7       1.4           21  40.417191  -3.701814\n",
       "1         1     1       11.2       1.9            1  40.417191  -3.701814\n",
       "2         2     1       26.5      14.0          144  40.417191  -3.701814\n",
       "3         3     1       19.3      14.3           87  40.417191  -3.701814\n",
       "4         5     1        9.4       3.5           81  40.417191  -3.701814\n",
       "...     ...   ...        ...       ...          ...        ...        ...\n",
       "90122   213  2008       25.8      13.5            2        NaN        NaN\n",
       "90123   241  2008       14.2       5.7            3        NaN        NaN\n",
       "90124   285  2008       21.0       6.0            2        NaN        NaN\n",
       "90125   401  2008       22.1      12.7            1        NaN        NaN\n",
       "90126   418  2008       24.0      11.0            3        NaN        NaN\n",
       "\n",
       "[90127 rows x 7 columns]"
      ]
     },
     "execution_count": 113,
     "metadata": {},
     "output_type": "execute_result"
    }
   ],
   "source": [
    "data_full_bef = pd.merge(data_bef_modelo, estaciones_agg, on=\"id\", how= 'left')\n",
    "data_full_bef"
   ]
  },
  {
   "cell_type": "code",
   "execution_count": 114,
   "metadata": {},
   "outputs": [],
   "source": [
    "# Elimino los datos de las estaciones de las que no se dispone latitud y longitud para el mes Jun20\n",
    "data_clean_bef = data_full_bef.dropna()"
   ]
  },
  {
   "cell_type": "code",
   "execution_count": 115,
   "metadata": {},
   "outputs": [
    {
     "data": {
      "text/html": [
       "<div>\n",
       "<style scoped>\n",
       "    .dataframe tbody tr th:only-of-type {\n",
       "        vertical-align: middle;\n",
       "    }\n",
       "\n",
       "    .dataframe tbody tr th {\n",
       "        vertical-align: top;\n",
       "    }\n",
       "\n",
       "    .dataframe thead th {\n",
       "        text-align: right;\n",
       "    }\n",
       "</style>\n",
       "<table border=\"1\" class=\"dataframe\">\n",
       "  <thead>\n",
       "    <tr style=\"text-align: right;\">\n",
       "      <th></th>\n",
       "      <th>date</th>\n",
       "      <th>id</th>\n",
       "      <th>T. Maxima</th>\n",
       "      <th>T.Minima</th>\n",
       "      <th>Movimientos</th>\n",
       "      <th>latitude</th>\n",
       "      <th>longitude</th>\n",
       "    </tr>\n",
       "  </thead>\n",
       "  <tbody>\n",
       "    <tr>\n",
       "      <td>0</td>\n",
       "      <td>0</td>\n",
       "      <td>1</td>\n",
       "      <td>11.7</td>\n",
       "      <td>1.4</td>\n",
       "      <td>21</td>\n",
       "      <td>40.417191</td>\n",
       "      <td>-3.701814</td>\n",
       "    </tr>\n",
       "    <tr>\n",
       "      <td>1</td>\n",
       "      <td>1</td>\n",
       "      <td>1</td>\n",
       "      <td>11.2</td>\n",
       "      <td>1.9</td>\n",
       "      <td>1</td>\n",
       "      <td>40.417191</td>\n",
       "      <td>-3.701814</td>\n",
       "    </tr>\n",
       "    <tr>\n",
       "      <td>2</td>\n",
       "      <td>2</td>\n",
       "      <td>1</td>\n",
       "      <td>26.5</td>\n",
       "      <td>14.0</td>\n",
       "      <td>144</td>\n",
       "      <td>40.417191</td>\n",
       "      <td>-3.701814</td>\n",
       "    </tr>\n",
       "    <tr>\n",
       "      <td>3</td>\n",
       "      <td>3</td>\n",
       "      <td>1</td>\n",
       "      <td>19.3</td>\n",
       "      <td>14.3</td>\n",
       "      <td>87</td>\n",
       "      <td>40.417191</td>\n",
       "      <td>-3.701814</td>\n",
       "    </tr>\n",
       "    <tr>\n",
       "      <td>4</td>\n",
       "      <td>5</td>\n",
       "      <td>1</td>\n",
       "      <td>9.4</td>\n",
       "      <td>3.5</td>\n",
       "      <td>81</td>\n",
       "      <td>40.417191</td>\n",
       "      <td>-3.701814</td>\n",
       "    </tr>\n",
       "    <tr>\n",
       "      <td>...</td>\n",
       "      <td>...</td>\n",
       "      <td>...</td>\n",
       "      <td>...</td>\n",
       "      <td>...</td>\n",
       "      <td>...</td>\n",
       "      <td>...</td>\n",
       "      <td>...</td>\n",
       "    </tr>\n",
       "    <tr>\n",
       "      <td>90115</td>\n",
       "      <td>465</td>\n",
       "      <td>219</td>\n",
       "      <td>16.5</td>\n",
       "      <td>7.7</td>\n",
       "      <td>56</td>\n",
       "      <td>40.420590</td>\n",
       "      <td>-3.702390</td>\n",
       "    </tr>\n",
       "    <tr>\n",
       "      <td>90116</td>\n",
       "      <td>468</td>\n",
       "      <td>219</td>\n",
       "      <td>23.2</td>\n",
       "      <td>13.0</td>\n",
       "      <td>18</td>\n",
       "      <td>40.420590</td>\n",
       "      <td>-3.702390</td>\n",
       "    </tr>\n",
       "    <tr>\n",
       "      <td>90117</td>\n",
       "      <td>470</td>\n",
       "      <td>219</td>\n",
       "      <td>23.8</td>\n",
       "      <td>10.8</td>\n",
       "      <td>51</td>\n",
       "      <td>40.420590</td>\n",
       "      <td>-3.702390</td>\n",
       "    </tr>\n",
       "    <tr>\n",
       "      <td>90118</td>\n",
       "      <td>472</td>\n",
       "      <td>219</td>\n",
       "      <td>31.4</td>\n",
       "      <td>21.8</td>\n",
       "      <td>14</td>\n",
       "      <td>40.420590</td>\n",
       "      <td>-3.702390</td>\n",
       "    </tr>\n",
       "    <tr>\n",
       "      <td>90119</td>\n",
       "      <td>473</td>\n",
       "      <td>219</td>\n",
       "      <td>29.8</td>\n",
       "      <td>16.5</td>\n",
       "      <td>39</td>\n",
       "      <td>40.420590</td>\n",
       "      <td>-3.702390</td>\n",
       "    </tr>\n",
       "  </tbody>\n",
       "</table>\n",
       "<p>90120 rows × 7 columns</p>\n",
       "</div>"
      ],
      "text/plain": [
       "       date   id  T. Maxima  T.Minima  Movimientos   latitude  longitude\n",
       "0         0    1       11.7       1.4           21  40.417191  -3.701814\n",
       "1         1    1       11.2       1.9            1  40.417191  -3.701814\n",
       "2         2    1       26.5      14.0          144  40.417191  -3.701814\n",
       "3         3    1       19.3      14.3           87  40.417191  -3.701814\n",
       "4         5    1        9.4       3.5           81  40.417191  -3.701814\n",
       "...     ...  ...        ...       ...          ...        ...        ...\n",
       "90115   465  219       16.5       7.7           56  40.420590  -3.702390\n",
       "90116   468  219       23.2      13.0           18  40.420590  -3.702390\n",
       "90117   470  219       23.8      10.8           51  40.420590  -3.702390\n",
       "90118   472  219       31.4      21.8           14  40.420590  -3.702390\n",
       "90119   473  219       29.8      16.5           39  40.420590  -3.702390\n",
       "\n",
       "[90120 rows x 7 columns]"
      ]
     },
     "execution_count": 115,
     "metadata": {},
     "output_type": "execute_result"
    }
   ],
   "source": [
    "data_clean_bef"
   ]
  },
  {
   "cell_type": "code",
   "execution_count": 116,
   "metadata": {},
   "outputs": [],
   "source": [
    "X = data_clean_bef.drop(columns='Movimientos').values\n",
    "y = data_clean_bef.Movimientos.values"
   ]
  },
  {
   "cell_type": "code",
   "execution_count": 117,
   "metadata": {},
   "outputs": [],
   "source": [
    "X_train, X_test, y_train, y_test = train_test_split(X, y , test_size=0.3, random_state=21)"
   ]
  },
  {
   "cell_type": "code",
   "execution_count": 118,
   "metadata": {},
   "outputs": [],
   "source": [
    "steps = [('scaler', StandardScaler()),\n",
    "        ('xgb', GradientBoostingRegressor(n_estimators=100))]\n",
    "pipeline = Pipeline(steps)\n",
    "model5 = pipeline.fit(X_train, y_train)\n",
    "y_pred5 = model5.predict(X_test)"
   ]
  },
  {
   "cell_type": "code",
   "execution_count": 119,
   "metadata": {},
   "outputs": [
    {
     "data": {
      "text/plain": [
       "0.4661639590942216"
      ]
     },
     "execution_count": 119,
     "metadata": {},
     "output_type": "execute_result"
    }
   ],
   "source": [
    "r2_score(y_test, y_pred5, multioutput='variance_weighted')\n",
    "# Incorporando latitud y longitud sube a 0.47. Aún así es un modelo bastante pobre..."
   ]
  },
  {
   "cell_type": "code",
   "execution_count": 120,
   "metadata": {},
   "outputs": [],
   "source": [
    "# Valorando la incorporación de otras variables externas y realización de feature engineering..."
   ]
  },
  {
   "cell_type": "code",
   "execution_count": 121,
   "metadata": {},
   "outputs": [],
   "source": [
    "# En proceso de más pruebas..."
   ]
  }
 ],
 "metadata": {
  "kernelspec": {
   "display_name": "Python 3",
   "language": "python",
   "name": "python3"
  },
  "language_info": {
   "codemirror_mode": {
    "name": "ipython",
    "version": 3
   },
   "file_extension": ".py",
   "mimetype": "text/x-python",
   "name": "python",
   "nbconvert_exporter": "python",
   "pygments_lexer": "ipython3",
   "version": "3.7.4"
  }
 },
 "nbformat": 4,
 "nbformat_minor": 2
}
